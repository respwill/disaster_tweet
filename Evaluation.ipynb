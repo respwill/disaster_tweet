{
  "nbformat": 4,
  "nbformat_minor": 0,
  "metadata": {
    "colab": {
      "provenance": [],
      "mount_file_id": "19GNYS5IttSf71uHGWWheUBU96Upnej36",
      "authorship_tag": "ABX9TyO99L/uYobPPa7eQUUXtuf4",
      "include_colab_link": true
    },
    "kernelspec": {
      "name": "python3",
      "display_name": "Python 3"
    },
    "language_info": {
      "name": "python"
    },
    "widgets": {
      "application/vnd.jupyter.widget-state+json": {
        "465beb28e2744bdcb1fa2b425bb9b196": {
          "model_module": "@jupyter-widgets/controls",
          "model_name": "HBoxModel",
          "model_module_version": "1.5.0",
          "state": {
            "_dom_classes": [],
            "_model_module": "@jupyter-widgets/controls",
            "_model_module_version": "1.5.0",
            "_model_name": "HBoxModel",
            "_view_count": null,
            "_view_module": "@jupyter-widgets/controls",
            "_view_module_version": "1.5.0",
            "_view_name": "HBoxView",
            "box_style": "",
            "children": [
              "IPY_MODEL_4141d6012ef64e6abc7abd8cbba95456",
              "IPY_MODEL_6d7b7d75ae084d178c8bd536a70ba1ac",
              "IPY_MODEL_9d3ff53e1c16493f8980f444550ea861"
            ],
            "layout": "IPY_MODEL_07424dbf27bb4a979e867e10a31407f9"
          }
        },
        "4141d6012ef64e6abc7abd8cbba95456": {
          "model_module": "@jupyter-widgets/controls",
          "model_name": "HTMLModel",
          "model_module_version": "1.5.0",
          "state": {
            "_dom_classes": [],
            "_model_module": "@jupyter-widgets/controls",
            "_model_module_version": "1.5.0",
            "_model_name": "HTMLModel",
            "_view_count": null,
            "_view_module": "@jupyter-widgets/controls",
            "_view_module_version": "1.5.0",
            "_view_name": "HTMLView",
            "description": "",
            "description_tooltip": null,
            "layout": "IPY_MODEL_394a6255310946ecb77a66239407db36",
            "placeholder": "​",
            "style": "IPY_MODEL_f8f75513862842b19bd2e75c6ffd2500",
            "value": "Predicting DataLoader 0: 100%"
          }
        },
        "6d7b7d75ae084d178c8bd536a70ba1ac": {
          "model_module": "@jupyter-widgets/controls",
          "model_name": "FloatProgressModel",
          "model_module_version": "1.5.0",
          "state": {
            "_dom_classes": [],
            "_model_module": "@jupyter-widgets/controls",
            "_model_module_version": "1.5.0",
            "_model_name": "FloatProgressModel",
            "_view_count": null,
            "_view_module": "@jupyter-widgets/controls",
            "_view_module_version": "1.5.0",
            "_view_name": "ProgressView",
            "bar_style": "success",
            "description": "",
            "description_tooltip": null,
            "layout": "IPY_MODEL_89af8722021948d3803e5d86f8c51c17",
            "max": 48,
            "min": 0,
            "orientation": "horizontal",
            "style": "IPY_MODEL_2009f58b8b704c43891f74f2b4f3284a",
            "value": 48
          }
        },
        "9d3ff53e1c16493f8980f444550ea861": {
          "model_module": "@jupyter-widgets/controls",
          "model_name": "HTMLModel",
          "model_module_version": "1.5.0",
          "state": {
            "_dom_classes": [],
            "_model_module": "@jupyter-widgets/controls",
            "_model_module_version": "1.5.0",
            "_model_name": "HTMLModel",
            "_view_count": null,
            "_view_module": "@jupyter-widgets/controls",
            "_view_module_version": "1.5.0",
            "_view_name": "HTMLView",
            "description": "",
            "description_tooltip": null,
            "layout": "IPY_MODEL_c4519711dd324986af9e0338b1737975",
            "placeholder": "​",
            "style": "IPY_MODEL_83a1a5c03cd34f289cfb67a6f03402aa",
            "value": " 48/48 [17:17&lt;00:00,  0.05it/s]"
          }
        },
        "07424dbf27bb4a979e867e10a31407f9": {
          "model_module": "@jupyter-widgets/base",
          "model_name": "LayoutModel",
          "model_module_version": "1.2.0",
          "state": {
            "_model_module": "@jupyter-widgets/base",
            "_model_module_version": "1.2.0",
            "_model_name": "LayoutModel",
            "_view_count": null,
            "_view_module": "@jupyter-widgets/base",
            "_view_module_version": "1.2.0",
            "_view_name": "LayoutView",
            "align_content": null,
            "align_items": null,
            "align_self": null,
            "border": null,
            "bottom": null,
            "display": "inline-flex",
            "flex": null,
            "flex_flow": "row wrap",
            "grid_area": null,
            "grid_auto_columns": null,
            "grid_auto_flow": null,
            "grid_auto_rows": null,
            "grid_column": null,
            "grid_gap": null,
            "grid_row": null,
            "grid_template_areas": null,
            "grid_template_columns": null,
            "grid_template_rows": null,
            "height": null,
            "justify_content": null,
            "justify_items": null,
            "left": null,
            "margin": null,
            "max_height": null,
            "max_width": null,
            "min_height": null,
            "min_width": null,
            "object_fit": null,
            "object_position": null,
            "order": null,
            "overflow": null,
            "overflow_x": null,
            "overflow_y": null,
            "padding": null,
            "right": null,
            "top": null,
            "visibility": null,
            "width": "100%"
          }
        },
        "394a6255310946ecb77a66239407db36": {
          "model_module": "@jupyter-widgets/base",
          "model_name": "LayoutModel",
          "model_module_version": "1.2.0",
          "state": {
            "_model_module": "@jupyter-widgets/base",
            "_model_module_version": "1.2.0",
            "_model_name": "LayoutModel",
            "_view_count": null,
            "_view_module": "@jupyter-widgets/base",
            "_view_module_version": "1.2.0",
            "_view_name": "LayoutView",
            "align_content": null,
            "align_items": null,
            "align_self": null,
            "border": null,
            "bottom": null,
            "display": null,
            "flex": null,
            "flex_flow": null,
            "grid_area": null,
            "grid_auto_columns": null,
            "grid_auto_flow": null,
            "grid_auto_rows": null,
            "grid_column": null,
            "grid_gap": null,
            "grid_row": null,
            "grid_template_areas": null,
            "grid_template_columns": null,
            "grid_template_rows": null,
            "height": null,
            "justify_content": null,
            "justify_items": null,
            "left": null,
            "margin": null,
            "max_height": null,
            "max_width": null,
            "min_height": null,
            "min_width": null,
            "object_fit": null,
            "object_position": null,
            "order": null,
            "overflow": null,
            "overflow_x": null,
            "overflow_y": null,
            "padding": null,
            "right": null,
            "top": null,
            "visibility": null,
            "width": null
          }
        },
        "f8f75513862842b19bd2e75c6ffd2500": {
          "model_module": "@jupyter-widgets/controls",
          "model_name": "DescriptionStyleModel",
          "model_module_version": "1.5.0",
          "state": {
            "_model_module": "@jupyter-widgets/controls",
            "_model_module_version": "1.5.0",
            "_model_name": "DescriptionStyleModel",
            "_view_count": null,
            "_view_module": "@jupyter-widgets/base",
            "_view_module_version": "1.2.0",
            "_view_name": "StyleView",
            "description_width": ""
          }
        },
        "89af8722021948d3803e5d86f8c51c17": {
          "model_module": "@jupyter-widgets/base",
          "model_name": "LayoutModel",
          "model_module_version": "1.2.0",
          "state": {
            "_model_module": "@jupyter-widgets/base",
            "_model_module_version": "1.2.0",
            "_model_name": "LayoutModel",
            "_view_count": null,
            "_view_module": "@jupyter-widgets/base",
            "_view_module_version": "1.2.0",
            "_view_name": "LayoutView",
            "align_content": null,
            "align_items": null,
            "align_self": null,
            "border": null,
            "bottom": null,
            "display": null,
            "flex": "2",
            "flex_flow": null,
            "grid_area": null,
            "grid_auto_columns": null,
            "grid_auto_flow": null,
            "grid_auto_rows": null,
            "grid_column": null,
            "grid_gap": null,
            "grid_row": null,
            "grid_template_areas": null,
            "grid_template_columns": null,
            "grid_template_rows": null,
            "height": null,
            "justify_content": null,
            "justify_items": null,
            "left": null,
            "margin": null,
            "max_height": null,
            "max_width": null,
            "min_height": null,
            "min_width": null,
            "object_fit": null,
            "object_position": null,
            "order": null,
            "overflow": null,
            "overflow_x": null,
            "overflow_y": null,
            "padding": null,
            "right": null,
            "top": null,
            "visibility": null,
            "width": null
          }
        },
        "2009f58b8b704c43891f74f2b4f3284a": {
          "model_module": "@jupyter-widgets/controls",
          "model_name": "ProgressStyleModel",
          "model_module_version": "1.5.0",
          "state": {
            "_model_module": "@jupyter-widgets/controls",
            "_model_module_version": "1.5.0",
            "_model_name": "ProgressStyleModel",
            "_view_count": null,
            "_view_module": "@jupyter-widgets/base",
            "_view_module_version": "1.2.0",
            "_view_name": "StyleView",
            "bar_color": null,
            "description_width": ""
          }
        },
        "c4519711dd324986af9e0338b1737975": {
          "model_module": "@jupyter-widgets/base",
          "model_name": "LayoutModel",
          "model_module_version": "1.2.0",
          "state": {
            "_model_module": "@jupyter-widgets/base",
            "_model_module_version": "1.2.0",
            "_model_name": "LayoutModel",
            "_view_count": null,
            "_view_module": "@jupyter-widgets/base",
            "_view_module_version": "1.2.0",
            "_view_name": "LayoutView",
            "align_content": null,
            "align_items": null,
            "align_self": null,
            "border": null,
            "bottom": null,
            "display": null,
            "flex": null,
            "flex_flow": null,
            "grid_area": null,
            "grid_auto_columns": null,
            "grid_auto_flow": null,
            "grid_auto_rows": null,
            "grid_column": null,
            "grid_gap": null,
            "grid_row": null,
            "grid_template_areas": null,
            "grid_template_columns": null,
            "grid_template_rows": null,
            "height": null,
            "justify_content": null,
            "justify_items": null,
            "left": null,
            "margin": null,
            "max_height": null,
            "max_width": null,
            "min_height": null,
            "min_width": null,
            "object_fit": null,
            "object_position": null,
            "order": null,
            "overflow": null,
            "overflow_x": null,
            "overflow_y": null,
            "padding": null,
            "right": null,
            "top": null,
            "visibility": null,
            "width": null
          }
        },
        "83a1a5c03cd34f289cfb67a6f03402aa": {
          "model_module": "@jupyter-widgets/controls",
          "model_name": "DescriptionStyleModel",
          "model_module_version": "1.5.0",
          "state": {
            "_model_module": "@jupyter-widgets/controls",
            "_model_module_version": "1.5.0",
            "_model_name": "DescriptionStyleModel",
            "_view_count": null,
            "_view_module": "@jupyter-widgets/base",
            "_view_module_version": "1.2.0",
            "_view_name": "StyleView",
            "description_width": ""
          }
        }
      }
    }
  },
  "cells": [
    {
      "cell_type": "markdown",
      "metadata": {
        "id": "view-in-github",
        "colab_type": "text"
      },
      "source": [
        "<a href=\"https://colab.research.google.com/github/respwill/disaster_tweet/blob/main/Evaluation.ipynb\" target=\"_parent\"><img src=\"https://colab.research.google.com/assets/colab-badge.svg\" alt=\"Open In Colab\"/></a>"
      ]
    },
    {
      "cell_type": "code",
      "source": [
        "!pip install torchmetrics -q\n",
        "!pip install transformers -q\n",
        "!pip install ray[tune] -q\n",
        "!pip install wandb -q\n",
        "!pip install lightning -q\n",
        "!pip install contractions -q\n",
        "!pip install unidecode -q"
      ],
      "metadata": {
        "id": "YOH1KvEI47oU"
      },
      "execution_count": null,
      "outputs": []
    },
    {
      "cell_type": "code",
      "source": [
        "import wandb\n",
        "import contractions\n",
        "from bs4 import BeautifulSoup\n",
        "import pandas as pd\n",
        "import torch\n",
        "from torch.utils.data import Dataset\n",
        "\n",
        "from unidecode import unidecode\n",
        "import string\n",
        "from nltk.corpus import stopwords\n",
        "from nltk.stem import WordNetLemmatizer\n",
        "import re\n",
        "import nltk\n",
        "from transformers import T5ForConditionalGeneration, T5Tokenizer, get_linear_schedule_with_warmup, AutoTokenizer, AutoModelForSequenceClassification, AutoConfig\n",
        "import lightning as pl"
      ],
      "metadata": {
        "id": "aOH0BuxD42qS"
      },
      "execution_count": null,
      "outputs": []
    },
    {
      "cell_type": "code",
      "source": [
        "wandb.init(\n",
        "      mode='disabled',\n",
        "      project=\"disaster_tweet_classification2\",\n",
        "      name=f\"Test46\",\n",
        "      config={\n",
        "      \"learning_rate\": 0.00001,\n",
        "      \"data_size\": 1,\n",
        "      \"batch_size\":32,\n",
        "      \"epochs\":30,\n",
        "      \"weight_decay\":1e-3,\n",
        "       \"model_name\":\"t5-base\"\n",
        "      })"
      ],
      "metadata": {
        "colab": {
          "base_uri": "https://localhost:8080/",
          "height": 17
        },
        "id": "sfmmgYR_vuVs",
        "outputId": "4d369a8c-8708-4b93-a07e-c6ea5ef8d65a"
      },
      "execution_count": null,
      "outputs": [
        {
          "output_type": "execute_result",
          "data": {
            "text/plain": [],
            "application/vnd.google.colaboratory.intrinsic+json": {
              "type": "string"
            }
          },
          "metadata": {},
          "execution_count": 3
        }
      ]
    },
    {
      "cell_type": "code",
      "source": [
        "nltk.download('stopwords')\n",
        "nltk.download('wordnet')\n",
        "\n",
        "class textDataset(Dataset):\n",
        "    def __init__(self, texts, labels, tokenizer, max_length, train_flag=True):\n",
        "        # self.tweets = pd.read_csv(data_dir)\n",
        "        # self.tokenizer = AutoTokenizer.from_pretrained(wandb.config['model_name'])\n",
        "        self.stop_words = set(stopwords.words('english'))\n",
        "        self.lemmatizer = WordNetLemmatizer()\n",
        "        # self.tweets = pd.read_csv(data_dir)\n",
        "\n",
        "        self.texts = texts\n",
        "        self.labels = labels\n",
        "        self.tokenizer = tokenizer\n",
        "        self.max_length = max_length\n",
        "        self.tweet = pd.DataFrame()\n",
        "        self.tweet['tweet'] = self.texts\n",
        "\n",
        "        # if train_flag:\n",
        "        #     self.tweets['target'] = self.tweets['target'].astype(int)\n",
        "        #     label_1 = self.tweets[self.tweets['target'] == 1]\n",
        "        #     label_0 = self.tweets[self.tweets['target'] == 0]\n",
        "        #     label_0 = label_0.sample(n=len(label_1), random_state=42)\n",
        "        #     data = pd.concat([label_0, label_1])\n",
        "        #     self.tweets = data.sample(frac=1, random_state=42)\n",
        "\n",
        "        # self.tweets['keyword'] = self.tweets['keyword'].fillna('')\n",
        "        # self.tweets['tweet'] = self.tweets['keyword'] + ' ' + self.tweets['text']\n",
        "        self.tweets = self.text_preprocessing(self.texts)\n",
        "        self.tweets['target'] = self.labels\n",
        "        self.tokenizer = AutoTokenizer.from_pretrained(wandb.config['model_name'])\n",
        "\n",
        "    def rem_urls(self, data):\n",
        "        regex = re.compile(f\"https?://(www\\.)?(\\w+)(\\.\\w+)(/\\w*)?\")\n",
        "        data = re.sub(regex, \"\", data)\n",
        "        return data\n",
        "\n",
        "    def rem_emails(self, data):\n",
        "        regex = re.compile(\"([A-Za-z0-9]+[.-_])*[A-Za-z0-9]+@[A-Za-z0-9-]+(\\.[A-Z|a-z]{2,})+\")\n",
        "        data = re.sub(regex, \"\", data)\n",
        "        return data\n",
        "\n",
        "    def rem_mention(self, data):\n",
        "        regex = re.compile('@\\w+')\n",
        "        data = re.sub(regex, '', data)\n",
        "        return data\n",
        "\n",
        "    def rem_accent(self, data):\n",
        "        data = unidecode(data)\n",
        "        return data\n",
        "\n",
        "    def rem_unicode(self, data):\n",
        "        data = data.encode(\"ascii\", \"ignore\").decode()\n",
        "        return data\n",
        "\n",
        "    def rem_punc(self, data):\n",
        "        data = re.sub(f\"[{string.punctuation}]\", \" \", data)\n",
        "        return data\n",
        "\n",
        "    def clean_numbers(self, data):\n",
        "        data = re.sub('[0-9]{5,}', '#'*5, data)\n",
        "        data = re.sub('[0-9]{4}', '#'*4, data)\n",
        "        data = re.sub('[0-9]{3}', '#'*3, data)\n",
        "        data = re.sub('[0-9]{2}', '#'*2, data)\n",
        "        return data\n",
        "\n",
        "\n",
        "    def rem_stopwords(self, data):\n",
        "        return \" \".join([word for word in str(data).split() if word not in self.stop_words])\n",
        "\n",
        "    def rem_extra_space(self, data):\n",
        "        data = re.sub(' +', ' ', data).strip()\n",
        "        return data\n",
        "\n",
        "\n",
        "    def lemmatize_data(self, data):\n",
        "        words = [self.lemmatizer.lemmatize(word) for word in data.split()]\n",
        "        data = ' '.join(words)\n",
        "        return data\n",
        "\n",
        "    def text_preprocessing(self, data):\n",
        "        data.loc[:,'tweet'] = data['tweet'].str.lower()\n",
        "        data.loc[:,'tweet'] = data['tweet'].apply(contractions.fix)\n",
        "        data.loc[:,'tweet'] = data['tweet'].apply(self.rem_urls)\n",
        "        data.loc[:,'tweet'] = data['tweet'].apply(self.rem_emails)\n",
        "        data.loc[:,'tweet'] = data['tweet'].apply(lambda x: BeautifulSoup(x).get_text())\n",
        "        data.loc[:,'tweet'] = data['tweet'].apply(self.rem_mention)\n",
        "        data.loc[:,'tweet'] = data['tweet'].str.replace(':\\(', 'sadness ')\n",
        "        data.loc[:,'tweet'] = data['tweet'].str.replace(r':\\)[$|\\s]*', 'happiness ')\n",
        "        data.loc[:,'tweet'] = data['tweet'].str.replace(r'\\;\\)[$|\\s]*', 'happiness ')\n",
        "        data.loc[:,'tweet'] = data['tweet'].apply(self.rem_accent)\n",
        "        data.loc[:,'tweet'] = data['tweet'].apply(self.rem_unicode)\n",
        "        data.loc[:,'tweet'] = data['tweet'].apply(self.rem_punc)\n",
        "        data.loc[:,'tweet'] = data['tweet'].apply(self.clean_numbers)\n",
        "        data.loc[:,'tweet'] = data['tweet'].apply(self.rem_stopwords)\n",
        "        data.loc[:,'tweet'] = data['tweet'].apply(self.rem_extra_space)\n",
        "        data.loc[:,'tweet'] = data['tweet'].apply(self.lemmatize_data)\n",
        "\n",
        "        return data\n",
        "\n",
        "    def __len__(self):\n",
        "        return len(self.tweets)\n",
        "\n",
        "    def __getitem__(self, idx):\n",
        "        # input\n",
        "        text_idx = self.tweets.columns.tolist().index('tweet')\n",
        "        self.tweets.iloc[idx, [text_idx]] = self.tweets.iloc[idx, [text_idx]].apply(lambda x: 'Classify it either disaster or non-disaster: ' + x)\n",
        "        text = self.tweets.iloc[idx, text_idx]\n",
        "        encoding = self.tokenizer([text], return_tensors=\"pt\", max_length=128, padding=\"max_length\", truncation=True)\n",
        "        input_ids = encoding['input_ids'].flatten()\n",
        "        attention_mask = encoding['attention_mask'].flatten()\n",
        "\n",
        "        # output\n",
        "        label_idx = self.tweets.columns.tolist().index('target')\n",
        "        label = self.tweets.iloc[idx, label_idx]\n",
        "        # targets = self.tokenizer(label, return_tensors=\"pt\", max_length=128, pad_to_max_length=True)\n",
        "        targets = self.tokenizer([label], return_tensors=\"pt\", max_length=64, padding=\"max_length\", truncation=True)\n",
        "        labels = targets['input_ids'].flatten()\n",
        "        label_attention_mask = targets['attention_mask'].flatten()\n",
        "\n",
        "        return {'input_ids':input_ids, 'attention_mask':attention_mask, 'labels_ids':labels, 'label_attention_mask':label_attention_mask,  'true_label':label}"
      ],
      "metadata": {
        "colab": {
          "base_uri": "https://localhost:8080/"
        },
        "id": "w619Z3tF4zE6",
        "outputId": "4b825de0-2046-4f40-a488-294a6cd0b990"
      },
      "execution_count": null,
      "outputs": [
        {
          "output_type": "stream",
          "name": "stderr",
          "text": [
            "[nltk_data] Downloading package stopwords to /root/nltk_data...\n",
            "[nltk_data]   Package stopwords is already up-to-date!\n",
            "[nltk_data] Downloading package wordnet to /root/nltk_data...\n",
            "[nltk_data]   Package wordnet is already up-to-date!\n"
          ]
        }
      ]
    },
    {
      "cell_type": "code",
      "source": [
        "class textClassifier(pl.LightningModule):\n",
        "    def __init__(self, vocab_size=10_000, learning_rate=3e-4, cosine_t_max=100):\n",
        "        super().__init__()\n",
        "        self.save_hyperparameters()\n",
        "        self.config = AutoConfig.from_pretrained(wandb.config['model_name'])\n",
        "        self.config.num_labels = 1\n",
        "        self.config.cosine_t_max = cosine_t_max\n",
        "        self.model = T5ForConditionalGeneration.from_pretrained(wandb.config['model_name'])\n",
        "        self.tokenizer = T5Tokenizer.from_pretrained(wandb.config['model_name'])\n",
        "\n",
        "    def forward(self, input_ids, attention_mask=None, decoder_input_ids=None, decoder_attention_mask=None, labels=None):\n",
        "        return self.model(input_ids,\n",
        "        attention_mask=attention_mask,\n",
        "        decoder_input_ids=decoder_input_ids,\n",
        "        decoder_attention_mask=decoder_attention_mask,\n",
        "        labels=labels)\n",
        "\n",
        "    def _shared_step(self, batch):\n",
        "        # lm_labels = batch[\"labels_ids\"]\n",
        "        # lm_labels[lm_labels[:, :] == self.tokenizer.pad_token_id] = -100\n",
        "\n",
        "        # outputs = self(\n",
        "        #     input_ids=batch[\"input_ids\"],\n",
        "        #     attention_mask=batch[\"attention_mask\"],\n",
        "        #     labels=lm_labels,\n",
        "        #     decoder_attention_mask=batch['label_attention_mask'])\n",
        "\n",
        "\n",
        "    #     loss = outputs[0]\n",
        "\n",
        "        # pred = self.model.generate(batch[\"input_ids\"], max_new_tokens=20, num_return_sequences=1, output_scores=True, return_dict_in_generate=True)\n",
        "        pred = self.model.generate(batch[\"input_ids\"], max_new_tokens=20)\n",
        "        # print(\"Pred\")\n",
        "        # print(pred.keys())\n",
        "        # print(\"Score:\")\n",
        "        # print(pred.scores[:1])\n",
        "        # print(pred.scores[0].shape)\n",
        "        # print(\"Sequences:\")\n",
        "        # print(pred.sequences[:2])\n",
        "        # print(pred.sequences.shape)\n",
        "\n",
        "        # print(\"input_ids\")\n",
        "        # print(batch[\"input_ids\"])\n",
        "\n",
        "        # scores = pred.scores.detach().cpu().numpy()\n",
        "        # sequences = pred.sequences.detach().cpu().numpy()\n",
        "\n",
        "        # dg_seq = [6912,    1,    0,    0,    0,    0,    0]\n",
        "        # avg_prob_list = []\n",
        "        # # each row in scores is probability vector for each token\n",
        "        # for score, seq  in zip(scores, sequences):\n",
        "        #     probs = torch.softmax(score, dim=-1)\n",
        "        #     # generated_token_probs = probs[:, dg_seq] # generated token prob at dg\n",
        "        #     # avg_prob = generated_token_probs.mean().item()\n",
        "        #     avg_prob = torch.argmax(probs, dim=-1)\n",
        "        #     avg_prob_list.append(avg_prob)\n",
        "\n",
        "        predicted_labels = self.tokenizer.batch_decode(pred, skip_special_tokens=True)\n",
        "\n",
        "        true_labels = batch[\"true_label\"]\n",
        "        # print(true_labels, predicted_labels, avg_prob_list)\n",
        "\n",
        "        avg_prob_list = ''\n",
        "\n",
        "\n",
        "        return true_labels, predicted_labels, avg_prob_list\n",
        "\n",
        "    def predict_step(self, batch, batch_idx, dataloader_idx=0):\n",
        "        true_labels, predicted_labels, avg_prob = self._shared_step(batch)\n",
        "        return true_labels, predicted_labels, avg_prob"
      ],
      "metadata": {
        "id": "NF4sNAoAwLry"
      },
      "execution_count": null,
      "outputs": []
    },
    {
      "cell_type": "markdown",
      "source": [
        "# Load data set"
      ],
      "metadata": {
        "id": "naOcjrd90DmY"
      }
    },
    {
      "cell_type": "code",
      "source": [
        "texts = pd.read_csv('/content/drive/MyDrive/ColoradoBoulder/Machine Learning/Deep learning/week4/nlp-getting-started/train.csv')\n",
        "texts['keyword'] = texts['keyword'].fillna('')\n",
        "texts['tweet'] = texts['keyword'] + ' ' + texts['text']\n",
        "texts['target'] = texts['target'].apply(lambda x: 'disaster' if (x==1) else 'non-disaster')\n",
        "labels = texts[['target']]\n",
        "texts = texts[['tweet']]"
      ],
      "metadata": {
        "id": "SxgTkC12z1Yt"
      },
      "execution_count": null,
      "outputs": []
    },
    {
      "cell_type": "code",
      "source": [
        "from torch.utils.data import DataLoader, random_split, Dataset, Subset\n",
        "from sklearn.model_selection import train_test_split"
      ],
      "metadata": {
        "id": "QYhkXFyz2H05"
      },
      "execution_count": null,
      "outputs": []
    },
    {
      "cell_type": "code",
      "source": [
        "tokenizer = T5Tokenizer.from_pretrained(wandb.config['model_name'], model_max_length=128)\n",
        "max_length = 128\n",
        "train_idx, val_idx = train_test_split(list(range(len(texts))), train_size=0.8, test_size=0.2, random_state=42)\n",
        "test_texts, test_labels = texts.iloc[val_idx], labels.iloc[val_idx]\n",
        "test_dataset = textDataset(test_texts, test_labels, tokenizer, max_length)"
      ],
      "metadata": {
        "colab": {
          "base_uri": "https://localhost:8080/"
        },
        "id": "PgK9-Zsb1Ti_",
        "outputId": "88ee4ae4-0c21-4980-f045-e556566b0e0d"
      },
      "execution_count": null,
      "outputs": [
        {
          "output_type": "stream",
          "name": "stderr",
          "text": [
            "/usr/local/lib/python3.10/dist-packages/huggingface_hub/utils/_token.py:89: UserWarning: \n",
            "The secret `HF_TOKEN` does not exist in your Colab secrets.\n",
            "To authenticate with the Hugging Face Hub, create a token in your settings tab (https://huggingface.co/settings/tokens), set it as secret in your Google Colab and restart your session.\n",
            "You will be able to reuse this secret in all of your notebooks.\n",
            "Please note that authentication is recommended but still optional to access public models or datasets.\n",
            "  warnings.warn(\n",
            "You are using the default legacy behaviour of the <class 'transformers.models.t5.tokenization_t5.T5Tokenizer'>. This is expected, and simply means that the `legacy` (previous) behavior will be used so nothing changes for you. If you want to use the new behaviour, set `legacy=False`. This should only be set if you understand what it means, and thoroughly read the reason why this was added as explained in https://github.com/huggingface/transformers/pull/24565\n",
            "Special tokens have been added in the vocabulary, make sure the associated word embeddings are fine-tuned or trained.\n",
            "<ipython-input-4-da9873ca7170>:86: MarkupResemblesLocatorWarning: The input looks more like a filename than markup. You may want to open this file and pass the filehandle into Beautiful Soup.\n",
            "  data.loc[:,'tweet'] = data['tweet'].apply(lambda x: BeautifulSoup(x).get_text())\n",
            "<ipython-input-4-da9873ca7170>:30: SettingWithCopyWarning: \n",
            "A value is trying to be set on a copy of a slice from a DataFrame.\n",
            "Try using .loc[row_indexer,col_indexer] = value instead\n",
            "\n",
            "See the caveats in the documentation: https://pandas.pydata.org/pandas-docs/stable/user_guide/indexing.html#returning-a-view-versus-a-copy\n",
            "  self.tweets['target'] = self.labels\n"
          ]
        }
      ]
    },
    {
      "cell_type": "code",
      "source": [
        "class textDatamodule(pl.LightningDataModule):\n",
        "    def __init__(self, test_dataset, batch_size):\n",
        "        super().__init__()\n",
        "        self.test_dataset = test_dataset\n",
        "        self.batch_size = batch_size\n",
        "\n",
        "    def predict_dataloader(self):\n",
        "        return DataLoader(self.test_dataset, batch_size=self.batch_size)"
      ],
      "metadata": {
        "id": "4dW_ELsi3jlP"
      },
      "execution_count": null,
      "outputs": []
    },
    {
      "cell_type": "code",
      "source": [
        "data_module = textDatamodule(test_dataset, wandb.config['batch_size'])"
      ],
      "metadata": {
        "id": "BZToQ2TP3Oo_"
      },
      "execution_count": null,
      "outputs": []
    },
    {
      "cell_type": "markdown",
      "source": [
        "# Load trained model"
      ],
      "metadata": {
        "id": "67XgSvBizdT2"
      }
    },
    {
      "cell_type": "code",
      "source": [
        "try:\n",
        "    del text_encoder\n",
        "except:\n",
        "    pass"
      ],
      "metadata": {
        "id": "R2d7da73ycQW"
      },
      "execution_count": null,
      "outputs": []
    },
    {
      "cell_type": "code",
      "source": [
        "text_encoder = textClassifier(vocab_size=tokenizer.vocab_size,\n",
        "                              learning_rate=wandb.config['learning_rate'])\n",
        "checkpoint = torch.load(\"/content/drive/MyDrive/ColoradoBoulder/Machine Learning/Deep learning/week4/Test52-epoch=2-train_loss=0.0728-val_loss=0.0847.ckpt\",\n",
        "                        map_location=torch.device('cpu'))\n",
        "text_encoder.load_state_dict(checkpoint['state_dict'], strict=False)"
      ],
      "metadata": {
        "colab": {
          "base_uri": "https://localhost:8080/"
        },
        "id": "TUREZhRNzc3a",
        "outputId": "9e2803d5-e37d-4b2e-a93c-ed107e4a49ca"
      },
      "execution_count": null,
      "outputs": [
        {
          "output_type": "stream",
          "name": "stderr",
          "text": [
            "Special tokens have been added in the vocabulary, make sure the associated word embeddings are fine-tuned or trained.\n"
          ]
        },
        {
          "output_type": "execute_result",
          "data": {
            "text/plain": [
              "<All keys matched successfully>"
            ]
          },
          "metadata": {},
          "execution_count": 12
        }
      ]
    },
    {
      "cell_type": "code",
      "source": [
        "trainer = pl.Trainer(accelerator='cpu',\n",
        "                    devices=1\n",
        "                    )"
      ],
      "metadata": {
        "colab": {
          "base_uri": "https://localhost:8080/"
        },
        "id": "LjGVhBbI5uy9",
        "outputId": "daf3e2fa-616d-4292-ceb0-60b37c919d5d"
      },
      "execution_count": null,
      "outputs": [
        {
          "output_type": "stream",
          "name": "stderr",
          "text": [
            "INFO: GPU available: False, used: False\n",
            "INFO:lightning.pytorch.utilities.rank_zero:GPU available: False, used: False\n",
            "INFO: TPU available: False, using: 0 TPU cores\n",
            "INFO:lightning.pytorch.utilities.rank_zero:TPU available: False, using: 0 TPU cores\n",
            "INFO: HPU available: False, using: 0 HPUs\n",
            "INFO:lightning.pytorch.utilities.rank_zero:HPU available: False, using: 0 HPUs\n"
          ]
        }
      ]
    },
    {
      "cell_type": "code",
      "source": [
        "from torch.utils.data import DataLoader, TensorDataset, Subset"
      ],
      "metadata": {
        "id": "zvYAz9w4ebzs"
      },
      "execution_count": null,
      "outputs": []
    },
    {
      "cell_type": "code",
      "source": [
        "# test_data_loader = DataLoader(Subset(data_module.test_dataset, [0,1,2,3,4,5]), batch_size=3)"
      ],
      "metadata": {
        "id": "pEZwKdyYdgNN"
      },
      "execution_count": null,
      "outputs": []
    },
    {
      "cell_type": "code",
      "source": [
        "# prediction = trainer.predict(text_encoder, test_data_loader)"
      ],
      "metadata": {
        "id": "xmq47diffgHG"
      },
      "execution_count": null,
      "outputs": []
    },
    {
      "cell_type": "code",
      "source": [
        "prediction = trainer.predict(text_encoder, data_module)"
      ],
      "metadata": {
        "colab": {
          "base_uri": "https://localhost:8080/",
          "height": 49,
          "referenced_widgets": [
            "465beb28e2744bdcb1fa2b425bb9b196",
            "4141d6012ef64e6abc7abd8cbba95456",
            "6d7b7d75ae084d178c8bd536a70ba1ac",
            "9d3ff53e1c16493f8980f444550ea861",
            "07424dbf27bb4a979e867e10a31407f9",
            "394a6255310946ecb77a66239407db36",
            "f8f75513862842b19bd2e75c6ffd2500",
            "89af8722021948d3803e5d86f8c51c17",
            "2009f58b8b704c43891f74f2b4f3284a",
            "c4519711dd324986af9e0338b1737975",
            "83a1a5c03cd34f289cfb67a6f03402aa"
          ]
        },
        "id": "l-glXVzP5cv0",
        "outputId": "7390b25d-006e-41b0-93c3-72fb5c3295ad"
      },
      "execution_count": null,
      "outputs": [
        {
          "output_type": "display_data",
          "data": {
            "text/plain": [
              "Predicting: |          | 0/? [00:00<?, ?it/s]"
            ],
            "application/vnd.jupyter.widget-view+json": {
              "version_major": 2,
              "version_minor": 0,
              "model_id": "465beb28e2744bdcb1fa2b425bb9b196"
            }
          },
          "metadata": {}
        }
      ]
    },
    {
      "cell_type": "code",
      "source": [
        "import pickle\n",
        "with open('prediction.pkl', 'wb') as f:\n",
        "    pickle.dump(prediction, f)"
      ],
      "metadata": {
        "id": "wWZb-Gi66Cgg"
      },
      "execution_count": null,
      "outputs": []
    },
    {
      "cell_type": "code",
      "source": [
        "len(data_module.test_dataset)"
      ],
      "metadata": {
        "id": "odKNJiHNy0K9"
      },
      "execution_count": null,
      "outputs": []
    },
    {
      "cell_type": "code",
      "source": [
        "with open('prediction.pkl', 'rb') as f:\n",
        "    prediction = pickle.load(f)"
      ],
      "metadata": {
        "id": "6JtvkaTWId1K"
      },
      "execution_count": null,
      "outputs": []
    },
    {
      "cell_type": "code",
      "source": [
        "from sklearn.metrics import accuracy_score, f1_score"
      ],
      "metadata": {
        "id": "7LOYQE1K5V6p"
      },
      "execution_count": null,
      "outputs": []
    },
    {
      "cell_type": "code",
      "source": [
        "labels = []\n",
        "preds = []\n",
        "prob_list = []\n",
        "for true_labels, predicted_labels, _ in prediction:\n",
        "    labels.extend(true_labels)\n",
        "    preds.extend(predicted_labels)\n",
        "    # prob_list.extend(avg_prob_list)"
      ],
      "metadata": {
        "id": "dDVxgVWTK0cs"
      },
      "execution_count": null,
      "outputs": []
    },
    {
      "cell_type": "code",
      "source": [
        "from sklearn.metrics import classification_report"
      ],
      "metadata": {
        "id": "6PcDmaf4LuwK"
      },
      "execution_count": null,
      "outputs": []
    },
    {
      "cell_type": "code",
      "source": [
        "report = classification_report(labels, preds)"
      ],
      "metadata": {
        "id": "db_lf3V0LyP7"
      },
      "execution_count": null,
      "outputs": []
    },
    {
      "cell_type": "code",
      "source": [
        "print(report)"
      ],
      "metadata": {
        "colab": {
          "base_uri": "https://localhost:8080/"
        },
        "id": "7JWs_ag03cd7",
        "outputId": "c5326a7c-c01c-412d-9659-2eab82e23947"
      },
      "execution_count": null,
      "outputs": [
        {
          "output_type": "stream",
          "name": "stdout",
          "text": [
            "              precision    recall  f1-score   support\n",
            "\n",
            "    disaster       0.90      0.64      0.75       649\n",
            "non-disaster       0.78      0.95      0.86       874\n",
            "\n",
            "    accuracy                           0.82      1523\n",
            "   macro avg       0.84      0.79      0.80      1523\n",
            "weighted avg       0.83      0.82      0.81      1523\n",
            "\n"
          ]
        }
      ]
    },
    {
      "cell_type": "code",
      "source": [
        "pred_df = pd.DataFrame({'labels':labels, 'preds':preds})"
      ],
      "metadata": {
        "id": "4clu_qiML_8V"
      },
      "execution_count": null,
      "outputs": []
    },
    {
      "cell_type": "code",
      "source": [],
      "metadata": {
        "id": "mpi_rrJZP2Dq"
      },
      "execution_count": null,
      "outputs": []
    },
    {
      "cell_type": "markdown",
      "source": [
        "# Summary\n",
        "|Model|Trial |Accuracy|F1 score|\n",
        "|-----|------|--------|--------|\n",
        "|T5   |test48|0.78    |0.77    |\n",
        "|T5   |test49|0.83    |0.83    |\n",
        "|T5   |test52|0.82    |0.81    |"
      ],
      "metadata": {
        "id": "hzeUX1yhgrWo"
      }
    }
  ]
}