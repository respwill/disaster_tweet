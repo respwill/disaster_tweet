{
 "cells": [
  {
   "cell_type": "code",
   "execution_count": 1,
   "id": "b5092548",
   "metadata": {},
   "outputs": [
    {
     "name": "stderr",
     "output_type": "stream",
     "text": [
      "C:\\Users\\jaydenpark\\Anaconda3\\envs\\nlp3\\lib\\site-packages\\torchvision\\io\\image.py:13: UserWarning: Failed to load image Python extension: [WinError 127] 지정된 프로시저를 찾을 수 없습니다\n",
      "  warn(f\"Failed to load image Python extension: {e}\")\n"
     ]
    }
   ],
   "source": [
    "import os\n",
    "import torch\n",
    "from torch import nn\n",
    "import torch.nn.functional as F\n",
    "from torch.nn.utils.rnn import pack_padded_sequence, pad_packed_sequence\n",
    "from torch.utils.data import DataLoader, random_split, Dataset, Subset\n",
    "# from torchtext import data\n",
    "# from torchvision import transforms, models\n",
    "from torchmetrics import Accuracy\n",
    "import pytorch_lightning as pl\n",
    "from pytorch_lightning.utilities.model_summary import ModelSummary\n",
    "from pytorch_lightning.loggers import WandbLogger\n",
    "from PIL import Image\n",
    "import pandas as pd\n",
    "from sklearn.model_selection import train_test_split\n",
    "from torch.optim.lr_scheduler import ReduceLROnPlateau, CosineAnnealingLR\n",
    "import wandb\n",
    "import torchmetrics\n",
    "import sys\n",
    "from ray.tune.integration.pytorch_lightning import TuneReportCallback\n",
    "from ray import tune\n",
    "from transformers import AutoTokenizer, AutoModelForSequenceClassification, AutoConfig"
   ]
  },
  {
   "cell_type": "code",
   "execution_count": 2,
   "id": "598687a2",
   "metadata": {
    "scrolled": false
   },
   "outputs": [
    {
     "name": "stderr",
     "output_type": "stream",
     "text": [
      "C:\\Users\\jaydenpark\\Anaconda3\\envs\\nlp3\\lib\\site-packages\\pytorch_lightning\\loggers\\wandb.py:347: UserWarning: There is a wandb run already in progress and newly created instances of `WandbLogger` will reuse this run. If this is not desired, call `wandb.finish()` before instantiating `WandbLogger`.\n",
      "  rank_zero_warn(\n"
     ]
    }
   ],
   "source": [
    "wandb.init(\n",
    "      mode='disabled',\n",
    "      # Set the project where this run will be logged\n",
    "      project=\"disaster_tweet_classification\", \n",
    "      # We pass a run name (otherwise it’ll be randomly assigned, like sunshine-lollypop-10)\n",
    "      name=f\"Test7\", \n",
    "      # Track hyperparameters and run metadata\n",
    "      config={\n",
    "      \"learning_rate\": 0.000003,\n",
    "      \"data_size\": 1,\n",
    "      \"batch_size\":32,\n",
    "        \"model_name\":\"distilbert-base-uncased\"#\"cardiffnlp/twitter-xlm-roberta-base-sentiment\" #\n",
    "      })\n",
    "wandb_logger = WandbLogger()"
   ]
  },
  {
   "cell_type": "markdown",
   "id": "14d04021",
   "metadata": {},
   "source": [
    "# Lightning moduel"
   ]
  },
  {
   "cell_type": "code",
   "execution_count": 3,
   "id": "c03ae543",
   "metadata": {},
   "outputs": [],
   "source": [
    "class textClassifier(pl.LightningModule):\n",
    "    def __init__(self, vocab_size=10_000, learning_rate=3e-4):\n",
    "        super().__init__()\n",
    "        self.save_hyperparameters()\n",
    "        self.accuracy = Accuracy(task='binary')\n",
    "        self.config = AutoConfig.from_pretrained(wandb.config['model_name'])\n",
    "        self.config.num_labels = 1\n",
    "        self.hugging_face_model = AutoModelForSequenceClassification.from_config(self.config)\n",
    "#         self.hugging_face_model = AutoModelForSequenceClassification.from_pretrained(wandb.config['model_name'], num_labels=1)\n",
    "        \n",
    "    def forward(self, **inputs):\n",
    "        return self.hugging_face_model(**inputs)\n",
    "    \n",
    "    def predict_step(self, batch, batch_idx, dataloader_idx=0):\n",
    "        return self(**batch)\n",
    "    \n",
    "    def training_step(self, batch, batch_idx):\n",
    "        outputs = self(**batch)\n",
    "        loss = outputs[0]\n",
    "        logits = outputs[1]\n",
    "        pred = logits.squeeze()\n",
    "        labels = batch['labels'].flatten().to(torch.int64)\n",
    "        acc = self.accuracy(pred, labels)\n",
    "        self.log(\"train_loss\", loss, on_epoch=True, prog_bar=True)\n",
    "        self.log('train_acc', acc, on_epoch=True, prog_bar=True)\n",
    "        \n",
    "        return {'loss':loss, 'pred':pred}\n",
    "        \n",
    "    def validation_step(self, batch, batch_idx):\n",
    "        outputs = self(**batch)\n",
    "        loss = outputs[0]\n",
    "        logits = outputs[1]\n",
    "        pred = logits.squeeze()\n",
    "        labels = batch['labels'].flatten().to(torch.int64)\n",
    "        acc = self.accuracy(pred, labels)\n",
    "        self.log(\"val_loss\", loss, on_epoch=True, prog_bar=True)\n",
    "        self.log('val_acc', acc, on_epoch=True, prog_bar=True)\n",
    "        \n",
    "        return {'val_loss':loss, 'pred':pred}\n",
    "    \n",
    "    def configure_optimizers(self):\n",
    "        optimizer = torch.optim.Adamax(self.parameters(), lr=self.hparams.learning_rate)\n",
    "        return [optimizer]    "
   ]
  },
  {
   "cell_type": "markdown",
   "id": "532c0f0a",
   "metadata": {},
   "source": [
    "# Dataset"
   ]
  },
  {
   "cell_type": "code",
   "execution_count": 4,
   "id": "9f4d0d8e",
   "metadata": {},
   "outputs": [],
   "source": [
    "import contractions\n",
    "from bs4 import BeautifulSoup\n",
    "from unidecode import unidecode\n",
    "import string\n",
    "from nltk.corpus import stopwords\n",
    "from nltk.stem import WordNetLemmatizer\n",
    "import re\n",
    "\n",
    "class textDataset(Dataset):\n",
    "    def __init__(self, data_dir):\n",
    "        self.stop_words = set(stopwords.words('english'))\n",
    "        self.lemmatizer = WordNetLemmatizer()\n",
    "        self.tweets = pd.read_csv(data_dir)\n",
    "        self.tweets['keyword'] = self.tweets['keyword'].fillna('')\n",
    "        self.tweets['tweet'] = self.tweets['keyword'] + ' ' + self.tweets['text']\n",
    "        self.tweets = self.text_preprocessing(self.tweets)\n",
    "        self.tokenizer = AutoTokenizer.from_pretrained(wandb.config['model_name'])\n",
    "    \n",
    "    def rem_urls(self, data):\n",
    "        regex = re.compile(f\"https?://(www\\.)?(\\w+)(\\.\\w+)(/\\w*)?\")\n",
    "        data = re.sub(regex, \"\", data)\n",
    "        return data\n",
    "    \n",
    "    def rem_emails(self, data):\n",
    "        regex = re.compile(\"([A-Za-z0-9]+[.-_])*[A-Za-z0-9]+@[A-Za-z0-9-]+(\\.[A-Z|a-z]{2,})+\")\n",
    "        data = re.sub(regex, \"\", data)\n",
    "        return data\n",
    "    \n",
    "    def rem_mention(self, data):\n",
    "        regex = re.compile('@\\w+')\n",
    "        data = re.sub(regex, '', data)\n",
    "        return data\n",
    "    \n",
    "    def rem_accent(self, data):\n",
    "        data = unidecode(data)\n",
    "        return data\n",
    "    \n",
    "    def rem_unicode(self, data):\n",
    "        data = data.encode(\"ascii\", \"ignore\").decode()\n",
    "        return data\n",
    "    \n",
    "    def rem_punc(self, data):\n",
    "        data = re.sub(f\"[{string.punctuation}]\", \" \", data)\n",
    "        return data\n",
    "    \n",
    "    def clean_numbers(self, data):\n",
    "        data = re.sub('[0-9]{5,}', '#'*5, data)\n",
    "        data = re.sub('[0-9]{4}', '#'*4, data)\n",
    "        data = re.sub('[0-9]{3}', '#'*3, data)\n",
    "        data = re.sub('[0-9]{2}', '#'*2, data)\n",
    "        return data\n",
    "    \n",
    "    \n",
    "    def rem_stopwords(self, data):\n",
    "        return \" \".join([word for word in str(data).split() if word not in self.stop_words])\n",
    "    \n",
    "    def rem_extra_space(self, data):\n",
    "        data = re.sub(' +', ' ', data).strip()\n",
    "        return data\n",
    "    \n",
    "    \n",
    "    def lemmatize_data(self, data):\n",
    "        words = [self.lemmatizer.lemmatize(word) for word in data.split()]\n",
    "        data = ' '.join(words)\n",
    "        return data\n",
    "    \n",
    "    def text_preprocessing(self, data):\n",
    "        data['tweet'] = data['tweet'].str.lower()\n",
    "        data['tweet'] = data['tweet'].apply(contractions.fix)\n",
    "        data['tweet'] = data['tweet'].apply(self.rem_urls)\n",
    "        data['tweet'] = data['tweet'].apply(self.rem_emails)\n",
    "        data['tweet'] = data['tweet'].apply(lambda x: BeautifulSoup(x).get_text())\n",
    "        data['tweet'] = data['tweet'].apply(self.rem_mention)\n",
    "        data['tweet'] = data['tweet'].str.replace(':\\(', 'sadness ')\n",
    "        data['tweet'] = data['tweet'].str.replace(r':\\)[$|\\s]*', 'happiness ')\n",
    "        data['tweet'] = data['tweet'].str.replace(r'\\;\\)[$|\\s]*', 'happiness ')\n",
    "        data['tweet'] = data['tweet'].apply(self.rem_accent)\n",
    "        data['tweet'] = data['tweet'].apply(self.rem_unicode)\n",
    "        data['tweet'] = data['tweet'].apply(self.rem_punc)\n",
    "        data['tweet'] = data['tweet'].apply(self.clean_numbers)\n",
    "        data['tweet'] = data['tweet'].apply(self.rem_stopwords)\n",
    "        data['tweet'] = data['tweet'].apply(self.rem_extra_space)\n",
    "        data['tweet'] = data['tweet'].apply(self.lemmatize_data)\n",
    "        return data\n",
    "        \n",
    "    def __len__(self):\n",
    "        return len(self.tweets)\n",
    "    \n",
    "    def __getitem__(self, idx):\n",
    "        text = self.tweets.iloc[idx, -1]\n",
    "        encoding = self.tokenizer.batch_encode_plus([text], return_tensors=\"pt\", max_length=128, pad_to_max_length=True)\n",
    "        input_ids = encoding['input_ids'].flatten()#.to(torch.float32)\n",
    "        attention_mask = encoding['attention_mask'].flatten()\n",
    "        label = torch.tensor([self.tweets.iloc[idx, -2]]).to(torch.float32)\n",
    "        \n",
    "#         label = torch.tensor(label, dtype=torch.float32)\n",
    "        \n",
    "        return {'input_ids':input_ids, 'attention_mask':attention_mask, 'labels':label}"
   ]
  },
  {
   "cell_type": "code",
   "execution_count": 5,
   "id": "777f5676",
   "metadata": {},
   "outputs": [],
   "source": [
    "def train_val_dataset(dataset, train_split=0.75, val_split=0.25):\n",
    "    train_idx, val_idx = train_test_split(list(range(len(dataset))), train_size=train_split, test_size=val_split)\n",
    "    datasets = {'train':Subset(dataset, train_idx), 'val':Subset(dataset, val_idx)}\n",
    "    return datasets"
   ]
  },
  {
   "cell_type": "code",
   "execution_count": 6,
   "id": "7df6fa1d",
   "metadata": {},
   "outputs": [],
   "source": [
    "class textDatamodule(pl.LightningDataModule):\n",
    "    def __init__(self, batch_size):\n",
    "        super().__init__()\n",
    "        self.batch_size = batch_size\n",
    "        self.tokenizer = None\n",
    "    def setup(self, stage=None):\n",
    "        data = textDataset(\"./nlp-getting-started/train.csv\")\n",
    "        self.tokenizer = data.tokenizer\n",
    "        data = train_val_dataset(data)\n",
    "        self.train_dataset = data['train']\n",
    "        self.val_dataset = data['val']\n",
    "    \n",
    "    def train_dataloader(self):\n",
    "        return DataLoader(self.train_dataset, batch_size=self.batch_size, shuffle=True)\n",
    "    \n",
    "    def val_dataloader(self):\n",
    "        return DataLoader(self.val_dataset, batch_size=self.batch_size)\n",
    "    \n",
    "    def predict_dataloader(self):\n",
    "        return DataLoader(self.val_dataset, batch_size=self.batch_size)"
   ]
  },
  {
   "cell_type": "code",
   "execution_count": 7,
   "id": "412dd39d",
   "metadata": {},
   "outputs": [],
   "source": [
    "checkpoint_callback = pl.callbacks.ModelCheckpoint(\n",
    "    dirpath='./check_point/',\n",
    "    filename='{epoch}-{train_loss:.4f}-{val_loss:.4f}',\n",
    "    monitor='val_loss',\n",
    "    mode='min',\n",
    "    save_top_k=2\n",
    ")"
   ]
  },
  {
   "cell_type": "code",
   "execution_count": 8,
   "id": "df16e2e3",
   "metadata": {
    "scrolled": true
   },
   "outputs": [
    {
     "name": "stderr",
     "output_type": "stream",
     "text": [
      "GPU available: True, used: True\n",
      "TPU available: False, using: 0 TPU cores\n",
      "IPU available: False, using: 0 IPUs\n",
      "HPU available: False, using: 0 HPUs\n"
     ]
    }
   ],
   "source": [
    "trainer = pl.Trainer(accelerator='gpu',\n",
    "                    devices=1,\n",
    "                    max_epochs=1000,\n",
    "                    logger=wandb_logger,\n",
    "                    callbacks=[checkpoint_callback]\n",
    "                    )"
   ]
  },
  {
   "cell_type": "code",
   "execution_count": 9,
   "id": "0923ac50",
   "metadata": {
    "scrolled": true
   },
   "outputs": [
    {
     "name": "stderr",
     "output_type": "stream",
     "text": [
      "C:\\Users\\jaydenpark\\Anaconda3\\envs\\nlp3\\lib\\site-packages\\bs4\\__init__.py:435: MarkupResemblesLocatorWarning: The input looks more like a filename than markup. You may want to open this file and pass the filehandle into Beautiful Soup.\n",
      "  warnings.warn(\n",
      "C:\\Users\\jaydenpark\\AppData\\Local\\Temp\\2\\ipykernel_30692\\4243067082.py:74: FutureWarning: The default value of regex will change from True to False in a future version.\n",
      "  data['tweet'] = data['tweet'].str.replace(':\\(', 'sadness ')\n",
      "C:\\Users\\jaydenpark\\AppData\\Local\\Temp\\2\\ipykernel_30692\\4243067082.py:75: FutureWarning: The default value of regex will change from True to False in a future version.\n",
      "  data['tweet'] = data['tweet'].str.replace(r':\\)[$|\\s]*', 'happiness ')\n",
      "C:\\Users\\jaydenpark\\AppData\\Local\\Temp\\2\\ipykernel_30692\\4243067082.py:76: FutureWarning: The default value of regex will change from True to False in a future version.\n",
      "  data['tweet'] = data['tweet'].str.replace(r'\\;\\)[$|\\s]*', 'happiness ')\n"
     ]
    }
   ],
   "source": [
    "dm = textDatamodule(batch_size=wandb.config['batch_size'])\n",
    "dm.setup()"
   ]
  },
  {
   "cell_type": "code",
   "execution_count": 10,
   "id": "04fcf5f9",
   "metadata": {},
   "outputs": [
    {
     "data": {
      "text/plain": [
       "_IncompatibleKeys(missing_keys=[], unexpected_keys=['lstm1.weight_ih_l0', 'lstm1.weight_hh_l0', 'lstm1.bias_ih_l0', 'lstm1.bias_hh_l0', 'lstm1.weight_ih_l0_reverse', 'lstm1.weight_hh_l0_reverse', 'lstm1.bias_ih_l0_reverse', 'lstm1.bias_hh_l0_reverse', 'lstm1.weight_ih_l1', 'lstm1.weight_hh_l1', 'lstm1.bias_ih_l1', 'lstm1.bias_hh_l1', 'lstm1.weight_ih_l1_reverse', 'lstm1.weight_hh_l1_reverse', 'lstm1.bias_ih_l1_reverse', 'lstm1.bias_hh_l1_reverse', 'lstm2.weight_ih_l0', 'lstm2.weight_hh_l0', 'lstm2.bias_ih_l0', 'lstm2.bias_hh_l0', 'lstm2.weight_ih_l0_reverse', 'lstm2.weight_hh_l0_reverse', 'lstm2.bias_ih_l0_reverse', 'lstm2.bias_hh_l0_reverse', 'lstm2.weight_ih_l1', 'lstm2.weight_hh_l1', 'lstm2.bias_ih_l1', 'lstm2.bias_hh_l1', 'lstm2.weight_ih_l1_reverse', 'lstm2.weight_hh_l1_reverse', 'lstm2.bias_ih_l1_reverse', 'lstm2.bias_hh_l1_reverse', 'lstm3.weight_ih_l0', 'lstm3.weight_hh_l0', 'lstm3.bias_ih_l0', 'lstm3.bias_hh_l0', 'lstm3.weight_ih_l0_reverse', 'lstm3.weight_hh_l0_reverse', 'lstm3.bias_ih_l0_reverse', 'lstm3.bias_hh_l0_reverse', 'lstm3.weight_ih_l1', 'lstm3.weight_hh_l1', 'lstm3.bias_ih_l1', 'lstm3.bias_hh_l1', 'lstm3.weight_ih_l1_reverse', 'lstm3.weight_hh_l1_reverse', 'lstm3.bias_ih_l1_reverse', 'lstm3.bias_hh_l1_reverse', 'relu1.0.weight', 'relu1.0.bias', 'relu1.3.weight', 'relu1.3.bias', 'relu1.6.weight', 'relu1.6.bias', 'relu1.9.weight', 'relu1.9.bias'])"
      ]
     },
     "execution_count": 10,
     "metadata": {},
     "output_type": "execute_result"
    }
   ],
   "source": [
    "text_encoder = textClassifier(vocab_size=dm.tokenizer.vocab_size, \n",
    "                              learning_rate=wandb.config['learning_rate'])\n",
    "checkpoint = torch.load(\"./check_point/distil_bert_uncased/epoch=35-train_loss=0.1043-val_loss=0.1219.ckpt\")\n",
    "text_encoder.load_state_dict(checkpoint['state_dict'], strict=False)"
   ]
  },
  {
   "cell_type": "code",
   "execution_count": 11,
   "id": "fe9bbddc",
   "metadata": {},
   "outputs": [
    {
     "name": "stderr",
     "output_type": "stream",
     "text": [
      "C:\\Users\\jaydenpark\\Anaconda3\\envs\\nlp3\\lib\\site-packages\\bs4\\__init__.py:435: MarkupResemblesLocatorWarning: The input looks more like a filename than markup. You may want to open this file and pass the filehandle into Beautiful Soup.\n",
      "  warnings.warn(\n",
      "C:\\Users\\jaydenpark\\AppData\\Local\\Temp\\2\\ipykernel_30692\\4243067082.py:74: FutureWarning: The default value of regex will change from True to False in a future version.\n",
      "  data['tweet'] = data['tweet'].str.replace(':\\(', 'sadness ')\n",
      "C:\\Users\\jaydenpark\\AppData\\Local\\Temp\\2\\ipykernel_30692\\4243067082.py:75: FutureWarning: The default value of regex will change from True to False in a future version.\n",
      "  data['tweet'] = data['tweet'].str.replace(r':\\)[$|\\s]*', 'happiness ')\n",
      "C:\\Users\\jaydenpark\\AppData\\Local\\Temp\\2\\ipykernel_30692\\4243067082.py:76: FutureWarning: The default value of regex will change from True to False in a future version.\n",
      "  data['tweet'] = data['tweet'].str.replace(r'\\;\\)[$|\\s]*', 'happiness ')\n",
      "LOCAL_RANK: 0 - CUDA_VISIBLE_DEVICES: [0,1]\n",
      "C:\\Users\\jaydenpark\\Anaconda3\\envs\\nlp3\\lib\\site-packages\\pytorch_lightning\\trainer\\connectors\\data_connector.py:240: PossibleUserWarning: The dataloader, predict_dataloader 0, does not have many workers which may be a bottleneck. Consider increasing the value of the `num_workers` argument` (try 24 which is the number of cpus on this machine) in the `DataLoader` init to improve performance.\n",
      "  rank_zero_warn(\n"
     ]
    },
    {
     "data": {
      "application/vnd.jupyter.widget-view+json": {
       "model_id": "674d6aa04ffb4e75b12374378369b5c3",
       "version_major": 2,
       "version_minor": 0
      },
      "text/plain": [
       "Predicting: 0it [00:00, ?it/s]"
      ]
     },
     "metadata": {},
     "output_type": "display_data"
    },
    {
     "name": "stderr",
     "output_type": "stream",
     "text": [
      "Truncation was not explicitly activated but `max_length` is provided a specific value, please use `truncation=True` to explicitly truncate examples to max length. Defaulting to 'longest_first' truncation strategy. If you encode pairs of sequences (GLUE-style) with the tokenizer you can select this strategy more precisely by providing a specific strategy to `truncation`.\n",
      "C:\\Users\\jaydenpark\\Anaconda3\\envs\\nlp3\\lib\\site-packages\\transformers\\tokenization_utils_base.py:2285: FutureWarning: The `pad_to_max_length` argument is deprecated and will be removed in a future version, use `padding=True` or `padding='longest'` to pad to the longest sequence in the batch, or use `padding='max_length'` to pad to a max length. In this case, you can give a specific length with `max_length` (e.g. `max_length=45`) or leave max_length to None to pad to the maximal input size of the model (e.g. 512 for Bert).\n",
      "  warnings.warn(\n"
     ]
    }
   ],
   "source": [
    "prediction = trainer.predict(text_encoder, dm)"
   ]
  },
  {
   "cell_type": "code",
   "execution_count": 12,
   "id": "3070caf1",
   "metadata": {},
   "outputs": [],
   "source": [
    "val_labels = []\n",
    "for t in dm.val_dataloader():\n",
    "    val_labels.extend(t['labels'])\n",
    "val_labels = torch.cat(val_labels)"
   ]
  },
  {
   "cell_type": "code",
   "execution_count": 13,
   "id": "e9be9833",
   "metadata": {},
   "outputs": [],
   "source": [
    "val_preds = []\n",
    "for p in prediction:\n",
    "    val_preds.extend(p['logits'])\n",
    "val_preds = torch.cat(val_preds)"
   ]
  },
  {
   "cell_type": "code",
   "execution_count": 14,
   "id": "6bc7f97a",
   "metadata": {},
   "outputs": [],
   "source": [
    "val_preds = torch.round(val_preds)"
   ]
  },
  {
   "cell_type": "markdown",
   "id": "60e51392",
   "metadata": {},
   "source": [
    "# Accuray on validation set"
   ]
  },
  {
   "cell_type": "code",
   "execution_count": 15,
   "id": "de91efd4",
   "metadata": {},
   "outputs": [],
   "source": [
    "from sklearn.metrics import accuracy_score, f1_score"
   ]
  },
  {
   "cell_type": "code",
   "execution_count": 16,
   "id": "4f36ec7b",
   "metadata": {},
   "outputs": [],
   "source": [
    "acc = accuracy_score(val_labels, val_preds)\n",
    "f1 = f1_score(val_labels, val_preds)"
   ]
  },
  {
   "cell_type": "code",
   "execution_count": 17,
   "id": "6dc7f8c2",
   "metadata": {},
   "outputs": [
    {
     "data": {
      "text/plain": [
       "(0.8581932773109243, 0.8333333333333334)"
      ]
     },
     "execution_count": 17,
     "metadata": {},
     "output_type": "execute_result"
    }
   ],
   "source": [
    "acc, f1"
   ]
  },
  {
   "cell_type": "markdown",
   "id": "7b2d5ded",
   "metadata": {},
   "source": [
    "# AUC curve"
   ]
  },
  {
   "cell_type": "code",
   "execution_count": null,
   "id": "33b6a82a",
   "metadata": {},
   "outputs": [],
   "source": []
  },
  {
   "cell_type": "code",
   "execution_count": null,
   "id": "7d7516d1",
   "metadata": {},
   "outputs": [],
   "source": []
  },
  {
   "cell_type": "markdown",
   "id": "92fedc60",
   "metadata": {},
   "source": [
    "# Result Summary"
   ]
  },
  {
   "cell_type": "markdown",
   "id": "e3315d20",
   "metadata": {},
   "source": [
    "|Model|Accuracy|F1 score|Dataset|Threshold|\n",
    "|----|---------|--------|-------|---------|\n",
    "|distilbert-base-uncased|0.86|0.83|Validation|0.5|\n",
    "|cardiffnlp/twitter-xlm-roberta-base-sentiment|0.85|0.81|Validation|0.5|\n"
   ]
  }
 ],
 "metadata": {
  "kernelspec": {
   "display_name": "Python 3 (ipykernel)",
   "language": "python",
   "name": "python3"
  },
  "language_info": {
   "codemirror_mode": {
    "name": "ipython",
    "version": 3
   },
   "file_extension": ".py",
   "mimetype": "text/x-python",
   "name": "python",
   "nbconvert_exporter": "python",
   "pygments_lexer": "ipython3",
   "version": "3.9.12"
  }
 },
 "nbformat": 4,
 "nbformat_minor": 5
}
