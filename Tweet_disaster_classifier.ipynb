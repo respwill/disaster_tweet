{
 "cells": [
  {
   "cell_type": "code",
   "execution_count": 1,
   "id": "b5092548",
   "metadata": {},
   "outputs": [],
   "source": [
    "import os\n",
    "import torch\n",
    "from torch import nn\n",
    "import torch.nn.functional as F\n",
    "from torch.utils.data import DataLoader, random_split, Dataset, Subset\n",
    "# from torchvision import transforms, models\n",
    "import pytorch_lightning as pl\n",
    "from pytorch_lightning.utilities.model_summary import ModelSummary\n",
    "from pytorch_lightning.loggers import WandbLogger\n",
    "from PIL import Image\n",
    "import pandas as pd\n",
    "from sklearn.model_selection import train_test_split\n",
    "from torch.optim.lr_scheduler import ReduceLROnPlateau, CosineAnnealingLR\n",
    "import wandb\n",
    "import torchmetrics\n",
    "import sys\n",
    "from ray.tune.integration.pytorch_lightning import TuneReportCallback\n",
    "from ray import tune\n",
    "from transformers import DistilBertTokenizer"
   ]
  },
  {
   "cell_type": "markdown",
   "id": "14d04021",
   "metadata": {},
   "source": [
    "# Lightning moduel"
   ]
  },
  {
   "cell_type": "code",
   "execution_count": 2,
   "id": "c03ae543",
   "metadata": {},
   "outputs": [],
   "source": [
    "class textClassifier(pl.LightningModule):\n",
    "    def __init__(self, vocab_size=10_000, embedding_dim=128, hidden_dim=64, learning_rate=3e-4):\n",
    "        super().__init__()\n",
    "        self.save_hyperparameters()\n",
    "        self.embedding = nn.Embedding(vocab_size, embedding_dim)\n",
    "        self.lstm = nn.LSTM(embedding_dim, hidden_dim, batch_first=True)\n",
    "        self.relu = nn.Sequential(\n",
    "            nn.Linear(embedding_dim, 1)\n",
    "        )\n",
    "        self.sigmoid = nn.Sigmoid()\n",
    "    \n",
    "    def forward(self, x):\n",
    "        x = self.embedding(x)\n",
    "#         x = nn.utils.rnn.pack_padded_sequence(x, text_lengths, batch_first=True)\n",
    "        x, (hidden, cell) = self.lstm(x)\n",
    "#         x = hidden.squeeze()\n",
    "        x = self.relu(x)\n",
    "        y_hat = self.sigmoid(x)\n",
    "        \n",
    "        return y_hat\n",
    "    \n",
    "    def training_step(self, batch, batch_idx):\n",
    "        x, y = batch\n",
    "        y_hat = self(x)\n",
    "        print('y_hat:', y_hat.dtype)\n",
    "        print('y:', y.dtype)\n",
    "        loss = F.binary_cross_entropy(y_hat, y)\n",
    "        pred = loss.round()\n",
    "        self.log(\"train_loss\", loss, on_step=True, on_epoch=True, prog_bar=True, logger=True)\n",
    "        \n",
    "        return {'loss':loss, 'pred':pred}\n",
    "        \n",
    "    def validation_step(self, batch, batch_idx):\n",
    "        x, y = batch\n",
    "        y_hat = self(x)\n",
    "        print('y_hat:', y_hat.dtype)\n",
    "        print('y:', y.dtype)\n",
    "        loss = F.binary_cross_entropy(y_hat, y)\n",
    "        pred = loss.round()\n",
    "        self.log(\"val_loss\", loss, on_step=True, on_epoch=True, prog_bar=True, logger=True)\n",
    "        \n",
    "        return {'val_loss':loss, 'pred':pred}\n",
    "    \n",
    "    def configure_optimizers(self):\n",
    "        optimizer = torch.optim.Adamax(self.parameters(), lr=self.hparams.learning_rate)\n",
    "        return [optimizer]    "
   ]
  },
  {
   "cell_type": "markdown",
   "id": "532c0f0a",
   "metadata": {},
   "source": [
    "# Dataset"
   ]
  },
  {
   "cell_type": "code",
   "execution_count": 3,
   "id": "9f4d0d8e",
   "metadata": {},
   "outputs": [],
   "source": [
    "import contractions\n",
    "from bs4 import BeautifulSoup\n",
    "from unidecode import unidecode\n",
    "import string\n",
    "from nltk.corpus import stopwords\n",
    "from nltk.stem import WordNetLemmatizer\n",
    "import re\n",
    "\n",
    "class textDataset(Dataset):\n",
    "    def __init__(self, data_dir):\n",
    "        self.stop_words = set(stopwords.words('english'))\n",
    "        self.lemmatizer = WordNetLemmatizer()\n",
    "        self.tweets = pd.read_csv(data_dir)\n",
    "        self.tweets['keyword'] = self.tweets['keyword'].fillna('')\n",
    "        self.tweets['tweet'] = self.tweets['keyword'] + ' ' + self.tweets['text']\n",
    "        self.tweets = self.text_preprocessing(self.tweets)\n",
    "        self.tokenizer = DistilBertTokenizer.from_pretrained('distilbert-base-uncased')\n",
    "    \n",
    "    def rem_urls(self, data):\n",
    "        regex = re.compile(f\"https?://(www\\.)?(\\w+)(\\.\\w+)(/\\w*)?\")\n",
    "        data = re.sub(regex, \"\", data)\n",
    "        return data\n",
    "    \n",
    "    def rem_emails(self, data):\n",
    "        regex = re.compile(\"([A-Za-z0-9]+[.-_])*[A-Za-z0-9]+@[A-Za-z0-9-]+(\\.[A-Z|a-z]{2,})+\")\n",
    "        data = re.sub(regex, \"\", data)\n",
    "        return data\n",
    "    \n",
    "    def rem_mention(self, data):\n",
    "        regex = re.compile('@\\w+')\n",
    "        data = re.sub(regex, '', data)\n",
    "        return data\n",
    "    \n",
    "    def rem_accent(self, data):\n",
    "        data = unidecode(data)\n",
    "        return data\n",
    "    \n",
    "    def rem_unicode(self, data):\n",
    "        data = data.encode(\"ascii\", \"ignore\").decode()\n",
    "        return data\n",
    "    \n",
    "    def rem_punc(self, data):\n",
    "        data = re.sub(f\"[{string.punctuation}]\", \" \", data)\n",
    "        return data\n",
    "    \n",
    "    def clean_numbers(self, data):\n",
    "        data = re.sub('[0-9]{5,}', '#'*5, data)\n",
    "        data = re.sub('[0-9]{4}', '#'*4, data)\n",
    "        data = re.sub('[0-9]{3}', '#'*3, data)\n",
    "        data = re.sub('[0-9]{2}', '#'*2, data)\n",
    "        return data\n",
    "    \n",
    "    \n",
    "    def rem_stopwords(self, data):\n",
    "        return \" \".join([word for word in str(data).split() if word not in self.stop_words])\n",
    "    \n",
    "    def rem_extra_space(self, data):\n",
    "        data = re.sub(' +', ' ', data).strip()\n",
    "        return data\n",
    "    \n",
    "    \n",
    "    def lemmatize_data(self, data):\n",
    "        words = [self.lemmatizer.lemmatize(word) for word in data.split()]\n",
    "        data = ' '.join(words)\n",
    "        return data\n",
    "    \n",
    "    def text_preprocessing(self, data):\n",
    "        data['tweet'] = data['tweet'].str.lower()\n",
    "        data['tweet'] = data['tweet'].apply(contractions.fix)\n",
    "        data['tweet'] = data['tweet'].apply(self.rem_urls)\n",
    "        data['tweet'] = data['tweet'].apply(self.rem_emails)\n",
    "        data['tweet'] = data['tweet'].apply(lambda x: BeautifulSoup(x).get_text())\n",
    "        data['tweet'] = data['tweet'].apply(self.rem_mention)\n",
    "        data['tweet'] = data['tweet'].str.replace(':\\(', 'sadness ')\n",
    "        data['tweet'] = data['tweet'].str.replace(r':\\)[$|\\s]*', 'happiness ')\n",
    "        data['tweet'] = data['tweet'].str.replace(r'\\;\\)[$|\\s]*', 'happiness ')\n",
    "        data['tweet'] = data['tweet'].apply(self.rem_accent)\n",
    "        data['tweet'] = data['tweet'].apply(self.rem_unicode)\n",
    "        data['tweet'] = data['tweet'].apply(self.rem_punc)\n",
    "        data['tweet'] = data['tweet'].apply(self.clean_numbers)\n",
    "        data['tweet'] = data['tweet'].apply(self.rem_stopwords)\n",
    "        data['tweet'] = data['tweet'].apply(self.rem_extra_space)\n",
    "        data['tweet'] = data['tweet'].apply(self.lemmatize_data)\n",
    "        return data\n",
    "        \n",
    "    def __len__(self):\n",
    "        return len(self.tweets)\n",
    "    \n",
    "    def __getitem__(self, idx):\n",
    "        text = self.tweets.iloc[idx, -1]\n",
    "        encoding = self.tokenizer.batch_encode_plus([text], return_tensors=\"pt\", max_length=128, pad_to_max_length=True)\n",
    "        input_ids = encoding['input_ids'].flatten()\n",
    "        attention_mask = encoding['attention_mask'].flatten()\n",
    "        label = [self.tweets.iloc[idx, -2]]\n",
    "        label = torch.tensor(label, dtype=torch.float32)\n",
    "        \n",
    "        return {'text':text, 'input_ids':input_ids, 'attention_mask':attention_mask, 'labels':label}"
   ]
  },
  {
   "cell_type": "code",
   "execution_count": 4,
   "id": "777f5676",
   "metadata": {},
   "outputs": [],
   "source": [
    "def train_val_dataset(dataset, train_split=0.75, val_split=0.25):\n",
    "    train_idx, val_idx = train_test_split(list(range(len(dataset))), train_size=train_split, test_size=val_split)\n",
    "    datasets = {'train':Subset(dataset, train_idx), 'val':Subset(dataset, val_idx)}\n",
    "    return datasets"
   ]
  },
  {
   "cell_type": "code",
   "execution_count": 5,
   "id": "7df6fa1d",
   "metadata": {},
   "outputs": [],
   "source": [
    "class textDatamodule(pl.LightningDataModule):\n",
    "    def __init__(self, batch_size):\n",
    "        super().__init__()\n",
    "        self.batch_size = batch_size\n",
    "        self.tokenizer = None\n",
    "    def setup(self, stage=None):\n",
    "        data = textDataset(\"./nlp-getting-started/train.csv\")\n",
    "        self.tokenizer = data.tokenizer\n",
    "        data = train_val_dataset(data)\n",
    "        self.train_dataset = data['train']\n",
    "        self.val_dataset = data['val']\n",
    "    \n",
    "    def train_dataloader(self):\n",
    "        return DataLoader(self.train_dataset, batch_size=self.batch_size, shuffle=True)\n",
    "    \n",
    "    def val_dataloader(self):\n",
    "        return DataLoader(self.val_dataset, batch_size=self.batch_size)    "
   ]
  },
  {
   "cell_type": "code",
   "execution_count": 6,
   "id": "412dd39d",
   "metadata": {},
   "outputs": [],
   "source": [
    "checkpoint_callback = pl.callbacks.ModelCheckpoint(\n",
    "    dirpath='./check_point/',\n",
    "    filename='{epoch}-{train_loss:.4f}-{val_loss:.4f}',\n",
    "    monitor='val_loss',\n",
    "    mode='min',\n",
    "    save_top_k=2\n",
    ")"
   ]
  },
  {
   "cell_type": "code",
   "execution_count": 7,
   "id": "52e68ddd",
   "metadata": {},
   "outputs": [
    {
     "name": "stderr",
     "output_type": "stream",
     "text": [
      "/Users/haeinpark/miniconda3/envs/boulder/lib/python3.10/site-packages/pytorch_lightning/loggers/wandb.py:395: UserWarning: There is a wandb run already in progress and newly created instances of `WandbLogger` will reuse this run. If this is not desired, call `wandb.finish()` before instantiating `WandbLogger`.\n",
      "  rank_zero_warn(\n"
     ]
    }
   ],
   "source": [
    "wandb.init(\n",
    "      mode='disabled',\n",
    "      # Set the project where this run will be logged\n",
    "      project=\"histopathologic-cancer-classifier\", \n",
    "      # We pass a run name (otherwise it’ll be randomly assigned, like sunshine-lollypop-10)\n",
    "      name=f\"Test1\", \n",
    "      # Track hyperparameters and run metadata\n",
    "      config={\n",
    "      \"learning_rate\": 0.0005,\n",
    "      \"data_size\": 1,\n",
    "      \"batch_size\":32,\n",
    "      })\n",
    "wandb_logger = WandbLogger()"
   ]
  },
  {
   "cell_type": "code",
   "execution_count": 8,
   "id": "df16e2e3",
   "metadata": {},
   "outputs": [
    {
     "name": "stderr",
     "output_type": "stream",
     "text": [
      "GPU available: True (mps), used: True\n",
      "TPU available: False, using: 0 TPU cores\n",
      "IPU available: False, using: 0 IPUs\n",
      "HPU available: False, using: 0 HPUs\n"
     ]
    }
   ],
   "source": [
    "trainer = pl.Trainer(accelerator='gpu',\n",
    "                    devices=1,\n",
    "                    max_epochs=100,\n",
    "                    logger=wandb_logger,\n",
    "                    callbacks=[checkpoint_callback]\n",
    "                    )"
   ]
  },
  {
   "cell_type": "code",
   "execution_count": 9,
   "id": "448c3d28",
   "metadata": {},
   "outputs": [
    {
     "name": "stderr",
     "output_type": "stream",
     "text": [
      "[nltk_data] Downloading package stopwords to\n",
      "[nltk_data]     /Users/haeinpark/nltk_data...\n",
      "[nltk_data]   Package stopwords is already up-to-date!\n",
      "[nltk_data] Downloading package wordnet to\n",
      "[nltk_data]     /Users/haeinpark/nltk_data...\n",
      "[nltk_data]   Package wordnet is already up-to-date!\n"
     ]
    },
    {
     "data": {
      "text/plain": [
       "True"
      ]
     },
     "execution_count": 9,
     "metadata": {},
     "output_type": "execute_result"
    }
   ],
   "source": [
    "import nltk\n",
    "nltk.download('stopwords')\n",
    "nltk.download('wordnet')"
   ]
  },
  {
   "cell_type": "code",
   "execution_count": 10,
   "id": "0923ac50",
   "metadata": {},
   "outputs": [
    {
     "name": "stderr",
     "output_type": "stream",
     "text": [
      "/Users/haeinpark/miniconda3/envs/boulder/lib/python3.10/site-packages/bs4/__init__.py:435: MarkupResemblesLocatorWarning: The input looks more like a filename than markup. You may want to open this file and pass the filehandle into Beautiful Soup.\n",
      "  warnings.warn(\n",
      "/var/folders/t_/psnq4wr16910p995bqn108hr0000gn/T/ipykernel_15399/2561476833.py:74: FutureWarning: The default value of regex will change from True to False in a future version.\n",
      "  data['tweet'] = data['tweet'].str.replace(':\\(', 'sadness ')\n",
      "/var/folders/t_/psnq4wr16910p995bqn108hr0000gn/T/ipykernel_15399/2561476833.py:75: FutureWarning: The default value of regex will change from True to False in a future version.\n",
      "  data['tweet'] = data['tweet'].str.replace(r':\\)[$|\\s]*', 'happiness ')\n",
      "/var/folders/t_/psnq4wr16910p995bqn108hr0000gn/T/ipykernel_15399/2561476833.py:76: FutureWarning: The default value of regex will change from True to False in a future version.\n",
      "  data['tweet'] = data['tweet'].str.replace(r'\\;\\)[$|\\s]*', 'happiness ')\n"
     ]
    }
   ],
   "source": [
    "dm = textDatamodule(batch_size=wandb.config['batch_size'])\n",
    "dm.setup()"
   ]
  },
  {
   "cell_type": "code",
   "execution_count": 11,
   "id": "04fcf5f9",
   "metadata": {},
   "outputs": [],
   "source": [
    "text_encoder = textClassifier(vocab_size=dm.tokenizer.vocab_size, embedding_dim=64, hidden_dim=32)"
   ]
  },
  {
   "cell_type": "code",
   "execution_count": null,
   "id": "28ee3351",
   "metadata": {
    "scrolled": false
   },
   "outputs": [
    {
     "name": "stderr",
     "output_type": "stream",
     "text": [
      "/Users/haeinpark/miniconda3/envs/boulder/lib/python3.10/site-packages/bs4/__init__.py:435: MarkupResemblesLocatorWarning: The input looks more like a filename than markup. You may want to open this file and pass the filehandle into Beautiful Soup.\n",
      "  warnings.warn(\n",
      "/var/folders/t_/psnq4wr16910p995bqn108hr0000gn/T/ipykernel_15399/2561476833.py:74: FutureWarning: The default value of regex will change from True to False in a future version.\n",
      "  data['tweet'] = data['tweet'].str.replace(':\\(', 'sadness ')\n",
      "/var/folders/t_/psnq4wr16910p995bqn108hr0000gn/T/ipykernel_15399/2561476833.py:75: FutureWarning: The default value of regex will change from True to False in a future version.\n",
      "  data['tweet'] = data['tweet'].str.replace(r':\\)[$|\\s]*', 'happiness ')\n",
      "/var/folders/t_/psnq4wr16910p995bqn108hr0000gn/T/ipykernel_15399/2561476833.py:76: FutureWarning: The default value of regex will change from True to False in a future version.\n",
      "  data['tweet'] = data['tweet'].str.replace(r'\\;\\)[$|\\s]*', 'happiness ')\n",
      "\n",
      "  | Name      | Type       | Params\n",
      "-----------------------------------------\n",
      "0 | embedding | Embedding  | 2.0 M \n",
      "1 | lstm      | LSTM       | 12.5 K\n",
      "2 | relu      | Sequential | 65    \n",
      "3 | sigmoid   | Sigmoid    | 0     \n",
      "-----------------------------------------\n",
      "2.0 M     Trainable params\n",
      "0         Non-trainable params\n",
      "2.0 M     Total params\n",
      "7.864     Total estimated model params size (MB)\n"
     ]
    },
    {
     "data": {
      "application/vnd.jupyter.widget-view+json": {
       "model_id": "cf3af1d987f4409789f88416f68c8571",
       "version_major": 2,
       "version_minor": 0
      },
      "text/plain": [
       "Sanity Checking: 0it [00:00, ?it/s]"
      ]
     },
     "metadata": {},
     "output_type": "display_data"
    },
    {
     "name": "stderr",
     "output_type": "stream",
     "text": [
      "/Users/haeinpark/miniconda3/envs/boulder/lib/python3.10/site-packages/pytorch_lightning/trainer/connectors/data_connector.py:224: PossibleUserWarning: The dataloader, val_dataloader 0, does not have many workers which may be a bottleneck. Consider increasing the value of the `num_workers` argument` (try 8 which is the number of cpus on this machine) in the `DataLoader` init to improve performance.\n",
      "  rank_zero_warn(\n",
      "Truncation was not explicitly activated but `max_length` is provided a specific value, please use `truncation=True` to explicitly truncate examples to max length. Defaulting to 'longest_first' truncation strategy. If you encode pairs of sequences (GLUE-style) with the tokenizer you can select this strategy more precisely by providing a specific strategy to `truncation`.\n",
      "/Users/haeinpark/miniconda3/envs/boulder/lib/python3.10/site-packages/transformers/tokenization_utils_base.py:2339: FutureWarning: The `pad_to_max_length` argument is deprecated and will be removed in a future version, use `padding=True` or `padding='longest'` to pad to the longest sequence in the batch, or use `padding='max_length'` to pad to a max length. In this case, you can give a specific length with `max_length` (e.g. `max_length=45`) or leave max_length to None to pad to the maximal input size of the model (e.g. 512 for Bert).\n",
      "  warnings.warn(\n"
     ]
    }
   ],
   "source": [
    " trainer.fit(text_encoder, dm)"
   ]
  }
 ],
 "metadata": {
  "kernelspec": {
   "display_name": "Python 3 (ipykernel)",
   "language": "python",
   "name": "python3"
  },
  "language_info": {
   "codemirror_mode": {
    "name": "ipython",
    "version": 3
   },
   "file_extension": ".py",
   "mimetype": "text/x-python",
   "name": "python",
   "nbconvert_exporter": "python",
   "pygments_lexer": "ipython3",
   "version": "3.10.9"
  }
 },
 "nbformat": 4,
 "nbformat_minor": 5
}
