{
 "cells": [
  {
   "cell_type": "markdown",
   "id": "880174fb",
   "metadata": {},
   "source": [
    "# Problem statement\n",
    "**Objective:** classify tweet if it is regarding disaster or not."
   ]
  },
  {
   "cell_type": "markdown",
   "id": "cf722216",
   "metadata": {},
   "source": [
    "# Plan to sovle the problem\n",
    "**Used Package**:\n",
    "* Pytorch-lightning\n",
    "* Hugging-Face transformer model\n",
    "\n",
    "**Model architecture:**\n",
    "distilbert-base-uncased pre-trained model\n",
    "\n",
    "**Preprocessing:**\n",
    "* Lower case\n",
    "* Contraction fix\n",
    "* Remove urls\n",
    "* Remove emails\n",
    "* Remove HTML\n",
    "* Remove mention tag (@)\n",
    "* Replace imogi\n",
    "* Remove accent\n",
    "* remove\n"
   ]
  }
 ],
 "metadata": {
  "kernelspec": {
   "display_name": "Python 3 (ipykernel)",
   "language": "python",
   "name": "python3"
  },
  "language_info": {
   "codemirror_mode": {
    "name": "ipython",
    "version": 3
   },
   "file_extension": ".py",
   "mimetype": "text/x-python",
   "name": "python",
   "nbconvert_exporter": "python",
   "pygments_lexer": "ipython3",
   "version": "3.9.12"
  }
 },
 "nbformat": 4,
 "nbformat_minor": 5
}
