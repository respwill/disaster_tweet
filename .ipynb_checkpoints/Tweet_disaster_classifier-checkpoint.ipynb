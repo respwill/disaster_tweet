{
 "cells": [
  {
   "cell_type": "markdown",
   "id": "660e2223",
   "metadata": {},
   "source": [
    "# Import Packages"
   ]
  },
  {
   "cell_type": "code",
   "execution_count": 1,
   "id": "b5092548",
   "metadata": {
    "scrolled": true
   },
   "outputs": [
    {
     "name": "stderr",
     "output_type": "stream",
     "text": [
      "C:\\Users\\jaydenpark\\Anaconda3\\envs\\nlp3\\lib\\site-packages\\torchvision\\io\\image.py:13: UserWarning: Failed to load image Python extension: [WinError 127] 지정된 프로시저를 찾을 수 없습니다\n",
      "  warn(f\"Failed to load image Python extension: {e}\")\n"
     ]
    }
   ],
   "source": [
    "import os\n",
    "import torch\n",
    "from torch import nn\n",
    "import torch.nn.functional as F\n",
    "from torch.nn.utils.rnn import pack_padded_sequence, pad_packed_sequence\n",
    "from torch.utils.data import DataLoader, random_split, Dataset, Subset\n",
    "# from torchtext import data\n",
    "# from torchvision import transforms, models\n",
    "from torchmetrics import Accuracy\n",
    "import pytorch_lightning as pl\n",
    "from pytorch_lightning.utilities.model_summary import ModelSummary\n",
    "from pytorch_lightning.loggers import WandbLogger\n",
    "from PIL import Image\n",
    "import pandas as pd\n",
    "from sklearn.model_selection import train_test_split\n",
    "from torch.optim.lr_scheduler import ReduceLROnPlateau, CosineAnnealingLR\n",
    "import wandb\n",
    "import torchmetrics\n",
    "import sys\n",
    "from ray.tune.integration.pytorch_lightning import TuneReportCallback\n",
    "from ray import tune\n",
    "from transformers import AutoTokenizer, AutoModelForSequenceClassification, AutoConfig\n",
    "import numpy as np"
   ]
  },
  {
   "cell_type": "code",
   "execution_count": 2,
   "id": "2a776b95",
   "metadata": {
    "scrolled": true
   },
   "outputs": [
    {
     "name": "stderr",
     "output_type": "stream",
     "text": [
      "[nltk_data] Downloading package stopwords to\n",
      "[nltk_data]     C:\\Users\\jaydenpark\\AppData\\Roaming\\nltk_data...\n",
      "[nltk_data]   Package stopwords is already up-to-date!\n",
      "[nltk_data] Downloading package wordnet to\n",
      "[nltk_data]     C:\\Users\\jaydenpark\\AppData\\Roaming\\nltk_data...\n",
      "[nltk_data]   Package wordnet is already up-to-date!\n"
     ]
    },
    {
     "data": {
      "text/plain": [
       "True"
      ]
     },
     "execution_count": 2,
     "metadata": {},
     "output_type": "execute_result"
    }
   ],
   "source": [
    "import nltk\n",
    "nltk.download('stopwords')\n",
    "nltk.download('wordnet')"
   ]
  },
  {
   "cell_type": "markdown",
   "id": "63b44267",
   "metadata": {},
   "source": [
    "# Initialize weight and bias to logging"
   ]
  },
  {
   "cell_type": "code",
   "execution_count": 3,
   "id": "598687a2",
   "metadata": {
    "scrolled": false
   },
   "outputs": [
    {
     "name": "stderr",
     "output_type": "stream",
     "text": [
      "C:\\Users\\jaydenpark\\Anaconda3\\envs\\nlp3\\lib\\site-packages\\pytorch_lightning\\loggers\\wandb.py:347: UserWarning: There is a wandb run already in progress and newly created instances of `WandbLogger` will reuse this run. If this is not desired, call `wandb.finish()` before instantiating `WandbLogger`.\n",
      "  rank_zero_warn(\n"
     ]
    }
   ],
   "source": [
    "wandb.init(\n",
    "      mode='disabled',\n",
    "      # Set the project where this run will be logged\n",
    "      project=\"disaster_tweet_classification\", \n",
    "      # We pass a run name (otherwise it’ll be randomly assigned, like sunshine-lollypop-10)\n",
    "      name=f\"Test7\", \n",
    "      # Track hyperparameters and run metadata\n",
    "      config={\n",
    "      \"learning_rate\": 0.000003,\n",
    "      \"data_size\": 1,\n",
    "      \"batch_size\":32,\n",
    "        \"model_name\":\"distilbert-base-uncased\" #\"cardiffnlp/twitter-xlm-roberta-base-sentiment\" # \n",
    "      })\n",
    "wandb_logger = WandbLogger()"
   ]
  },
  {
   "cell_type": "markdown",
   "id": "14d04021",
   "metadata": {},
   "source": [
    "# Lightning moduel\n",
    "It is class to struct forward and backward propagation.  \n",
    "I initially download pre-trained model from huggingface and used it as model in Lightning module to perform forward.  "
   ]
  },
  {
   "cell_type": "code",
   "execution_count": 4,
   "id": "c03ae543",
   "metadata": {},
   "outputs": [],
   "source": [
    "class textClassifier(pl.LightningModule):\n",
    "    def __init__(self, vocab_size=10_000, learning_rate=3e-4):\n",
    "        super().__init__()\n",
    "        self.save_hyperparameters()\n",
    "        print(self.hparams)\n",
    "        self.accuracy = Accuracy(task='binary')\n",
    "        self.config = AutoConfig.from_pretrained(wandb.config['model_name'])\n",
    "        self.config.num_labels = 1\n",
    "        self.hugging_face_model = AutoModelForSequenceClassification.from_config(self.config)\n",
    "    \n",
    "    def forward(self, **inputs):\n",
    "        return self.hugging_face_model(**inputs)\n",
    "    \n",
    "    def predict_step(self, batch, batch_idx, dataloader_idx=0):\n",
    "        return self(**batch)\n",
    "    \n",
    "    def training_step(self, batch, batch_idx):\n",
    "        outputs = self(**batch)\n",
    "        loss = outputs[0]\n",
    "        logits = outputs[1]\n",
    "        pred = logits.squeeze()\n",
    "        labels = batch['labels'].flatten().to(torch.int64)\n",
    "        acc = self.accuracy(pred, labels)\n",
    "        self.log(\"train_loss\", loss, on_epoch=True, prog_bar=True)\n",
    "        self.log('train_acc', acc, on_epoch=True, prog_bar=True)\n",
    "        \n",
    "        return {'loss':loss, 'pred':pred}\n",
    "        \n",
    "    def validation_step(self, batch, batch_idx):\n",
    "        outputs = self(**batch)\n",
    "        loss = outputs[0]\n",
    "        logits = outputs[1]\n",
    "        pred = logits.squeeze()\n",
    "        labels = batch['labels'].flatten().to(torch.int64)\n",
    "        acc = self.accuracy(pred, labels)\n",
    "        self.log(\"val_loss\", loss, on_epoch=True, prog_bar=True)\n",
    "        self.log('val_acc', acc, on_epoch=True, prog_bar=True)\n",
    "        \n",
    "        return {'val_loss':loss, 'pred':pred}\n",
    "    \n",
    "    def configure_optimizers(self):\n",
    "        optimizer = torch.optim.Adamax(self.parameters(), lr=self.hparams.learning_rate)\n",
    "        return [optimizer]    "
   ]
  },
  {
   "cell_type": "markdown",
   "id": "532c0f0a",
   "metadata": {},
   "source": [
    "# Dataset\n",
    "In the Dataset module, I preprocessed and vectorized tweets.  "
   ]
  },
  {
   "cell_type": "code",
   "execution_count": 5,
   "id": "9f4d0d8e",
   "metadata": {},
   "outputs": [],
   "source": [
    "import contractions\n",
    "from bs4 import BeautifulSoup\n",
    "from unidecode import unidecode\n",
    "import string\n",
    "from nltk.corpus import stopwords\n",
    "from nltk.stem import WordNetLemmatizer\n",
    "import re\n",
    "\n",
    "class textDataset(Dataset):\n",
    "    def __init__(self, data_dir):\n",
    "        self.stop_words = set(stopwords.words('english'))\n",
    "        self.lemmatizer = WordNetLemmatizer()\n",
    "        self.tweets = pd.read_csv(data_dir)\n",
    "        self.tweets['keyword'] = self.tweets['keyword'].fillna('')\n",
    "        self.tweets['tweet'] = self.tweets['keyword'] + ' ' + self.tweets['text']\n",
    "        self.tweets = self.text_preprocessing(self.tweets)\n",
    "        self.tokenizer = AutoTokenizer.from_pretrained(wandb.config['model_name'])\n",
    "    \n",
    "    def rem_urls(self, data):\n",
    "        regex = re.compile(f\"https?://(www\\.)?(\\w+)(\\.\\w+)(/\\w*)?\")\n",
    "        data = re.sub(regex, \"\", data)\n",
    "        return data\n",
    "    \n",
    "    def rem_emails(self, data):\n",
    "        regex = re.compile(\"([A-Za-z0-9]+[.-_])*[A-Za-z0-9]+@[A-Za-z0-9-]+(\\.[A-Z|a-z]{2,})+\")\n",
    "        data = re.sub(regex, \"\", data)\n",
    "        return data\n",
    "    \n",
    "    def rem_mention(self, data):\n",
    "        regex = re.compile('@\\w+')\n",
    "        data = re.sub(regex, '', data)\n",
    "        return data\n",
    "    \n",
    "    def rem_accent(self, data):\n",
    "        data = unidecode(data)\n",
    "        return data\n",
    "    \n",
    "    def rem_unicode(self, data):\n",
    "        data = data.encode(\"ascii\", \"ignore\").decode()\n",
    "        return data\n",
    "    \n",
    "    def rem_punc(self, data):\n",
    "        data = re.sub(f\"[{string.punctuation}]\", \" \", data)\n",
    "        return data\n",
    "    \n",
    "    def clean_numbers(self, data):\n",
    "        data = re.sub('[0-9]{5,}', '#'*5, data)\n",
    "        data = re.sub('[0-9]{4}', '#'*4, data)\n",
    "        data = re.sub('[0-9]{3}', '#'*3, data)\n",
    "        data = re.sub('[0-9]{2}', '#'*2, data)\n",
    "        return data\n",
    "    \n",
    "    \n",
    "    def rem_stopwords(self, data):\n",
    "        return \" \".join([word for word in str(data).split() if word not in self.stop_words])\n",
    "    \n",
    "    def rem_extra_space(self, data):\n",
    "        data = re.sub(' +', ' ', data).strip()\n",
    "        return data\n",
    "    \n",
    "    \n",
    "    def lemmatize_data(self, data):\n",
    "        words = [self.lemmatizer.lemmatize(word) for word in data.split()]\n",
    "        data = ' '.join(words)\n",
    "        return data\n",
    "    \n",
    "    def text_preprocessing(self, data):\n",
    "        data['tweet'] = data['tweet'].str.lower()\n",
    "        data['tweet'] = data['tweet'].apply(contractions.fix)\n",
    "        data['tweet'] = data['tweet'].apply(self.rem_urls)\n",
    "        data['tweet'] = data['tweet'].apply(self.rem_emails)\n",
    "        data['tweet'] = data['tweet'].apply(lambda x: BeautifulSoup(x).get_text())\n",
    "        data['tweet'] = data['tweet'].apply(self.rem_mention)\n",
    "        data['tweet'] = data['tweet'].str.replace(':\\(', 'sadness ')\n",
    "        data['tweet'] = data['tweet'].str.replace(r':\\)[$|\\s]*', 'happiness ')\n",
    "        data['tweet'] = data['tweet'].str.replace(r'\\;\\)[$|\\s]*', 'happiness ')\n",
    "        data['tweet'] = data['tweet'].apply(self.rem_accent)\n",
    "        data['tweet'] = data['tweet'].apply(self.rem_unicode)\n",
    "        data['tweet'] = data['tweet'].apply(self.rem_punc)\n",
    "        data['tweet'] = data['tweet'].apply(self.clean_numbers)\n",
    "        data['tweet'] = data['tweet'].apply(self.rem_stopwords)\n",
    "        data['tweet'] = data['tweet'].apply(self.rem_extra_space)\n",
    "        data['tweet'] = data['tweet'].apply(self.lemmatize_data)\n",
    "        return data\n",
    "        \n",
    "    def __len__(self):\n",
    "        return len(self.tweets)\n",
    "    \n",
    "    def __getitem__(self, idx):\n",
    "        text = self.tweets.iloc[idx, -1]\n",
    "        encoding = self.tokenizer.batch_encode_plus([text], return_tensors=\"pt\", max_length=128, pad_to_max_length=True)\n",
    "        input_ids = encoding['input_ids'].flatten()#.to(torch.float32)\n",
    "        attention_mask = encoding['attention_mask'].flatten()\n",
    "        label = torch.tensor([self.tweets.iloc[idx, -2]]).to(torch.float32)\n",
    "        \n",
    "#         label = torch.tensor(label, dtype=torch.float32)\n",
    "        \n",
    "        return {'input_ids':input_ids, 'attention_mask':attention_mask, 'labels':label}"
   ]
  },
  {
   "cell_type": "markdown",
   "id": "7e52c5e3",
   "metadata": {},
   "source": [
    "method to split dataset into train and validation"
   ]
  },
  {
   "cell_type": "code",
   "execution_count": 6,
   "id": "777f5676",
   "metadata": {},
   "outputs": [],
   "source": [
    "def train_val_dataset(dataset, train_split=0.75, val_split=0.25):\n",
    "    train_idx, val_idx = train_test_split(list(range(len(dataset))), train_size=train_split, test_size=val_split)\n",
    "    datasets = {'train':Subset(dataset, train_idx), 'val':Subset(dataset, val_idx)}\n",
    "    return datasets"
   ]
  },
  {
   "cell_type": "markdown",
   "id": "2610de86",
   "metadata": {},
   "source": [
    "# Data Module\n",
    "It is class to create dataset object and return dataloader"
   ]
  },
  {
   "cell_type": "code",
   "execution_count": 7,
   "id": "7df6fa1d",
   "metadata": {},
   "outputs": [],
   "source": [
    "class textDatamodule(pl.LightningDataModule):\n",
    "    def __init__(self, batch_size):\n",
    "        super().__init__()\n",
    "        self.batch_size = batch_size\n",
    "        self.tokenizer = None\n",
    "    def setup(self, stage=None):\n",
    "        data = textDataset(\"./nlp-getting-started/train.csv\")\n",
    "        self.tokenizer = data.tokenizer\n",
    "        data = train_val_dataset(data)\n",
    "        self.train_dataset = data['train']\n",
    "        self.val_dataset = data['val']\n",
    "        self.test_dataset = textDataset(\"./nlp-getting-started/test.csv\")\n",
    "    \n",
    "    def train_dataloader(self):\n",
    "        return DataLoader(self.train_dataset, batch_size=self.batch_size, shuffle=True)\n",
    "    \n",
    "    def val_dataloader(self):\n",
    "        return DataLoader(self.val_dataset, batch_size=self.batch_size)\n",
    "    \n",
    "    def predict_dataloader(self):\n",
    "        return DataLoader(self.val_dataset, batch_size=self.batch_size)"
   ]
  },
  {
   "cell_type": "markdown",
   "id": "057097b7",
   "metadata": {},
   "source": [
    "## Callbacks\n",
    "To save the best model during training, I set check point callback.  \n",
    "The callback monitor validation loss and save the top 2 check points."
   ]
  },
  {
   "cell_type": "code",
   "execution_count": 8,
   "id": "412dd39d",
   "metadata": {},
   "outputs": [],
   "source": [
    "checkpoint_callback = pl.callbacks.ModelCheckpoint(\n",
    "    dirpath='./check_point/',\n",
    "    filename='{epoch}-{train_loss:.4f}-{val_loss:.4f}',\n",
    "    monitor='val_loss',\n",
    "    mode='min',\n",
    "    save_top_k=2\n",
    ")"
   ]
  },
  {
   "cell_type": "markdown",
   "id": "aadbb98b",
   "metadata": {},
   "source": [
    "## Trainer\n",
    "It determines what accelerator I use and how many epoch the model would train.  \n",
    "I used one GPU and run as many as possible.  "
   ]
  },
  {
   "cell_type": "code",
   "execution_count": 9,
   "id": "df16e2e3",
   "metadata": {
    "scrolled": true
   },
   "outputs": [
    {
     "name": "stderr",
     "output_type": "stream",
     "text": [
      "GPU available: True, used: True\n",
      "TPU available: False, using: 0 TPU cores\n",
      "IPU available: False, using: 0 IPUs\n",
      "HPU available: False, using: 0 HPUs\n"
     ]
    }
   ],
   "source": [
    "trainer = pl.Trainer(accelerator='gpu',\n",
    "                    devices=1,\n",
    "                    max_epochs=1000,\n",
    "                    logger=wandb_logger,\n",
    "                    callbacks=[checkpoint_callback]\n",
    "                    )"
   ]
  },
  {
   "cell_type": "code",
   "execution_count": 10,
   "id": "0923ac50",
   "metadata": {
    "scrolled": true
   },
   "outputs": [
    {
     "name": "stderr",
     "output_type": "stream",
     "text": [
      "C:\\Users\\jaydenpark\\Anaconda3\\envs\\nlp3\\lib\\site-packages\\bs4\\__init__.py:435: MarkupResemblesLocatorWarning: The input looks more like a filename than markup. You may want to open this file and pass the filehandle into Beautiful Soup.\n",
      "  warnings.warn(\n",
      "C:\\Users\\jaydenpark\\AppData\\Local\\Temp\\2\\ipykernel_1812\\4243067082.py:74: FutureWarning: The default value of regex will change from True to False in a future version.\n",
      "  data['tweet'] = data['tweet'].str.replace(':\\(', 'sadness ')\n",
      "C:\\Users\\jaydenpark\\AppData\\Local\\Temp\\2\\ipykernel_1812\\4243067082.py:75: FutureWarning: The default value of regex will change from True to False in a future version.\n",
      "  data['tweet'] = data['tweet'].str.replace(r':\\)[$|\\s]*', 'happiness ')\n",
      "C:\\Users\\jaydenpark\\AppData\\Local\\Temp\\2\\ipykernel_1812\\4243067082.py:76: FutureWarning: The default value of regex will change from True to False in a future version.\n",
      "  data['tweet'] = data['tweet'].str.replace(r'\\;\\)[$|\\s]*', 'happiness ')\n",
      "C:\\Users\\jaydenpark\\Anaconda3\\envs\\nlp3\\lib\\site-packages\\bs4\\__init__.py:435: MarkupResemblesLocatorWarning: The input looks more like a filename than markup. You may want to open this file and pass the filehandle into Beautiful Soup.\n",
      "  warnings.warn(\n",
      "C:\\Users\\jaydenpark\\AppData\\Local\\Temp\\2\\ipykernel_1812\\4243067082.py:74: FutureWarning: The default value of regex will change from True to False in a future version.\n",
      "  data['tweet'] = data['tweet'].str.replace(':\\(', 'sadness ')\n",
      "C:\\Users\\jaydenpark\\AppData\\Local\\Temp\\2\\ipykernel_1812\\4243067082.py:75: FutureWarning: The default value of regex will change from True to False in a future version.\n",
      "  data['tweet'] = data['tweet'].str.replace(r':\\)[$|\\s]*', 'happiness ')\n",
      "C:\\Users\\jaydenpark\\AppData\\Local\\Temp\\2\\ipykernel_1812\\4243067082.py:76: FutureWarning: The default value of regex will change from True to False in a future version.\n",
      "  data['tweet'] = data['tweet'].str.replace(r'\\;\\)[$|\\s]*', 'happiness ')\n"
     ]
    }
   ],
   "source": [
    "dm = textDatamodule(batch_size=wandb.config['batch_size'])\n",
    "dm.setup()"
   ]
  },
  {
   "cell_type": "markdown",
   "id": "bcd88eac",
   "metadata": {},
   "source": [
    "## Load check point\n",
    "After training, I load check point that trainer saved.  \n",
    "\n",
    "Although I deleted the codes already, I initially tried to build neural net from scratch using LSTM layers.  \n",
    "However, It didn't work well, so I decided to use pre-trained model.  \n",
    "I forgot to delete the lstm layer from my code when I trained pre-trained model, so trainer saved lstm weight as well.  \n",
    "When I load state_dict the undeleted lstm weight loaded too.  \n",
    "It causes some error during loading state dict.  I set strict argument as False to avoid the error.  "
   ]
  },
  {
   "cell_type": "code",
   "execution_count": 11,
   "id": "04fcf5f9",
   "metadata": {},
   "outputs": [
    {
     "name": "stdout",
     "output_type": "stream",
     "text": [
      "\"learning_rate\": 3e-06\n",
      "\"vocab_size\":    30522\n"
     ]
    },
    {
     "data": {
      "text/plain": [
       "_IncompatibleKeys(missing_keys=[], unexpected_keys=['lstm1.weight_ih_l0', 'lstm1.weight_hh_l0', 'lstm1.bias_ih_l0', 'lstm1.bias_hh_l0', 'lstm1.weight_ih_l0_reverse', 'lstm1.weight_hh_l0_reverse', 'lstm1.bias_ih_l0_reverse', 'lstm1.bias_hh_l0_reverse', 'lstm1.weight_ih_l1', 'lstm1.weight_hh_l1', 'lstm1.bias_ih_l1', 'lstm1.bias_hh_l1', 'lstm1.weight_ih_l1_reverse', 'lstm1.weight_hh_l1_reverse', 'lstm1.bias_ih_l1_reverse', 'lstm1.bias_hh_l1_reverse', 'lstm2.weight_ih_l0', 'lstm2.weight_hh_l0', 'lstm2.bias_ih_l0', 'lstm2.bias_hh_l0', 'lstm2.weight_ih_l0_reverse', 'lstm2.weight_hh_l0_reverse', 'lstm2.bias_ih_l0_reverse', 'lstm2.bias_hh_l0_reverse', 'lstm2.weight_ih_l1', 'lstm2.weight_hh_l1', 'lstm2.bias_ih_l1', 'lstm2.bias_hh_l1', 'lstm2.weight_ih_l1_reverse', 'lstm2.weight_hh_l1_reverse', 'lstm2.bias_ih_l1_reverse', 'lstm2.bias_hh_l1_reverse', 'lstm3.weight_ih_l0', 'lstm3.weight_hh_l0', 'lstm3.bias_ih_l0', 'lstm3.bias_hh_l0', 'lstm3.weight_ih_l0_reverse', 'lstm3.weight_hh_l0_reverse', 'lstm3.bias_ih_l0_reverse', 'lstm3.bias_hh_l0_reverse', 'lstm3.weight_ih_l1', 'lstm3.weight_hh_l1', 'lstm3.bias_ih_l1', 'lstm3.bias_hh_l1', 'lstm3.weight_ih_l1_reverse', 'lstm3.weight_hh_l1_reverse', 'lstm3.bias_ih_l1_reverse', 'lstm3.bias_hh_l1_reverse', 'relu1.0.weight', 'relu1.0.bias', 'relu1.3.weight', 'relu1.3.bias', 'relu1.6.weight', 'relu1.6.bias', 'relu1.9.weight', 'relu1.9.bias'])"
      ]
     },
     "execution_count": 11,
     "metadata": {},
     "output_type": "execute_result"
    }
   ],
   "source": [
    "text_encoder = textClassifier(vocab_size=dm.tokenizer.vocab_size, \n",
    "                              learning_rate=wandb.config['learning_rate'])\n",
    "checkpoint = torch.load(\"./check_point/distil_bert_uncased/epoch=35-train_loss=0.1043-val_loss=0.1219.ckpt\")\n",
    "text_encoder.load_state_dict(checkpoint['state_dict'], strict=False)"
   ]
  },
  {
   "cell_type": "code",
   "execution_count": 12,
   "id": "28ee3351",
   "metadata": {
    "scrolled": false
   },
   "outputs": [],
   "source": [
    "# commented to avoid run fitting\n",
    "#  trainer.fit(text_encoder, dm)"
   ]
  },
  {
   "cell_type": "markdown",
   "id": "2882d8e0",
   "metadata": {},
   "source": [
    "## Prediction on validation set"
   ]
  },
  {
   "cell_type": "code",
   "execution_count": 13,
   "id": "f7889d0e",
   "metadata": {},
   "outputs": [
    {
     "name": "stderr",
     "output_type": "stream",
     "text": [
      "C:\\Users\\jaydenpark\\Anaconda3\\envs\\nlp3\\lib\\site-packages\\bs4\\__init__.py:435: MarkupResemblesLocatorWarning: The input looks more like a filename than markup. You may want to open this file and pass the filehandle into Beautiful Soup.\n",
      "  warnings.warn(\n",
      "C:\\Users\\jaydenpark\\AppData\\Local\\Temp\\2\\ipykernel_1812\\4243067082.py:74: FutureWarning: The default value of regex will change from True to False in a future version.\n",
      "  data['tweet'] = data['tweet'].str.replace(':\\(', 'sadness ')\n",
      "C:\\Users\\jaydenpark\\AppData\\Local\\Temp\\2\\ipykernel_1812\\4243067082.py:75: FutureWarning: The default value of regex will change from True to False in a future version.\n",
      "  data['tweet'] = data['tweet'].str.replace(r':\\)[$|\\s]*', 'happiness ')\n",
      "C:\\Users\\jaydenpark\\AppData\\Local\\Temp\\2\\ipykernel_1812\\4243067082.py:76: FutureWarning: The default value of regex will change from True to False in a future version.\n",
      "  data['tweet'] = data['tweet'].str.replace(r'\\;\\)[$|\\s]*', 'happiness ')\n",
      "C:\\Users\\jaydenpark\\Anaconda3\\envs\\nlp3\\lib\\site-packages\\bs4\\__init__.py:435: MarkupResemblesLocatorWarning: The input looks more like a filename than markup. You may want to open this file and pass the filehandle into Beautiful Soup.\n",
      "  warnings.warn(\n",
      "C:\\Users\\jaydenpark\\AppData\\Local\\Temp\\2\\ipykernel_1812\\4243067082.py:74: FutureWarning: The default value of regex will change from True to False in a future version.\n",
      "  data['tweet'] = data['tweet'].str.replace(':\\(', 'sadness ')\n",
      "C:\\Users\\jaydenpark\\AppData\\Local\\Temp\\2\\ipykernel_1812\\4243067082.py:75: FutureWarning: The default value of regex will change from True to False in a future version.\n",
      "  data['tweet'] = data['tweet'].str.replace(r':\\)[$|\\s]*', 'happiness ')\n",
      "C:\\Users\\jaydenpark\\AppData\\Local\\Temp\\2\\ipykernel_1812\\4243067082.py:76: FutureWarning: The default value of regex will change from True to False in a future version.\n",
      "  data['tweet'] = data['tweet'].str.replace(r'\\;\\)[$|\\s]*', 'happiness ')\n",
      "LOCAL_RANK: 0 - CUDA_VISIBLE_DEVICES: [0,1]\n",
      "C:\\Users\\jaydenpark\\Anaconda3\\envs\\nlp3\\lib\\site-packages\\pytorch_lightning\\trainer\\connectors\\data_connector.py:240: PossibleUserWarning: The dataloader, predict_dataloader 0, does not have many workers which may be a bottleneck. Consider increasing the value of the `num_workers` argument` (try 24 which is the number of cpus on this machine) in the `DataLoader` init to improve performance.\n",
      "  rank_zero_warn(\n"
     ]
    },
    {
     "data": {
      "application/vnd.jupyter.widget-view+json": {
       "model_id": "2703f21790e54c029535bcbbd2dab8c8",
       "version_major": 2,
       "version_minor": 0
      },
      "text/plain": [
       "Predicting: 0it [00:00, ?it/s]"
      ]
     },
     "metadata": {},
     "output_type": "display_data"
    },
    {
     "name": "stderr",
     "output_type": "stream",
     "text": [
      "Truncation was not explicitly activated but `max_length` is provided a specific value, please use `truncation=True` to explicitly truncate examples to max length. Defaulting to 'longest_first' truncation strategy. If you encode pairs of sequences (GLUE-style) with the tokenizer you can select this strategy more precisely by providing a specific strategy to `truncation`.\n",
      "C:\\Users\\jaydenpark\\Anaconda3\\envs\\nlp3\\lib\\site-packages\\transformers\\tokenization_utils_base.py:2285: FutureWarning: The `pad_to_max_length` argument is deprecated and will be removed in a future version, use `padding=True` or `padding='longest'` to pad to the longest sequence in the batch, or use `padding='max_length'` to pad to a max length. In this case, you can give a specific length with `max_length` (e.g. `max_length=45`) or leave max_length to None to pad to the maximal input size of the model (e.g. 512 for Bert).\n",
      "  warnings.warn(\n"
     ]
    }
   ],
   "source": [
    "prediction = trainer.predict(text_encoder, dm)"
   ]
  },
  {
   "cell_type": "code",
   "execution_count": 14,
   "id": "6f6578d5",
   "metadata": {},
   "outputs": [],
   "source": [
    "val_labels = []\n",
    "for t in dm.val_dataloader():\n",
    "    val_labels.extend(t['labels'])\n",
    "val_labels_np = torch.cat(val_labels).detach().numpy()"
   ]
  },
  {
   "cell_type": "code",
   "execution_count": 15,
   "id": "d6a54f9b",
   "metadata": {},
   "outputs": [],
   "source": [
    "val_preds = []\n",
    "for p in prediction:\n",
    "    val_preds.extend(p['logits'])\n",
    "val_preds_np = torch.cat(val_preds).detach().numpy()"
   ]
  },
  {
   "cell_type": "code",
   "execution_count": 16,
   "id": "77c28e2b",
   "metadata": {},
   "outputs": [],
   "source": [
    "val_preds_05 = np.round(val_preds_np)"
   ]
  },
  {
   "cell_type": "code",
   "execution_count": 17,
   "id": "0dce25fd",
   "metadata": {},
   "outputs": [],
   "source": [
    "from sklearn.metrics import accuracy_score, f1_score, roc_curve, precision_recall_curve"
   ]
  },
  {
   "cell_type": "code",
   "execution_count": 18,
   "id": "13ffeca9",
   "metadata": {},
   "outputs": [],
   "source": [
    "acc_05 = accuracy_score(val_labels_np, val_preds_05)\n",
    "f1_05 = f1_score(val_labels_np, val_preds_05)"
   ]
  },
  {
   "cell_type": "code",
   "execution_count": 19,
   "id": "c5d62168",
   "metadata": {},
   "outputs": [
    {
     "data": {
      "text/plain": [
       "(0.8566176470588235, 0.8288401253918495)"
      ]
     },
     "execution_count": 19,
     "metadata": {},
     "output_type": "execute_result"
    }
   ],
   "source": [
    "acc_05, f1_05"
   ]
  },
  {
   "cell_type": "code",
   "execution_count": 20,
   "id": "f9fb48eb",
   "metadata": {},
   "outputs": [],
   "source": [
    "fpr, tpr, _ = roc_curve(val_labels_np, val_preds_np)"
   ]
  },
  {
   "cell_type": "code",
   "execution_count": 21,
   "id": "26b18ae3",
   "metadata": {},
   "outputs": [],
   "source": [
    "import matplotlib.pyplot as plt"
   ]
  },
  {
   "cell_type": "markdown",
   "id": "cc5a75dd",
   "metadata": {},
   "source": [
    "## ROC curve"
   ]
  },
  {
   "cell_type": "code",
   "execution_count": 22,
   "id": "8d2518e4",
   "metadata": {},
   "outputs": [
    {
     "data": {
      "image/png": "[encoded data removed]",
      "text/plain": [
       "<Figure size 432x288 with 1 Axes>"
      ]
     },
     "metadata": {
      "needs_background": "light"
     },
     "output_type": "display_data"
    }
   ],
   "source": [
    "plt.plot(fpr, tpr)\n",
    "plt.ylabel('True Positive Rate')\n",
    "plt.xlabel('False Positive Rate')\n",
    "plt.grid()\n",
    "plt.title('ROC curve');"
   ]
  },
  {
   "cell_type": "markdown",
   "id": "927bd2cc",
   "metadata": {},
   "source": [
    "## Precision, Recall Curve"
   ]
  },
  {
   "cell_type": "code",
   "execution_count": 23,
   "id": "28289c49",
   "metadata": {},
   "outputs": [],
   "source": [
    "precision, recall, threshold = precision_recall_curve(val_labels_np, val_preds_np)"
   ]
  },
  {
   "cell_type": "code",
   "execution_count": 24,
   "id": "3c9578a1",
   "metadata": {},
   "outputs": [
    {
     "data": {
      "image/png": "[encoded data removed]",
      "text/plain": [
       "<Figure size 432x288 with 1 Axes>"
      ]
     },
     "metadata": {
      "needs_background": "light"
     },
     "output_type": "display_data"
    }
   ],
   "source": [
    "plt.plot(precision, recall)\n",
    "plt.ylabel('recall')\n",
    "plt.xlabel('precision')\n",
    "plt.grid()\n",
    "plt.title('Precision - Recall curve');"
   ]
  },
  {
   "cell_type": "code",
   "execution_count": 41,
   "id": "93392157",
   "metadata": {
    "scrolled": true
   },
   "outputs": [
    {
     "name": "stdout",
     "output_type": "stream",
     "text": [
      "0.8501228501228502 0.8247914183551848 0.4363273\n",
      "0.8511685116851169 0.8247914183551848 0.43878654\n",
      "0.8522167487684729 0.8247914183551848 0.44312268\n",
      "0.8532675709001233 0.8247914183551848 0.4434699\n",
      "0.8530864197530864 0.8235995232419547 0.44648018\n",
      "0.8541409147095179 0.8235995232419547 0.44740275\n",
      "0.8551980198019802 0.8235995232419547 0.44954577\n",
      "0.8550185873605948 0.8224076281287247 0.45023832\n",
      "0.8548387096774194 0.8212157330154947 0.45170912\n",
      "0.8546583850931677 0.8200238379022646 0.45172915\n",
      "0.8557213930348259 0.8200238379022646 0.45317623\n",
      "0.8567870485678705 0.8200238379022646 0.45343098\n",
      "0.8566084788029925 0.8188319427890346 0.45578858\n",
      "0.8564294631710362 0.8176400476758046 0.4564025\n",
      "0.85625 0.8164481525625745 0.45705867\n",
      "0.8573216520650814 0.8164481525625745 0.45774105\n",
      "0.8571428571428571 0.8152562574493445 0.45836213\n",
      "0.8582183186951067 0.8152562574493445 0.45846727\n",
      "0.8580402010050251 0.8140643623361145 0.4602271\n",
      "0.8578616352201258 0.8128724672228844 0.46153846\n",
      "0.8589420654911839 0.8128724672228844 0.4624065\n",
      "0.8600252206809584 0.8128724672228844 0.46253377\n",
      "0.8611111111111112 0.8128724672228844 0.46466443\n",
      "0.8609355246523388 0.8116805721096544 0.46595716\n",
      "0.8607594936708861 0.8104886769964244 0.46634826\n",
      "0.8605830164765526 0.8092967818831943 0.46642908\n",
      "0.8604060913705583 0.8081048867699643 0.46787623\n",
      "0.8602287166454892 0.8069129916567342 0.46806648\n",
      "0.8600508905852418 0.8057210965435042 0.4680666\n",
      "0.8611464968152867 0.8057210965435042 0.46872494\n",
      "0.860969387755102 0.8045292014302742 0.46936986\n",
      "0.8620689655172413 0.8045292014302742 0.46975484\n",
      "0.8618925831202046 0.8033373063170441 0.4699486\n",
      "0.8629961587708067 0.8033373063170441 0.47104472\n",
      "0.8641025641025641 0.8033373063170441 0.47151694\n",
      "0.8639281129653402 0.8021454112038141 0.4767914\n",
      "0.8637532133676092 0.8009535160905841 0.47695157\n"
     ]
    }
   ],
   "source": [
    "for pre, rec, thr in zip(precision, recall, threshold):\n",
    "    if (pre >= 0.85) & (rec >= 0.8):\n",
    "        print(pre, rec, thr)"
   ]
  },
  {
   "cell_type": "code",
   "execution_count": 42,
   "id": "44bbba8f",
   "metadata": {},
   "outputs": [],
   "source": [
    "val_preds_m = np.where(val_preds_np>=0.4363273, 1, 0)"
   ]
  },
  {
   "cell_type": "code",
   "execution_count": 43,
   "id": "f7272f37",
   "metadata": {},
   "outputs": [],
   "source": [
    "acc_m = accuracy_score(val_labels_np, val_preds_m)\n",
    "f1_m = f1_score(val_labels_np, val_preds_m)"
   ]
  },
  {
   "cell_type": "code",
   "execution_count": 44,
   "id": "74bc0771",
   "metadata": {
    "scrolled": true
   },
   "outputs": [
    {
     "data": {
      "text/plain": [
       "(0.8587184873949579, 0.837265577737447)"
      ]
     },
     "execution_count": 44,
     "metadata": {},
     "output_type": "execute_result"
    }
   ],
   "source": [
    "acc_m, f1_m"
   ]
  }
 ],
 "metadata": {
  "kernelspec": {
   "display_name": "Python 3 (ipykernel)",
   "language": "python",
   "name": "python3"
  },
  "language_info": {
   "codemirror_mode": {
    "name": "ipython",
    "version": 3
   },
   "file_extension": ".py",
   "mimetype": "text/x-python",
   "name": "python",
   "nbconvert_exporter": "python",
   "pygments_lexer": "ipython3",
   "version": "3.9.12"
  }
 },
 "nbformat": 4,
 "nbformat_minor": 5
}
