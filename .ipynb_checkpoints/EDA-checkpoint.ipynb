{
 "cells": [
  {
   "cell_type": "code",
   "execution_count": 1,
   "id": "39425515",
   "metadata": {},
   "outputs": [],
   "source": [
    "import pandas as pd"
   ]
  },
  {
   "cell_type": "code",
   "execution_count": 2,
   "id": "bf050c9e",
   "metadata": {},
   "outputs": [],
   "source": [
    "import nltk"
   ]
  },
  {
   "cell_type": "code",
   "execution_count": 3,
   "id": "7f9b5f4c",
   "metadata": {},
   "outputs": [],
   "source": [
    "from nltk.tokenize import word_tokenize"
   ]
  },
  {
   "cell_type": "code",
   "execution_count": 4,
   "id": "9c03ad4c",
   "metadata": {},
   "outputs": [],
   "source": [
    "import re"
   ]
  },
  {
   "cell_type": "code",
   "execution_count": 5,
   "id": "b67ec368",
   "metadata": {},
   "outputs": [],
   "source": [
    "train_data = pd.read_csv(\"./nlp-getting-started/train.csv\")"
   ]
  },
  {
   "cell_type": "code",
   "execution_count": 6,
   "id": "f3d1bbf9",
   "metadata": {},
   "outputs": [
    {
     "data": {
      "text/html": [
       "<div>\n",
       "<style scoped>\n",
       "    .dataframe tbody tr th:only-of-type {\n",
       "        vertical-align: middle;\n",
       "    }\n",
       "\n",
       "    .dataframe tbody tr th {\n",
       "        vertical-align: top;\n",
       "    }\n",
       "\n",
       "    .dataframe thead th {\n",
       "        text-align: right;\n",
       "    }\n",
       "</style>\n",
       "<table border=\"1\" class=\"dataframe\">\n",
       "  <thead>\n",
       "    <tr style=\"text-align: right;\">\n",
       "      <th></th>\n",
       "      <th>id</th>\n",
       "      <th>keyword</th>\n",
       "      <th>location</th>\n",
       "      <th>text</th>\n",
       "      <th>target</th>\n",
       "    </tr>\n",
       "  </thead>\n",
       "  <tbody>\n",
       "    <tr>\n",
       "      <th>0</th>\n",
       "      <td>1</td>\n",
       "      <td>NaN</td>\n",
       "      <td>NaN</td>\n",
       "      <td>Our Deeds are the Reason of this #earthquake M...</td>\n",
       "      <td>1</td>\n",
       "    </tr>\n",
       "    <tr>\n",
       "      <th>1</th>\n",
       "      <td>4</td>\n",
       "      <td>NaN</td>\n",
       "      <td>NaN</td>\n",
       "      <td>Forest fire near La Ronge Sask. Canada</td>\n",
       "      <td>1</td>\n",
       "    </tr>\n",
       "    <tr>\n",
       "      <th>2</th>\n",
       "      <td>5</td>\n",
       "      <td>NaN</td>\n",
       "      <td>NaN</td>\n",
       "      <td>All residents asked to 'shelter in place' are ...</td>\n",
       "      <td>1</td>\n",
       "    </tr>\n",
       "    <tr>\n",
       "      <th>3</th>\n",
       "      <td>6</td>\n",
       "      <td>NaN</td>\n",
       "      <td>NaN</td>\n",
       "      <td>13,000 people receive #wildfires evacuation or...</td>\n",
       "      <td>1</td>\n",
       "    </tr>\n",
       "    <tr>\n",
       "      <th>4</th>\n",
       "      <td>7</td>\n",
       "      <td>NaN</td>\n",
       "      <td>NaN</td>\n",
       "      <td>Just got sent this photo from Ruby #Alaska as ...</td>\n",
       "      <td>1</td>\n",
       "    </tr>\n",
       "  </tbody>\n",
       "</table>\n",
       "</div>"
      ],
      "text/plain": [
       "   id keyword location                                               text  \\\n",
       "0   1     NaN      NaN  Our Deeds are the Reason of this #earthquake M...   \n",
       "1   4     NaN      NaN             Forest fire near La Ronge Sask. Canada   \n",
       "2   5     NaN      NaN  All residents asked to 'shelter in place' are ...   \n",
       "3   6     NaN      NaN  13,000 people receive #wildfires evacuation or...   \n",
       "4   7     NaN      NaN  Just got sent this photo from Ruby #Alaska as ...   \n",
       "\n",
       "   target  \n",
       "0       1  \n",
       "1       1  \n",
       "2       1  \n",
       "3       1  \n",
       "4       1  "
      ]
     },
     "execution_count": 6,
     "metadata": {},
     "output_type": "execute_result"
    }
   ],
   "source": [
    "train_data.head()"
   ]
  },
  {
   "cell_type": "markdown",
   "id": "af06289a",
   "metadata": {},
   "source": [
    "# Number of records\n",
    "Total records: 7613  \n",
    "Null keyword: 61  (0.8% is missing)  \n",
    "Null location: 2533 (33.3% is missing)"
   ]
  },
  {
   "cell_type": "code",
   "execution_count": 7,
   "id": "98a9b4fa",
   "metadata": {},
   "outputs": [
    {
     "data": {
      "text/plain": [
       "7613"
      ]
     },
     "execution_count": 7,
     "metadata": {},
     "output_type": "execute_result"
    }
   ],
   "source": [
    "n_records = train_data.shape[0]\n",
    "n_records"
   ]
  },
  {
   "cell_type": "code",
   "execution_count": 8,
   "id": "3f1fc620",
   "metadata": {},
   "outputs": [
    {
     "name": "stdout",
     "output_type": "stream",
     "text": [
      "Missing keyword records: 61, proportion:0.8 %\n"
     ]
    }
   ],
   "source": [
    "n_miss_key = train_data[train_data['keyword'].isnull()].shape[0]\n",
    "print(f\"Missing keyword records: {n_miss_key}, proportion:{n_miss_key / n_records * 100:.1f} %\")"
   ]
  },
  {
   "cell_type": "code",
   "execution_count": 9,
   "id": "cf0d26f3",
   "metadata": {},
   "outputs": [
    {
     "name": "stdout",
     "output_type": "stream",
     "text": [
      "Missing keyword records: 2533, proportion:33.3 %\n"
     ]
    }
   ],
   "source": [
    "n_miss_loc = train_data[train_data['location'].isnull()].shape[0]\n",
    "print(f\"Missing keyword records: {n_miss_loc}, proportion:{n_miss_loc / n_records * 100:.1f} %\")"
   ]
  },
  {
   "cell_type": "markdown",
   "id": "6e95e328",
   "metadata": {},
   "source": [
    "## Duplicated data\n",
    "61 tweets are duplicated  "
   ]
  },
  {
   "cell_type": "code",
   "execution_count": 10,
   "id": "3761505d",
   "metadata": {},
   "outputs": [
    {
     "data": {
      "text/html": [
       "<div>\n",
       "<style scoped>\n",
       "    .dataframe tbody tr th:only-of-type {\n",
       "        vertical-align: middle;\n",
       "    }\n",
       "\n",
       "    .dataframe tbody tr th {\n",
       "        vertical-align: top;\n",
       "    }\n",
       "\n",
       "    .dataframe thead th {\n",
       "        text-align: right;\n",
       "    }\n",
       "</style>\n",
       "<table border=\"1\" class=\"dataframe\">\n",
       "  <thead>\n",
       "    <tr style=\"text-align: right;\">\n",
       "      <th></th>\n",
       "      <th>id</th>\n",
       "      <th>keyword</th>\n",
       "      <th>location</th>\n",
       "      <th>text</th>\n",
       "      <th>target</th>\n",
       "    </tr>\n",
       "  </thead>\n",
       "  <tbody>\n",
       "    <tr>\n",
       "      <th>48</th>\n",
       "      <td>68</td>\n",
       "      <td>ablaze</td>\n",
       "      <td>Live On Webcam</td>\n",
       "      <td>Check these out: http://t.co/rOI2NSmEJJ http:/...</td>\n",
       "      <td>0</td>\n",
       "    </tr>\n",
       "    <tr>\n",
       "      <th>115</th>\n",
       "      <td>165</td>\n",
       "      <td>aftershock</td>\n",
       "      <td>US</td>\n",
       "      <td>320 [IR] ICEMOON [AFTERSHOCK] | http://t.co/vA...</td>\n",
       "      <td>0</td>\n",
       "    </tr>\n",
       "    <tr>\n",
       "      <th>119</th>\n",
       "      <td>172</td>\n",
       "      <td>aftershock</td>\n",
       "      <td>Switzerland</td>\n",
       "      <td>320 [IR] ICEMOON [AFTERSHOCK] | http://t.co/TH...</td>\n",
       "      <td>0</td>\n",
       "    </tr>\n",
       "    <tr>\n",
       "      <th>164</th>\n",
       "      <td>238</td>\n",
       "      <td>airplane%20accident</td>\n",
       "      <td>NaN</td>\n",
       "      <td>Experts in France begin examining airplane deb...</td>\n",
       "      <td>1</td>\n",
       "    </tr>\n",
       "    <tr>\n",
       "      <th>624</th>\n",
       "      <td>898</td>\n",
       "      <td>bioterrorism</td>\n",
       "      <td>NaN</td>\n",
       "      <td>To fight bioterrorism sir.</td>\n",
       "      <td>0</td>\n",
       "    </tr>\n",
       "    <tr>\n",
       "      <th>...</th>\n",
       "      <td>...</td>\n",
       "      <td>...</td>\n",
       "      <td>...</td>\n",
       "      <td>...</td>\n",
       "      <td>...</td>\n",
       "    </tr>\n",
       "    <tr>\n",
       "      <th>6377</th>\n",
       "      <td>9113</td>\n",
       "      <td>suicide%20bomb</td>\n",
       "      <td>Nigeria</td>\n",
       "      <td>#Bestnaijamade: 16yr old PKK suicide bomber wh...</td>\n",
       "      <td>1</td>\n",
       "    </tr>\n",
       "    <tr>\n",
       "      <th>6378</th>\n",
       "      <td>9114</td>\n",
       "      <td>suicide%20bomb</td>\n",
       "      <td>Nigeria</td>\n",
       "      <td>#Bestnaijamade: 16yr old PKK suicide bomber wh...</td>\n",
       "      <td>1</td>\n",
       "    </tr>\n",
       "    <tr>\n",
       "      <th>6392</th>\n",
       "      <td>9135</td>\n",
       "      <td>suicide%20bomb</td>\n",
       "      <td>Nigeria</td>\n",
       "      <td>#Bestnaijamade: 16yr old PKK suicide bomber wh...</td>\n",
       "      <td>1</td>\n",
       "    </tr>\n",
       "    <tr>\n",
       "      <th>6449</th>\n",
       "      <td>9225</td>\n",
       "      <td>suicide%20bombing</td>\n",
       "      <td>NaN</td>\n",
       "      <td>'Suicide bombing at [location named]...' #prem...</td>\n",
       "      <td>1</td>\n",
       "    </tr>\n",
       "    <tr>\n",
       "      <th>6656</th>\n",
       "      <td>9539</td>\n",
       "      <td>terrorist</td>\n",
       "      <td>MAD as Hell</td>\n",
       "      <td>RT AbbsWinston: #Zionist #Terrorist kidnapped ...</td>\n",
       "      <td>1</td>\n",
       "    </tr>\n",
       "  </tbody>\n",
       "</table>\n",
       "<p>61 rows × 5 columns</p>\n",
       "</div>"
      ],
      "text/plain": [
       "        id              keyword        location  \\\n",
       "48      68               ablaze  Live On Webcam   \n",
       "115    165           aftershock              US   \n",
       "119    172           aftershock     Switzerland   \n",
       "164    238  airplane%20accident             NaN   \n",
       "624    898         bioterrorism             NaN   \n",
       "...    ...                  ...             ...   \n",
       "6377  9113       suicide%20bomb         Nigeria   \n",
       "6378  9114       suicide%20bomb         Nigeria   \n",
       "6392  9135       suicide%20bomb         Nigeria   \n",
       "6449  9225    suicide%20bombing             NaN   \n",
       "6656  9539            terrorist     MAD as Hell   \n",
       "\n",
       "                                                   text  target  \n",
       "48    Check these out: http://t.co/rOI2NSmEJJ http:/...       0  \n",
       "115   320 [IR] ICEMOON [AFTERSHOCK] | http://t.co/vA...       0  \n",
       "119   320 [IR] ICEMOON [AFTERSHOCK] | http://t.co/TH...       0  \n",
       "164   Experts in France begin examining airplane deb...       1  \n",
       "624                          To fight bioterrorism sir.       0  \n",
       "...                                                 ...     ...  \n",
       "6377  #Bestnaijamade: 16yr old PKK suicide bomber wh...       1  \n",
       "6378  #Bestnaijamade: 16yr old PKK suicide bomber wh...       1  \n",
       "6392  #Bestnaijamade: 16yr old PKK suicide bomber wh...       1  \n",
       "6449  'Suicide bombing at [location named]...' #prem...       1  \n",
       "6656  RT AbbsWinston: #Zionist #Terrorist kidnapped ...       1  \n",
       "\n",
       "[61 rows x 5 columns]"
      ]
     },
     "execution_count": 10,
     "metadata": {},
     "output_type": "execute_result"
    }
   ],
   "source": [
    "train_data[train_data[['keyword','location','text']].duplicated()]"
   ]
  },
  {
   "cell_type": "markdown",
   "id": "5aaa87c4",
   "metadata": {},
   "source": [
    "remove duplicated data"
   ]
  },
  {
   "cell_type": "code",
   "execution_count": 11,
   "id": "99132c69",
   "metadata": {},
   "outputs": [],
   "source": [
    "train_data = train_data[~train_data[['keyword','location','text']].duplicated()]"
   ]
  },
  {
   "cell_type": "code",
   "execution_count": 12,
   "id": "993033d3",
   "metadata": {},
   "outputs": [
    {
     "data": {
      "text/plain": [
       "(7552, 5)"
      ]
     },
     "execution_count": 12,
     "metadata": {},
     "output_type": "execute_result"
    }
   ],
   "source": [
    "train_data.shape"
   ]
  },
  {
   "cell_type": "markdown",
   "id": "8727d3ea",
   "metadata": {},
   "source": [
    "# Keyword\n",
    "\n",
    "222 types of keywords exists  \n",
    "some keywords has % but otherwise, they seems to be proper data."
   ]
  },
  {
   "cell_type": "code",
   "execution_count": 13,
   "id": "808b7c9b",
   "metadata": {},
   "outputs": [
    {
     "data": {
      "text/plain": [
       "(array([nan, 'ablaze', 'accident', 'aftershock', 'airplane%20accident',\n",
       "        'ambulance', 'annihilated', 'annihilation', 'apocalypse',\n",
       "        'armageddon', 'army', 'arson', 'arsonist', 'attack', 'attacked',\n",
       "        'avalanche', 'battle', 'bioterror', 'bioterrorism', 'blaze',\n",
       "        'blazing', 'bleeding', 'blew%20up', 'blight', 'blizzard', 'blood',\n",
       "        'bloody', 'blown%20up', 'body%20bag', 'body%20bagging',\n",
       "        'body%20bags', 'bomb', 'bombed', 'bombing', 'bridge%20collapse',\n",
       "        'buildings%20burning', 'buildings%20on%20fire', 'burned',\n",
       "        'burning', 'burning%20buildings', 'bush%20fires', 'casualties',\n",
       "        'casualty', 'catastrophe', 'catastrophic', 'chemical%20emergency',\n",
       "        'cliff%20fall', 'collapse', 'collapsed', 'collide', 'collided',\n",
       "        'collision', 'crash', 'crashed', 'crush', 'crushed', 'curfew',\n",
       "        'cyclone', 'damage', 'danger', 'dead', 'death', 'deaths', 'debris',\n",
       "        'deluge', 'deluged', 'demolish', 'demolished', 'demolition',\n",
       "        'derail', 'derailed', 'derailment', 'desolate', 'desolation',\n",
       "        'destroy', 'destroyed', 'destruction', 'detonate', 'detonation',\n",
       "        'devastated', 'devastation', 'disaster', 'displaced', 'drought',\n",
       "        'drown', 'drowned', 'drowning', 'dust%20storm', 'earthquake',\n",
       "        'electrocute', 'electrocuted', 'emergency', 'emergency%20plan',\n",
       "        'emergency%20services', 'engulfed', 'epicentre', 'evacuate',\n",
       "        'evacuated', 'evacuation', 'explode', 'exploded', 'explosion',\n",
       "        'eyewitness', 'famine', 'fatal', 'fatalities', 'fatality', 'fear',\n",
       "        'fire', 'fire%20truck', 'first%20responders', 'flames',\n",
       "        'flattened', 'flood', 'flooding', 'floods', 'forest%20fire',\n",
       "        'forest%20fires', 'hail', 'hailstorm', 'harm', 'hazard',\n",
       "        'hazardous', 'heat%20wave', 'hellfire', 'hijack', 'hijacker',\n",
       "        'hijacking', 'hostage', 'hostages', 'hurricane', 'injured',\n",
       "        'injuries', 'injury', 'inundated', 'inundation', 'landslide',\n",
       "        'lava', 'lightning', 'loud%20bang', 'mass%20murder',\n",
       "        'mass%20murderer', 'massacre', 'mayhem', 'meltdown', 'military',\n",
       "        'mudslide', 'natural%20disaster', 'nuclear%20disaster',\n",
       "        'nuclear%20reactor', 'obliterate', 'obliterated', 'obliteration',\n",
       "        'oil%20spill', 'outbreak', 'pandemonium', 'panic', 'panicking',\n",
       "        'police', 'quarantine', 'quarantined', 'radiation%20emergency',\n",
       "        'rainstorm', 'razed', 'refugees', 'rescue', 'rescued', 'rescuers',\n",
       "        'riot', 'rioting', 'rubble', 'ruin', 'sandstorm', 'screamed',\n",
       "        'screaming', 'screams', 'seismic', 'sinkhole', 'sinking', 'siren',\n",
       "        'sirens', 'smoke', 'snowstorm', 'storm', 'stretcher',\n",
       "        'structural%20failure', 'suicide%20bomb', 'suicide%20bomber',\n",
       "        'suicide%20bombing', 'sunk', 'survive', 'survived', 'survivors',\n",
       "        'terrorism', 'terrorist', 'threat', 'thunder', 'thunderstorm',\n",
       "        'tornado', 'tragedy', 'trapped', 'trauma', 'traumatised',\n",
       "        'trouble', 'tsunami', 'twister', 'typhoon', 'upheaval',\n",
       "        'violent%20storm', 'volcano', 'war%20zone', 'weapon', 'weapons',\n",
       "        'whirlwind', 'wild%20fires', 'wildfire', 'windstorm', 'wounded',\n",
       "        'wounds', 'wreck', 'wreckage', 'wrecked'], dtype=object),\n",
       " 222)"
      ]
     },
     "execution_count": 13,
     "metadata": {},
     "output_type": "execute_result"
    }
   ],
   "source": [
    "train_data['keyword'].unique(), len(train_data['keyword'].unique())"
   ]
  },
  {
   "cell_type": "markdown",
   "id": "f751f021",
   "metadata": {},
   "source": [
    "To reduce duplicated data, let's remitize the keywords"
   ]
  },
  {
   "cell_type": "code",
   "execution_count": 14,
   "id": "69f17fba",
   "metadata": {},
   "outputs": [],
   "source": [
    "from nltk.stem import WordNetLemmatizer"
   ]
  },
  {
   "cell_type": "code",
   "execution_count": 15,
   "id": "fb50b044",
   "metadata": {},
   "outputs": [],
   "source": [
    "lemmatizer = WordNetLemmatizer()"
   ]
  },
  {
   "cell_type": "code",
   "execution_count": 16,
   "id": "9a31125d",
   "metadata": {},
   "outputs": [],
   "source": [
    "train_data['keyword'] = train_data['keyword'].fillna('')"
   ]
  },
  {
   "cell_type": "code",
   "execution_count": 17,
   "id": "bf3250cf",
   "metadata": {},
   "outputs": [],
   "source": [
    "train_data['keyword'] = train_data['keyword'].str.replace('%', ' ')"
   ]
  },
  {
   "cell_type": "markdown",
   "id": "20d5a357",
   "metadata": {},
   "source": [
    "remove digit from keywords"
   ]
  },
  {
   "cell_type": "code",
   "execution_count": 18,
   "id": "4fdcf604",
   "metadata": {},
   "outputs": [],
   "source": [
    "train_data['keyword'] = train_data['keyword'].str.replace('\\d', '', regex=True)"
   ]
  },
  {
   "cell_type": "markdown",
   "id": "2c7ae8bc",
   "metadata": {},
   "source": [
    "Lemmatize the keywords"
   ]
  },
  {
   "cell_type": "code",
   "execution_count": 19,
   "id": "42932d1e",
   "metadata": {},
   "outputs": [],
   "source": [
    "train_data['keyword_lem'] = train_data['keyword'].apply(lambda x: lemmatizer.lemmatize(x))"
   ]
  },
  {
   "cell_type": "code",
   "execution_count": 20,
   "id": "82e3e07d",
   "metadata": {
    "scrolled": false
   },
   "outputs": [
    {
     "data": {
      "text/plain": [
       "(array(['', 'ablaze', 'accident', 'aftershock', 'airplane accident',\n",
       "        'ambulance', 'annihilated', 'annihilation', 'apocalypse',\n",
       "        'armageddon', 'army', 'arson', 'arsonist', 'attack', 'attacked',\n",
       "        'avalanche', 'battle', 'bioterror', 'bioterrorism', 'blaze',\n",
       "        'blazing', 'bleeding', 'blew up', 'blight', 'blizzard', 'blood',\n",
       "        'bloody', 'blown up', 'body bag', 'body bagging', 'body bags',\n",
       "        'bomb', 'bombed', 'bombing', 'bridge collapse',\n",
       "        'buildings burning', 'buildings on fire', 'burned', 'burning',\n",
       "        'burning buildings', 'bush fires', 'casualty', 'catastrophe',\n",
       "        'catastrophic', 'chemical emergency', 'cliff fall', 'collapse',\n",
       "        'collapsed', 'collide', 'collided', 'collision', 'crash',\n",
       "        'crashed', 'crush', 'crushed', 'curfew', 'cyclone', 'damage',\n",
       "        'danger', 'dead', 'death', 'debris', 'deluge', 'deluged',\n",
       "        'demolish', 'demolished', 'demolition', 'derail', 'derailed',\n",
       "        'derailment', 'desolate', 'desolation', 'destroy', 'destroyed',\n",
       "        'destruction', 'detonate', 'detonation', 'devastated',\n",
       "        'devastation', 'disaster', 'displaced', 'drought', 'drown',\n",
       "        'drowned', 'drowning', 'dust storm', 'earthquake', 'electrocute',\n",
       "        'electrocuted', 'emergency', 'emergency plan',\n",
       "        'emergency services', 'engulfed', 'epicentre', 'evacuate',\n",
       "        'evacuated', 'evacuation', 'explode', 'exploded', 'explosion',\n",
       "        'eyewitness', 'famine', 'fatal', 'fatality', 'fear', 'fire',\n",
       "        'fire truck', 'first responders', 'flame', 'flattened', 'flood',\n",
       "        'flooding', 'forest fire', 'forest fires', 'hail', 'hailstorm',\n",
       "        'harm', 'hazard', 'hazardous', 'heat wave', 'hellfire', 'hijack',\n",
       "        'hijacker', 'hijacking', 'hostage', 'hurricane', 'injured',\n",
       "        'injury', 'inundated', 'inundation', 'landslide', 'lava',\n",
       "        'lightning', 'loud bang', 'mass murder', 'mass murderer',\n",
       "        'massacre', 'mayhem', 'meltdown', 'military', 'mudslide',\n",
       "        'natural disaster', 'nuclear disaster', 'nuclear reactor',\n",
       "        'obliterate', 'obliterated', 'obliteration', 'oil spill',\n",
       "        'outbreak', 'pandemonium', 'panic', 'panicking', 'police',\n",
       "        'quarantine', 'quarantined', 'radiation emergency', 'rainstorm',\n",
       "        'razed', 'refugee', 'rescue', 'rescued', 'rescuer', 'riot',\n",
       "        'rioting', 'rubble', 'ruin', 'sandstorm', 'screamed', 'screaming',\n",
       "        'scream', 'seismic', 'sinkhole', 'sinking', 'siren', 'smoke',\n",
       "        'snowstorm', 'storm', 'stretcher', 'structural failure',\n",
       "        'suicide bomb', 'suicide bomber', 'suicide bombing', 'sunk',\n",
       "        'survive', 'survived', 'survivor', 'terrorism', 'terrorist',\n",
       "        'threat', 'thunder', 'thunderstorm', 'tornado', 'tragedy',\n",
       "        'trapped', 'trauma', 'traumatised', 'trouble', 'tsunami',\n",
       "        'twister', 'typhoon', 'upheaval', 'violent storm', 'volcano',\n",
       "        'war zone', 'weapon', 'whirlwind', 'wild fires', 'wildfire',\n",
       "        'windstorm', 'wounded', 'wound', 'wreck', 'wreckage', 'wrecked'],\n",
       "       dtype=object),\n",
       " 214)"
      ]
     },
     "execution_count": 20,
     "metadata": {},
     "output_type": "execute_result"
    }
   ],
   "source": [
    "train_data['keyword_lem'].unique(), len(train_data['keyword_lem'].unique())"
   ]
  },
  {
   "cell_type": "code",
   "execution_count": 187,
   "id": "29260c68",
   "metadata": {},
   "outputs": [],
   "source": [
    "key_pivot = pd.pivot_table(train_data[['keyword_lem','id','target']], index='keyword_lem', columns='target', aggfunc='count')\n",
    "key_pivot = key_pivot.fillna(0)"
   ]
  },
  {
   "cell_type": "code",
   "execution_count": 189,
   "id": "ed1a6362",
   "metadata": {},
   "outputs": [
    {
     "data": {
      "text/html": [
       "<div>\n",
       "<style scoped>\n",
       "    .dataframe tbody tr th:only-of-type {\n",
       "        vertical-align: middle;\n",
       "    }\n",
       "\n",
       "    .dataframe tbody tr th {\n",
       "        vertical-align: top;\n",
       "    }\n",
       "\n",
       "    .dataframe thead tr th {\n",
       "        text-align: left;\n",
       "    }\n",
       "\n",
       "    .dataframe thead tr:last-of-type th {\n",
       "        text-align: right;\n",
       "    }\n",
       "</style>\n",
       "<table border=\"1\" class=\"dataframe\">\n",
       "  <thead>\n",
       "    <tr>\n",
       "      <th></th>\n",
       "      <th colspan=\"2\" halign=\"left\">id</th>\n",
       "    </tr>\n",
       "    <tr>\n",
       "      <th>target</th>\n",
       "      <th>0</th>\n",
       "      <th>1</th>\n",
       "    </tr>\n",
       "    <tr>\n",
       "      <th>keyword_lem</th>\n",
       "      <th></th>\n",
       "      <th></th>\n",
       "    </tr>\n",
       "  </thead>\n",
       "  <tbody>\n",
       "    <tr>\n",
       "      <th>siren</th>\n",
       "      <td>57.0</td>\n",
       "      <td>12.0</td>\n",
       "    </tr>\n",
       "    <tr>\n",
       "      <th>injury</th>\n",
       "      <td>50.0</td>\n",
       "      <td>18.0</td>\n",
       "    </tr>\n",
       "    <tr>\n",
       "      <th>weapon</th>\n",
       "      <td>47.0</td>\n",
       "      <td>31.0</td>\n",
       "    </tr>\n",
       "    <tr>\n",
       "      <th>fatality</th>\n",
       "      <td>46.0</td>\n",
       "      <td>36.0</td>\n",
       "    </tr>\n",
       "    <tr>\n",
       "      <th>body bags</th>\n",
       "      <td>40.0</td>\n",
       "      <td>1.0</td>\n",
       "    </tr>\n",
       "    <tr>\n",
       "      <th>...</th>\n",
       "      <td>...</td>\n",
       "      <td>...</td>\n",
       "    </tr>\n",
       "    <tr>\n",
       "      <th>suicide bomber</th>\n",
       "      <td>1.0</td>\n",
       "      <td>30.0</td>\n",
       "    </tr>\n",
       "    <tr>\n",
       "      <th>suicide bombing</th>\n",
       "      <td>1.0</td>\n",
       "      <td>31.0</td>\n",
       "    </tr>\n",
       "    <tr>\n",
       "      <th>debris</th>\n",
       "      <td>0.0</td>\n",
       "      <td>37.0</td>\n",
       "    </tr>\n",
       "    <tr>\n",
       "      <th>wreckage</th>\n",
       "      <td>0.0</td>\n",
       "      <td>39.0</td>\n",
       "    </tr>\n",
       "    <tr>\n",
       "      <th>derailment</th>\n",
       "      <td>0.0</td>\n",
       "      <td>35.0</td>\n",
       "    </tr>\n",
       "  </tbody>\n",
       "</table>\n",
       "<p>214 rows × 2 columns</p>\n",
       "</div>"
      ],
      "text/plain": [
       "                   id      \n",
       "target              0     1\n",
       "keyword_lem                \n",
       "siren            57.0  12.0\n",
       "injury           50.0  18.0\n",
       "weapon           47.0  31.0\n",
       "fatality         46.0  36.0\n",
       "body bags        40.0   1.0\n",
       "...               ...   ...\n",
       "suicide bomber    1.0  30.0\n",
       "suicide bombing   1.0  31.0\n",
       "debris            0.0  37.0\n",
       "wreckage          0.0  39.0\n",
       "derailment        0.0  35.0\n",
       "\n",
       "[214 rows x 2 columns]"
      ]
     },
     "execution_count": 189,
     "metadata": {},
     "output_type": "execute_result"
    }
   ],
   "source": [
    "key_pivot.sort_values(by=('id',0), ascending=False)"
   ]
  },
  {
   "cell_type": "markdown",
   "id": "fda71810",
   "metadata": {},
   "source": [
    "Target can be separated by keyword  \n",
    "Some keywords such as debris, wreckage indicates that the tweet is about disaster.  "
   ]
  },
  {
   "cell_type": "markdown",
   "id": "cb77839e",
   "metadata": {},
   "source": [
    "# Location\n",
    "\n",
    "3342 locations exists"
   ]
  },
  {
   "cell_type": "code",
   "execution_count": 21,
   "id": "98bc5261",
   "metadata": {},
   "outputs": [
    {
     "data": {
      "text/plain": [
       "(array([nan, 'Birmingham', 'Est. September 2012 - Bristol', ...,\n",
       "        'Vancouver, Canada', 'London ', 'Lincoln'], dtype=object),\n",
       " 3342)"
      ]
     },
     "execution_count": 21,
     "metadata": {},
     "output_type": "execute_result"
    }
   ],
   "source": [
    "train_data['location'].unique(), len(train_data['location'].unique())"
   ]
  },
  {
   "cell_type": "code",
   "execution_count": 22,
   "id": "4c27a8e5",
   "metadata": {},
   "outputs": [
    {
     "data": {
      "text/html": [
       "<div>\n",
       "<style scoped>\n",
       "    .dataframe tbody tr th:only-of-type {\n",
       "        vertical-align: middle;\n",
       "    }\n",
       "\n",
       "    .dataframe tbody tr th {\n",
       "        vertical-align: top;\n",
       "    }\n",
       "\n",
       "    .dataframe thead th {\n",
       "        text-align: right;\n",
       "    }\n",
       "</style>\n",
       "<table border=\"1\" class=\"dataframe\">\n",
       "  <thead>\n",
       "    <tr style=\"text-align: right;\">\n",
       "      <th></th>\n",
       "      <th>location</th>\n",
       "    </tr>\n",
       "  </thead>\n",
       "  <tbody>\n",
       "    <tr>\n",
       "      <th>1992</th>\n",
       "      <td>Columbia, SC</td>\n",
       "    </tr>\n",
       "    <tr>\n",
       "      <th>5637</th>\n",
       "      <td>Skyhold</td>\n",
       "    </tr>\n",
       "    <tr>\n",
       "      <th>3008</th>\n",
       "      <td>SD |Norway| KSA</td>\n",
       "    </tr>\n",
       "    <tr>\n",
       "      <th>2407</th>\n",
       "      <td>The Desert of the Real</td>\n",
       "    </tr>\n",
       "    <tr>\n",
       "      <th>546</th>\n",
       "      <td>Danville, VA</td>\n",
       "    </tr>\n",
       "    <tr>\n",
       "      <th>6120</th>\n",
       "      <td>NaN</td>\n",
       "    </tr>\n",
       "    <tr>\n",
       "      <th>1086</th>\n",
       "      <td>NaN</td>\n",
       "    </tr>\n",
       "    <tr>\n",
       "      <th>5631</th>\n",
       "      <td>Melbourne Australia</td>\n",
       "    </tr>\n",
       "    <tr>\n",
       "      <th>2232</th>\n",
       "      <td>World</td>\n",
       "    </tr>\n",
       "    <tr>\n",
       "      <th>3468</th>\n",
       "      <td>New York</td>\n",
       "    </tr>\n",
       "  </tbody>\n",
       "</table>\n",
       "</div>"
      ],
      "text/plain": [
       "                    location\n",
       "1992            Columbia, SC\n",
       "5637                 Skyhold\n",
       "3008         SD |Norway| KSA\n",
       "2407  The Desert of the Real\n",
       "546             Danville, VA\n",
       "6120                     NaN\n",
       "1086                     NaN\n",
       "5631     Melbourne Australia\n",
       "2232                   World\n",
       "3468                New York"
      ]
     },
     "execution_count": 22,
     "metadata": {},
     "output_type": "execute_result"
    }
   ],
   "source": [
    "train_data[['location']].sample(10)"
   ]
  },
  {
   "cell_type": "code",
   "execution_count": 23,
   "id": "f0355680",
   "metadata": {},
   "outputs": [],
   "source": [
    "remove_special = re.compile(\"[.;:!\\'?,\\\"()\\d\\[\\]<>%#\\^&=@\\+\\-\\$\\#\\\\/*]\")"
   ]
  },
  {
   "cell_type": "code",
   "execution_count": 24,
   "id": "4904e06a",
   "metadata": {},
   "outputs": [],
   "source": [
    "import numpy as np"
   ]
  },
  {
   "cell_type": "code",
   "execution_count": 25,
   "id": "17ac3972",
   "metadata": {},
   "outputs": [],
   "source": [
    "import math"
   ]
  },
  {
   "cell_type": "code",
   "execution_count": 26,
   "id": "17866622",
   "metadata": {},
   "outputs": [],
   "source": [
    "def loc_prep(data):\n",
    "    data = data.lower()\n",
    "    data = remove_special.sub(' ', data)\n",
    "    data = re.sub(' +', ' ', data)\n",
    "    return data"
   ]
  },
  {
   "cell_type": "code",
   "execution_count": 27,
   "id": "b728dcd0",
   "metadata": {},
   "outputs": [],
   "source": [
    "train_data['location'] = train_data['location'].fillna(' ')"
   ]
  },
  {
   "cell_type": "code",
   "execution_count": 28,
   "id": "c1673a3b",
   "metadata": {},
   "outputs": [],
   "source": [
    "train_data['location_prep'] = train_data['location'].apply(loc_prep)"
   ]
  },
  {
   "cell_type": "code",
   "execution_count": 29,
   "id": "ae96f434",
   "metadata": {},
   "outputs": [
    {
     "data": {
      "text/plain": [
       "(array([' ', 'birmingham', 'est september bristol', ..., 'denton texas',\n",
       "        ' newcastleupontyne uk', 'lincoln'], dtype=object),\n",
       " 3075)"
      ]
     },
     "execution_count": 29,
     "metadata": {},
     "output_type": "execute_result"
    }
   ],
   "source": [
    "train_data['location_prep'].unique(), len(train_data['location_prep'].unique())"
   ]
  },
  {
   "cell_type": "markdown",
   "id": "3ad7a16a",
   "metadata": {},
   "source": [
    "location data is not accurate.  \n",
    "some location data such as jupiter, everywhere seems no meaning.  \n",
    "Also there are many records that has no location.  \n",
    "It would be better to focus on keywords and text  "
   ]
  },
  {
   "cell_type": "code",
   "execution_count": 30,
   "id": "142b9003",
   "metadata": {},
   "outputs": [
    {
     "data": {
      "text/html": [
       "<div>\n",
       "<style scoped>\n",
       "    .dataframe tbody tr th:only-of-type {\n",
       "        vertical-align: middle;\n",
       "    }\n",
       "\n",
       "    .dataframe tbody tr th {\n",
       "        vertical-align: top;\n",
       "    }\n",
       "\n",
       "    .dataframe thead th {\n",
       "        text-align: right;\n",
       "    }\n",
       "</style>\n",
       "<table border=\"1\" class=\"dataframe\">\n",
       "  <thead>\n",
       "    <tr style=\"text-align: right;\">\n",
       "      <th></th>\n",
       "      <th>location_prep</th>\n",
       "    </tr>\n",
       "  </thead>\n",
       "  <tbody>\n",
       "    <tr>\n",
       "      <th>3534</th>\n",
       "      <td>south africa</td>\n",
       "    </tr>\n",
       "    <tr>\n",
       "      <th>6693</th>\n",
       "      <td></td>\n",
       "    </tr>\n",
       "    <tr>\n",
       "      <th>1717</th>\n",
       "      <td></td>\n",
       "    </tr>\n",
       "    <tr>\n",
       "      <th>1252</th>\n",
       "      <td>concord nh</td>\n",
       "    </tr>\n",
       "    <tr>\n",
       "      <th>2824</th>\n",
       "      <td>new york city</td>\n",
       "    </tr>\n",
       "    <tr>\n",
       "      <th>6935</th>\n",
       "      <td>north carolina</td>\n",
       "    </tr>\n",
       "    <tr>\n",
       "      <th>2853</th>\n",
       "      <td></td>\n",
       "    </tr>\n",
       "    <tr>\n",
       "      <th>559</th>\n",
       "      <td>dallas tx</td>\n",
       "    </tr>\n",
       "    <tr>\n",
       "      <th>1773</th>\n",
       "      <td>denver colorado</td>\n",
       "    </tr>\n",
       "    <tr>\n",
       "      <th>2614</th>\n",
       "      <td></td>\n",
       "    </tr>\n",
       "  </tbody>\n",
       "</table>\n",
       "</div>"
      ],
      "text/plain": [
       "        location_prep\n",
       "3534     south africa\n",
       "6693                 \n",
       "1717                 \n",
       "1252      concord nh \n",
       "2824    new york city\n",
       "6935  north carolina \n",
       "2853                 \n",
       "559         dallas tx\n",
       "1773  denver colorado\n",
       "2614                 "
      ]
     },
     "execution_count": 30,
     "metadata": {},
     "output_type": "execute_result"
    }
   ],
   "source": [
    "train_data[['location_prep']].sample(10)"
   ]
  },
  {
   "cell_type": "code",
   "execution_count": 31,
   "id": "856b11b9",
   "metadata": {},
   "outputs": [],
   "source": [
    "loc_pivot = pd.pivot_table(train_data[['location_prep','id','target']], index='location_prep', columns='target', aggfunc='count')\n",
    "loc_pivot = loc_pivot.fillna(0)"
   ]
  },
  {
   "cell_type": "markdown",
   "id": "e2e372bd",
   "metadata": {},
   "source": [
    "location does not show big difference to identify target"
   ]
  },
  {
   "cell_type": "code",
   "execution_count": 32,
   "id": "9b692199",
   "metadata": {},
   "outputs": [
    {
     "data": {
      "text/html": [
       "<div>\n",
       "<style scoped>\n",
       "    .dataframe tbody tr th:only-of-type {\n",
       "        vertical-align: middle;\n",
       "    }\n",
       "\n",
       "    .dataframe tbody tr th {\n",
       "        vertical-align: top;\n",
       "    }\n",
       "\n",
       "    .dataframe thead tr th {\n",
       "        text-align: left;\n",
       "    }\n",
       "\n",
       "    .dataframe thead tr:last-of-type th {\n",
       "        text-align: right;\n",
       "    }\n",
       "</style>\n",
       "<table border=\"1\" class=\"dataframe\">\n",
       "  <thead>\n",
       "    <tr>\n",
       "      <th></th>\n",
       "      <th colspan=\"2\" halign=\"left\">id</th>\n",
       "    </tr>\n",
       "    <tr>\n",
       "      <th>target</th>\n",
       "      <th>0</th>\n",
       "      <th>1</th>\n",
       "    </tr>\n",
       "    <tr>\n",
       "      <th>location_prep</th>\n",
       "      <th></th>\n",
       "      <th></th>\n",
       "    </tr>\n",
       "  </thead>\n",
       "  <tbody>\n",
       "    <tr>\n",
       "      <th></th>\n",
       "      <td>1496.0</td>\n",
       "      <td>1088.0</td>\n",
       "    </tr>\n",
       "    <tr>\n",
       "      <th>new york</th>\n",
       "      <td>58.0</td>\n",
       "      <td>17.0</td>\n",
       "    </tr>\n",
       "    <tr>\n",
       "      <th>usa</th>\n",
       "      <td>37.0</td>\n",
       "      <td>67.0</td>\n",
       "    </tr>\n",
       "    <tr>\n",
       "      <th>london</th>\n",
       "      <td>32.0</td>\n",
       "      <td>17.0</td>\n",
       "    </tr>\n",
       "    <tr>\n",
       "      <th>united states</th>\n",
       "      <td>23.0</td>\n",
       "      <td>27.0</td>\n",
       "    </tr>\n",
       "    <tr>\n",
       "      <th>los angeles ca</th>\n",
       "      <td>20.0</td>\n",
       "      <td>8.0</td>\n",
       "    </tr>\n",
       "    <tr>\n",
       "      <th>canada</th>\n",
       "      <td>16.0</td>\n",
       "      <td>17.0</td>\n",
       "    </tr>\n",
       "    <tr>\n",
       "      <th>kenya</th>\n",
       "      <td>16.0</td>\n",
       "      <td>5.0</td>\n",
       "    </tr>\n",
       "    <tr>\n",
       "      <th>everywhere</th>\n",
       "      <td>14.0</td>\n",
       "      <td>5.0</td>\n",
       "    </tr>\n",
       "    <tr>\n",
       "      <th>uk</th>\n",
       "      <td>13.0</td>\n",
       "      <td>17.0</td>\n",
       "    </tr>\n",
       "    <tr>\n",
       "      <th>worldwide</th>\n",
       "      <td>12.0</td>\n",
       "      <td>18.0</td>\n",
       "    </tr>\n",
       "    <tr>\n",
       "      <th>ìït</th>\n",
       "      <td>11.0</td>\n",
       "      <td>8.0</td>\n",
       "    </tr>\n",
       "    <tr>\n",
       "      <th>florida</th>\n",
       "      <td>11.0</td>\n",
       "      <td>3.0</td>\n",
       "    </tr>\n",
       "    <tr>\n",
       "      <th>california</th>\n",
       "      <td>11.0</td>\n",
       "      <td>7.0</td>\n",
       "    </tr>\n",
       "    <tr>\n",
       "      <th>nyc</th>\n",
       "      <td>11.0</td>\n",
       "      <td>4.0</td>\n",
       "    </tr>\n",
       "    <tr>\n",
       "      <th>united kingdom</th>\n",
       "      <td>10.0</td>\n",
       "      <td>4.0</td>\n",
       "    </tr>\n",
       "    <tr>\n",
       "      <th>chicago il</th>\n",
       "      <td>10.0</td>\n",
       "      <td>10.0</td>\n",
       "    </tr>\n",
       "    <tr>\n",
       "      <th>new york ny</th>\n",
       "      <td>10.0</td>\n",
       "      <td>7.0</td>\n",
       "    </tr>\n",
       "  </tbody>\n",
       "</table>\n",
       "</div>"
      ],
      "text/plain": [
       "                    id        \n",
       "target               0       1\n",
       "location_prep                 \n",
       "                1496.0  1088.0\n",
       "new york          58.0    17.0\n",
       "usa               37.0    67.0\n",
       "london            32.0    17.0\n",
       "united states     23.0    27.0\n",
       "los angeles ca    20.0     8.0\n",
       "canada            16.0    17.0\n",
       "kenya             16.0     5.0\n",
       "everywhere        14.0     5.0\n",
       "uk                13.0    17.0\n",
       "worldwide         12.0    18.0\n",
       "ìït               11.0     8.0\n",
       "florida           11.0     3.0\n",
       "california        11.0     7.0\n",
       "nyc               11.0     4.0\n",
       "united kingdom    10.0     4.0\n",
       "chicago il        10.0    10.0\n",
       "new york ny       10.0     7.0"
      ]
     },
     "execution_count": 32,
     "metadata": {},
     "output_type": "execute_result"
    }
   ],
   "source": [
    "loc_pivot.sort_values(by=('id',0), ascending=False).loc[loc_pivot[('id',0)]>=10]"
   ]
  },
  {
   "cell_type": "markdown",
   "id": "4f3c264c",
   "metadata": {},
   "source": [
    "# Text\n",
    "I referenced 'https://www.kaggle.com/code/rohitgarud/all-almost-data-preprocessing-techniques-for-nlp' to preprocessed text data."
   ]
  },
  {
   "cell_type": "code",
   "execution_count": 33,
   "id": "79f40a8d",
   "metadata": {},
   "outputs": [],
   "source": [
    "pd.set_option('display.max_colwidth', None)"
   ]
  },
  {
   "cell_type": "markdown",
   "id": "87405090",
   "metadata": {},
   "source": [
    "Needs to be cleaned up   \n",
    "* 'urls'\n",
    "* 'mention'\n",
    "* 'tags', \n",
    "* abbreviation\n",
    "* HTML"
   ]
  },
  {
   "cell_type": "code",
   "execution_count": 34,
   "id": "22f7df2c",
   "metadata": {},
   "outputs": [
    {
     "data": {
      "text/html": [
       "<div>\n",
       "<style scoped>\n",
       "    .dataframe tbody tr th:only-of-type {\n",
       "        vertical-align: middle;\n",
       "    }\n",
       "\n",
       "    .dataframe tbody tr th {\n",
       "        vertical-align: top;\n",
       "    }\n",
       "\n",
       "    .dataframe thead th {\n",
       "        text-align: right;\n",
       "    }\n",
       "</style>\n",
       "<table border=\"1\" class=\"dataframe\">\n",
       "  <thead>\n",
       "    <tr style=\"text-align: right;\">\n",
       "      <th></th>\n",
       "      <th>text</th>\n",
       "    </tr>\n",
       "  </thead>\n",
       "  <tbody>\n",
       "    <tr>\n",
       "      <th>3835</th>\n",
       "      <td>As firefighters make gains on #RockyFire Jerry Brown is heading to the area to meet with first responders tomorrow morning</td>\n",
       "    </tr>\n",
       "    <tr>\n",
       "      <th>7017</th>\n",
       "      <td>#Breaking144 Obama Declares Disaster for Typhoon-Devastated Saipan: Obama signs disaster declarat... http://t.co/M8CIKs60BX #AceNewsDesk</td>\n",
       "    </tr>\n",
       "    <tr>\n",
       "      <th>7366</th>\n",
       "      <td>When I breathe it sounds like a windstorm. Haha cool</td>\n",
       "    </tr>\n",
       "    <tr>\n",
       "      <th>2440</th>\n",
       "      <td>Service on the Green Line has resumed after an earlier derailment near Garfield with residual delays.</td>\n",
       "    </tr>\n",
       "    <tr>\n",
       "      <th>5909</th>\n",
       "      <td>I can't listen to Darude Sandstorm without expecting airhorns now</td>\n",
       "    </tr>\n",
       "    <tr>\n",
       "      <th>4115</th>\n",
       "      <td>Gotta love #summer in #Calgary. #yyc #hailstorm #crazyweather http://t.co/xQbWnLBBIu</td>\n",
       "    </tr>\n",
       "    <tr>\n",
       "      <th>5486</th>\n",
       "      <td>Yet another company trying to censor the Internet. Reddit has started to quarantine their content: http://t.co/pG4y3I5ciu #cc</td>\n",
       "    </tr>\n",
       "    <tr>\n",
       "      <th>738</th>\n",
       "      <td>@burberryant bleeding on the brain don't know the cause</td>\n",
       "    </tr>\n",
       "    <tr>\n",
       "      <th>2598</th>\n",
       "      <td>I always felt like the Namekians were black people and felt played when they died and the planet got destroyed ??</td>\n",
       "    </tr>\n",
       "    <tr>\n",
       "      <th>4122</th>\n",
       "      <td>IG: http://t.co/2WBiVKzJIP 'It's hailing again! #abstorm #yyc #hail #hailstorm #haildamage #yycweather #calgary #captureyyc #alberta #stoÛ_</td>\n",
       "    </tr>\n",
       "  </tbody>\n",
       "</table>\n",
       "</div>"
      ],
      "text/plain": [
       "                                                                                                                                              text\n",
       "3835                    As firefighters make gains on #RockyFire Jerry Brown is heading to the area to meet with first responders tomorrow morning\n",
       "7017      #Breaking144 Obama Declares Disaster for Typhoon-Devastated Saipan: Obama signs disaster declarat... http://t.co/M8CIKs60BX #AceNewsDesk\n",
       "7366                                                                                          When I breathe it sounds like a windstorm. Haha cool\n",
       "2440                                         Service on the Green Line has resumed after an earlier derailment near Garfield with residual delays.\n",
       "5909                                                                             I can't listen to Darude Sandstorm without expecting airhorns now\n",
       "4115                                                          Gotta love #summer in #Calgary. #yyc #hailstorm #crazyweather http://t.co/xQbWnLBBIu\n",
       "5486                 Yet another company trying to censor the Internet. Reddit has started to quarantine their content: http://t.co/pG4y3I5ciu #cc\n",
       "738                                                                                        @burberryant bleeding on the brain don't know the cause\n",
       "2598                             I always felt like the Namekians were black people and felt played when they died and the planet got destroyed ??\n",
       "4122  IG: http://t.co/2WBiVKzJIP 'It's hailing again! #abstorm #yyc #hail #hailstorm #haildamage #yycweather #calgary #captureyyc #alberta #stoÛ_"
      ]
     },
     "execution_count": 34,
     "metadata": {},
     "output_type": "execute_result"
    }
   ],
   "source": [
    "train_data[['text']].sample(10)"
   ]
  },
  {
   "cell_type": "markdown",
   "id": "d5856134",
   "metadata": {},
   "source": [
    "### lower case"
   ]
  },
  {
   "cell_type": "code",
   "execution_count": 35,
   "id": "462b1010",
   "metadata": {},
   "outputs": [],
   "source": [
    "train_data['text_lower'] = train_data['text'].str.lower()"
   ]
  },
  {
   "cell_type": "markdown",
   "id": "fd063e34",
   "metadata": {},
   "source": [
    "### contractions  \n",
    "expand contractions such as can't -> can not"
   ]
  },
  {
   "cell_type": "code",
   "execution_count": 36,
   "id": "21c4901b",
   "metadata": {},
   "outputs": [],
   "source": [
    "import contractions"
   ]
  },
  {
   "cell_type": "code",
   "execution_count": 38,
   "id": "c60c9ff8",
   "metadata": {},
   "outputs": [],
   "source": [
    "train_data['text_noContractions'] = train_data['text_lower'].apply(contractions.fix)"
   ]
  },
  {
   "cell_type": "code",
   "execution_count": 40,
   "id": "923612c6",
   "metadata": {},
   "outputs": [
    {
     "data": {
      "text/html": [
       "<div>\n",
       "<style scoped>\n",
       "    .dataframe tbody tr th:only-of-type {\n",
       "        vertical-align: middle;\n",
       "    }\n",
       "\n",
       "    .dataframe tbody tr th {\n",
       "        vertical-align: top;\n",
       "    }\n",
       "\n",
       "    .dataframe thead th {\n",
       "        text-align: right;\n",
       "    }\n",
       "</style>\n",
       "<table border=\"1\" class=\"dataframe\">\n",
       "  <thead>\n",
       "    <tr style=\"text-align: right;\">\n",
       "      <th></th>\n",
       "      <th>text_lower</th>\n",
       "      <th>text_noContractions</th>\n",
       "    </tr>\n",
       "  </thead>\n",
       "  <tbody>\n",
       "    <tr>\n",
       "      <th>6244</th>\n",
       "      <td>@cacheadvance besides your nasty thunderstorm or snowstorm nah. can't say that i have.</td>\n",
       "      <td>@cacheadvance besides your nasty thunderstorm or snowstorm nah. cannot say that i have.</td>\n",
       "    </tr>\n",
       "    <tr>\n",
       "      <th>6893</th>\n",
       "      <td>@malabamiandsons she's proper traumatised that pepper is 'dead' i can't wait to see her face</td>\n",
       "      <td>@malabamiandsons she is proper traumatised that pepper is 'dead' i cannot wait to see her face</td>\n",
       "    </tr>\n",
       "    <tr>\n",
       "      <th>4961</th>\n",
       "      <td>@nprfreshair i really can't believe he is skipping out before the republican meltdown...i mean 'debate'.</td>\n",
       "      <td>@nprfreshair i really cannot believe he is skipping out before the republican meltdown...i mean 'debate'.</td>\n",
       "    </tr>\n",
       "  </tbody>\n",
       "</table>\n",
       "</div>"
      ],
      "text/plain": [
       "                                                                                                    text_lower  \\\n",
       "6244                    @cacheadvance besides your nasty thunderstorm or snowstorm nah. can't say that i have.   \n",
       "6893              @malabamiandsons she's proper traumatised that pepper is 'dead' i can't wait to see her face   \n",
       "4961  @nprfreshair i really can't believe he is skipping out before the republican meltdown...i mean 'debate'.   \n",
       "\n",
       "                                                                                            text_noContractions  \n",
       "6244                    @cacheadvance besides your nasty thunderstorm or snowstorm nah. cannot say that i have.  \n",
       "6893             @malabamiandsons she is proper traumatised that pepper is 'dead' i cannot wait to see her face  \n",
       "4961  @nprfreshair i really cannot believe he is skipping out before the republican meltdown...i mean 'debate'.  "
      ]
     },
     "execution_count": 40,
     "metadata": {},
     "output_type": "execute_result"
    }
   ],
   "source": [
    "train_data.loc[train_data['text_lower'].str.contains(\"can't\"), ['text_lower', 'text_noContractions']].sample(3)"
   ]
  },
  {
   "cell_type": "markdown",
   "id": "5258b3a3",
   "metadata": {},
   "source": [
    "### urls  "
   ]
  },
  {
   "cell_type": "code",
   "execution_count": 41,
   "id": "6004f911",
   "metadata": {},
   "outputs": [],
   "source": [
    "def rem_urls(data):\n",
    "    regex = re.compile(f\"https?://(www\\.)?(\\w+)(\\.\\w+)(/\\w*)?\")\n",
    "    data = re.sub(regex, \"\", data)\n",
    "    return data"
   ]
  },
  {
   "cell_type": "code",
   "execution_count": 42,
   "id": "3c4f4e58",
   "metadata": {},
   "outputs": [],
   "source": [
    "train_data['text_noURLs'] = train_data['text_noContractions'].apply(rem_urls)"
   ]
  },
  {
   "cell_type": "code",
   "execution_count": 43,
   "id": "3762f996",
   "metadata": {},
   "outputs": [
    {
     "data": {
      "text/html": [
       "<div>\n",
       "<style scoped>\n",
       "    .dataframe tbody tr th:only-of-type {\n",
       "        vertical-align: middle;\n",
       "    }\n",
       "\n",
       "    .dataframe tbody tr th {\n",
       "        vertical-align: top;\n",
       "    }\n",
       "\n",
       "    .dataframe thead th {\n",
       "        text-align: right;\n",
       "    }\n",
       "</style>\n",
       "<table border=\"1\" class=\"dataframe\">\n",
       "  <thead>\n",
       "    <tr style=\"text-align: right;\">\n",
       "      <th></th>\n",
       "      <th>text_noContractions</th>\n",
       "      <th>text_noURLs</th>\n",
       "    </tr>\n",
       "  </thead>\n",
       "  <tbody>\n",
       "    <tr>\n",
       "      <th>522</th>\n",
       "      <td>i bet you did not know i kick box too! https://t.co/rbrw8pwipj</td>\n",
       "      <td>i bet you did not know i kick box too!</td>\n",
       "    </tr>\n",
       "    <tr>\n",
       "      <th>397</th>\n",
       "      <td>mourning notices for stabbing arson victims stir û÷politics of griefûª in israel: posters for shira banki and a... http://t.co/3gz5zqqthe</td>\n",
       "      <td>mourning notices for stabbing arson victims stir û÷politics of griefûª in israel: posters for shira banki and a...</td>\n",
       "    </tr>\n",
       "    <tr>\n",
       "      <th>3618</th>\n",
       "      <td>let us fraction the vital need for our fatalities.  how would you break it down in #education #econom http://t.co/zsqm8ihe1k</td>\n",
       "      <td>let us fraction the vital need for our fatalities.  how would you break it down in #education #econom</td>\n",
       "    </tr>\n",
       "  </tbody>\n",
       "</table>\n",
       "</div>"
      ],
      "text/plain": [
       "                                                                                                                              text_noContractions  \\\n",
       "522                                                                                i bet you did not know i kick box too! https://t.co/rbrw8pwipj   \n",
       "397   mourning notices for stabbing arson victims stir û÷politics of griefûª in israel: posters for shira banki and a... http://t.co/3gz5zqqthe   \n",
       "3618                 let us fraction the vital need for our fatalities.  how would you break it down in #education #econom http://t.co/zsqm8ihe1k   \n",
       "\n",
       "                                                                                                                text_noURLs  \n",
       "522                                                                                 i bet you did not know i kick box too!   \n",
       "397   mourning notices for stabbing arson victims stir û÷politics of griefûª in israel: posters for shira banki and a...   \n",
       "3618                 let us fraction the vital need for our fatalities.  how would you break it down in #education #econom   "
      ]
     },
     "execution_count": 43,
     "metadata": {},
     "output_type": "execute_result"
    }
   ],
   "source": [
    "train_data.loc[train_data['text_noContractions'].str.contains('http'), ['text_noContractions', 'text_noURLs']].sample(3)"
   ]
  },
  {
   "cell_type": "markdown",
   "id": "eee313ba",
   "metadata": {},
   "source": [
    "### emails\n",
    "one records in train dataset has email"
   ]
  },
  {
   "cell_type": "code",
   "execution_count": 90,
   "id": "a0d3117d",
   "metadata": {},
   "outputs": [
    {
     "name": "stderr",
     "output_type": "stream",
     "text": [
      "C:\\Users\\jaydenpark\\AppData\\Local\\Temp\\2\\ipykernel_29188\\2899222789.py:1: UserWarning: This pattern is interpreted as a regular expression, and has match groups. To actually get the groups, use str.extract.\n",
      "  train_data[train_data['text_noURLs'].str.contains(\"([A-Za-z0-9]+[.-_])*[A-Za-z0-9]+@[A-Za-z0-9-]+(\\.[A-Z|a-z]{2,})+\", regex=True)]\n"
     ]
    },
    {
     "data": {
      "text/html": [
       "<div>\n",
       "<style scoped>\n",
       "    .dataframe tbody tr th:only-of-type {\n",
       "        vertical-align: middle;\n",
       "    }\n",
       "\n",
       "    .dataframe tbody tr th {\n",
       "        vertical-align: top;\n",
       "    }\n",
       "\n",
       "    .dataframe thead th {\n",
       "        text-align: right;\n",
       "    }\n",
       "</style>\n",
       "<table border=\"1\" class=\"dataframe\">\n",
       "  <thead>\n",
       "    <tr style=\"text-align: right;\">\n",
       "      <th></th>\n",
       "      <th>id</th>\n",
       "      <th>keyword</th>\n",
       "      <th>location</th>\n",
       "      <th>text</th>\n",
       "      <th>target</th>\n",
       "      <th>keyword_lem</th>\n",
       "      <th>location_prep</th>\n",
       "      <th>text_lower</th>\n",
       "      <th>text_noContractions</th>\n",
       "      <th>text_noURLs</th>\n",
       "      <th>text_noEmail</th>\n",
       "    </tr>\n",
       "  </thead>\n",
       "  <tbody>\n",
       "    <tr>\n",
       "      <th>2254</th>\n",
       "      <td>3229</td>\n",
       "      <td>deluged</td>\n",
       "      <td>Wellington</td>\n",
       "      <td>@TheSewphist whoever holds the address 'fuckface@wineisdumb.com' is going to be deluged in spam meant for me</td>\n",
       "      <td>0</td>\n",
       "      <td>deluged</td>\n",
       "      <td>wellington</td>\n",
       "      <td>@thesewphist whoever holds the address 'fuckface@wineisdumb.com' is going to be deluged in spam meant for me</td>\n",
       "      <td>@thesewphist whoever holds the address 'fuckface@wineisdumb.com' is going to be deluged in spam meant for me</td>\n",
       "      <td>@thesewphist whoever holds the address 'fuckface@wineisdumb.com' is going to be deluged in spam meant for me</td>\n",
       "      <td>@thesewphist whoever holds the address '' is going to be deluged in spam meant for me</td>\n",
       "    </tr>\n",
       "  </tbody>\n",
       "</table>\n",
       "</div>"
      ],
      "text/plain": [
       "        id  keyword    location  \\\n",
       "2254  3229  deluged  Wellington   \n",
       "\n",
       "                                                                                                              text  \\\n",
       "2254  @TheSewphist whoever holds the address 'fuckface@wineisdumb.com' is going to be deluged in spam meant for me   \n",
       "\n",
       "      target keyword_lem location_prep  \\\n",
       "2254       0     deluged    wellington   \n",
       "\n",
       "                                                                                                        text_lower  \\\n",
       "2254  @thesewphist whoever holds the address 'fuckface@wineisdumb.com' is going to be deluged in spam meant for me   \n",
       "\n",
       "                                                                                               text_noContractions  \\\n",
       "2254  @thesewphist whoever holds the address 'fuckface@wineisdumb.com' is going to be deluged in spam meant for me   \n",
       "\n",
       "                                                                                                       text_noURLs  \\\n",
       "2254  @thesewphist whoever holds the address 'fuckface@wineisdumb.com' is going to be deluged in spam meant for me   \n",
       "\n",
       "                                                                               text_noEmail  \n",
       "2254  @thesewphist whoever holds the address '' is going to be deluged in spam meant for me  "
      ]
     },
     "execution_count": 90,
     "metadata": {},
     "output_type": "execute_result"
    }
   ],
   "source": [
    "train_data[train_data['text_noURLs'].str.contains(\"([A-Za-z0-9]+[.-_])*[A-Za-z0-9]+@[A-Za-z0-9-]+(\\.[A-Z|a-z]{2,})+\", regex=True)]"
   ]
  },
  {
   "cell_type": "code",
   "execution_count": 91,
   "id": "722f78c7",
   "metadata": {},
   "outputs": [],
   "source": [
    "def rem_emails(data):\n",
    "    regex = re.compile(\"([A-Za-z0-9]+[.-_])*[A-Za-z0-9]+@[A-Za-z0-9-]+(\\.[A-Z|a-z]{2,})+\")\n",
    "    data = re.sub(regex, \"\", data)\n",
    "    return data"
   ]
  },
  {
   "cell_type": "code",
   "execution_count": 92,
   "id": "90806491",
   "metadata": {},
   "outputs": [],
   "source": [
    "train_data['text_noEmail'] = train_data['text_noURLs'].apply(rem_emails)"
   ]
  },
  {
   "cell_type": "code",
   "execution_count": 94,
   "id": "5730f1d9",
   "metadata": {},
   "outputs": [
    {
     "data": {
      "text/plain": [
       "text_noURLs     @thesewphist whoever holds the address 'fuckface@wineisdumb.com' is going to be deluged in spam meant for me\n",
       "text_noEmail                           @thesewphist whoever holds the address '' is going to be deluged in spam meant for me\n",
       "Name: 2254, dtype: object"
      ]
     },
     "execution_count": 94,
     "metadata": {},
     "output_type": "execute_result"
    }
   ],
   "source": [
    "train_data.loc[2254, ['text_noURLs', 'text_noEmail']]"
   ]
  },
  {
   "cell_type": "markdown",
   "id": "f13660d7",
   "metadata": {},
   "source": [
    "### HTML"
   ]
  },
  {
   "cell_type": "code",
   "execution_count": 95,
   "id": "1df37d6e",
   "metadata": {},
   "outputs": [],
   "source": [
    "from bs4 import BeautifulSoup"
   ]
  },
  {
   "cell_type": "code",
   "execution_count": 96,
   "id": "e4ac0962",
   "metadata": {},
   "outputs": [
    {
     "name": "stderr",
     "output_type": "stream",
     "text": [
      "C:\\Users\\jaydenpark\\Anaconda3\\envs\\nlp3\\lib\\site-packages\\bs4\\__init__.py:435: MarkupResemblesLocatorWarning: The input looks more like a filename than markup. You may want to open this file and pass the filehandle into Beautiful Soup.\n",
      "  warnings.warn(\n"
     ]
    }
   ],
   "source": [
    "train_data['text_noHTML'] = train_data['text_noEmail'].apply(lambda x: BeautifulSoup(x).get_text())"
   ]
  },
  {
   "cell_type": "code",
   "execution_count": 97,
   "id": "42f1bd15",
   "metadata": {},
   "outputs": [
    {
     "data": {
      "text/html": [
       "<div>\n",
       "<style scoped>\n",
       "    .dataframe tbody tr th:only-of-type {\n",
       "        vertical-align: middle;\n",
       "    }\n",
       "\n",
       "    .dataframe tbody tr th {\n",
       "        vertical-align: top;\n",
       "    }\n",
       "\n",
       "    .dataframe thead th {\n",
       "        text-align: right;\n",
       "    }\n",
       "</style>\n",
       "<table border=\"1\" class=\"dataframe\">\n",
       "  <thead>\n",
       "    <tr style=\"text-align: right;\">\n",
       "      <th></th>\n",
       "      <th>text_noEmail</th>\n",
       "      <th>text_noHTML</th>\n",
       "    </tr>\n",
       "  </thead>\n",
       "  <tbody>\n",
       "    <tr>\n",
       "      <th>2268</th>\n",
       "      <td>they have come back!! &amp;gt;&amp;gt; flying ant day: capital deluged by annual swarm of winged insects</td>\n",
       "      <td>they have come back!! &gt;&gt; flying ant day: capital deluged by annual swarm of winged insects</td>\n",
       "    </tr>\n",
       "    <tr>\n",
       "      <th>6555</th>\n",
       "      <td>today your life could change forever - #chronicillness cannot be avoided - it can be survived\\n\\njoin #mylifestory &amp;gt;&amp;gt;&amp;gt;</td>\n",
       "      <td>today your life could change forever - #chronicillness cannot be avoided - it can be survived\\n\\njoin #mylifestory &gt;&gt;&gt;</td>\n",
       "    </tr>\n",
       "    <tr>\n",
       "      <th>6661</th>\n",
       "      <td>@kinggerudo_ to the largest moblin's he would leaving the biggest one for red and fired. with one strike already the threat was reduced --&amp;gt;</td>\n",
       "      <td>@kinggerudo_ to the largest moblin's he would leaving the biggest one for red and fired. with one strike already the threat was reduced --&gt;</td>\n",
       "    </tr>\n",
       "  </tbody>\n",
       "</table>\n",
       "</div>"
      ],
      "text/plain": [
       "                                                                                                                                        text_noEmail  \\\n",
       "2268                                               they have come back!! &gt;&gt; flying ant day: capital deluged by annual swarm of winged insects    \n",
       "6555                today your life could change forever - #chronicillness cannot be avoided - it can be survived\\n\\njoin #mylifestory &gt;&gt;&gt;    \n",
       "6661  @kinggerudo_ to the largest moblin's he would leaving the biggest one for red and fired. with one strike already the threat was reduced --&gt;   \n",
       "\n",
       "                                                                                                                                      text_noHTML  \n",
       "2268                                                  they have come back!! >> flying ant day: capital deluged by annual swarm of winged insects   \n",
       "6555                      today your life could change forever - #chronicillness cannot be avoided - it can be survived\\n\\njoin #mylifestory >>>   \n",
       "6661  @kinggerudo_ to the largest moblin's he would leaving the biggest one for red and fired. with one strike already the threat was reduced -->  "
      ]
     },
     "execution_count": 97,
     "metadata": {},
     "output_type": "execute_result"
    }
   ],
   "source": [
    "train_data.loc[train_data['text_noEmail'].str.contains('&gt'), ['text_noEmail', 'text_noHTML']].sample(3)"
   ]
  },
  {
   "cell_type": "markdown",
   "id": "14b89703",
   "metadata": {},
   "source": [
    "### Mentions (@)\n",
    "Tweeter uses @ to call naems of people, so it is not helpful to classify disaster  \n",
    "It should be done before removing @ alone."
   ]
  },
  {
   "cell_type": "code",
   "execution_count": 98,
   "id": "f959ca5b",
   "metadata": {},
   "outputs": [],
   "source": [
    "def rem_mention(data):\n",
    "    regex = re.compile('@\\w+')\n",
    "    data = re.sub(regex, '', data)\n",
    "    return data"
   ]
  },
  {
   "cell_type": "code",
   "execution_count": 99,
   "id": "c4685a3e",
   "metadata": {},
   "outputs": [],
   "source": [
    "train_data['text_noMention'] = train_data['text_noHTML'].apply(rem_mention)"
   ]
  },
  {
   "cell_type": "code",
   "execution_count": 100,
   "id": "f2f852d6",
   "metadata": {},
   "outputs": [
    {
     "data": {
      "text/html": [
       "<div>\n",
       "<style scoped>\n",
       "    .dataframe tbody tr th:only-of-type {\n",
       "        vertical-align: middle;\n",
       "    }\n",
       "\n",
       "    .dataframe tbody tr th {\n",
       "        vertical-align: top;\n",
       "    }\n",
       "\n",
       "    .dataframe thead th {\n",
       "        text-align: right;\n",
       "    }\n",
       "</style>\n",
       "<table border=\"1\" class=\"dataframe\">\n",
       "  <thead>\n",
       "    <tr style=\"text-align: right;\">\n",
       "      <th></th>\n",
       "      <th>text_noHTML</th>\n",
       "      <th>text_noMention</th>\n",
       "    </tr>\n",
       "  </thead>\n",
       "  <tbody>\n",
       "    <tr>\n",
       "      <th>5156</th>\n",
       "      <td>@klavierstuk does not so lvg is forced into the market. may beat spurs and smaller teams with blind lcb. top 4/ cl teams will obliterate us.</td>\n",
       "      <td>does not so lvg is forced into the market. may beat spurs and smaller teams with blind lcb. top 4/ cl teams will obliterate us.</td>\n",
       "    </tr>\n",
       "    <tr>\n",
       "      <th>2490</th>\n",
       "      <td>@corleonedaboss there is not anything there its desolate because of its nature. the significance is that we were the first country to do it</td>\n",
       "      <td>there is not anything there its desolate because of its nature. the significance is that we were the first country to do it</td>\n",
       "    </tr>\n",
       "    <tr>\n",
       "      <th>1843</th>\n",
       "      <td>heard #skh on the radio for the first time. almost crashed the car. @5sos @ashton5sos @luke5sos @michael5sos @calum5sos</td>\n",
       "      <td>heard #skh on the radio for the first time. almost crashed the car.</td>\n",
       "    </tr>\n",
       "  </tbody>\n",
       "</table>\n",
       "</div>"
      ],
      "text/plain": [
       "                                                                                                                                       text_noHTML  \\\n",
       "5156  @klavierstuk does not so lvg is forced into the market. may beat spurs and smaller teams with blind lcb. top 4/ cl teams will obliterate us.   \n",
       "2490   @corleonedaboss there is not anything there its desolate because of its nature. the significance is that we were the first country to do it   \n",
       "1843                       heard #skh on the radio for the first time. almost crashed the car. @5sos @ashton5sos @luke5sos @michael5sos @calum5sos   \n",
       "\n",
       "                                                                                                                        text_noMention  \n",
       "5156   does not so lvg is forced into the market. may beat spurs and smaller teams with blind lcb. top 4/ cl teams will obliterate us.  \n",
       "2490       there is not anything there its desolate because of its nature. the significance is that we were the first country to do it  \n",
       "1843                                                          heard #skh on the radio for the first time. almost crashed the car.       "
      ]
     },
     "execution_count": 100,
     "metadata": {},
     "output_type": "execute_result"
    }
   ],
   "source": [
    "train_data.loc[train_data['text_noHTML'].str.contains('@\\w+', regex=True), ['text_noHTML', 'text_noMention']].sample(3)"
   ]
  },
  {
   "cell_type": "markdown",
   "id": "73e139e6",
   "metadata": {},
   "source": [
    "### Emojis\n",
    "reference says this should be discussed, and I would like to apply some emojis conversion  "
   ]
  },
  {
   "cell_type": "code",
   "execution_count": 146,
   "id": "5f3aa6d2",
   "metadata": {},
   "outputs": [
    {
     "data": {
      "text/html": [
       "<div>\n",
       "<style scoped>\n",
       "    .dataframe tbody tr th:only-of-type {\n",
       "        vertical-align: middle;\n",
       "    }\n",
       "\n",
       "    .dataframe tbody tr th {\n",
       "        vertical-align: top;\n",
       "    }\n",
       "\n",
       "    .dataframe thead th {\n",
       "        text-align: right;\n",
       "    }\n",
       "</style>\n",
       "<table border=\"1\" class=\"dataframe\">\n",
       "  <thead>\n",
       "    <tr style=\"text-align: right;\">\n",
       "      <th></th>\n",
       "      <th>id</th>\n",
       "      <th>keyword</th>\n",
       "      <th>location</th>\n",
       "      <th>text</th>\n",
       "      <th>target</th>\n",
       "      <th>keyword_lem</th>\n",
       "      <th>location_prep</th>\n",
       "      <th>text_lower</th>\n",
       "      <th>text_noContractions</th>\n",
       "      <th>text_noURLs</th>\n",
       "      <th>text_noEmail</th>\n",
       "      <th>text_noHTML</th>\n",
       "      <th>text_noMention</th>\n",
       "      <th>text_noEmoji</th>\n",
       "    </tr>\n",
       "  </thead>\n",
       "  <tbody>\n",
       "    <tr>\n",
       "      <th>5395</th>\n",
       "      <td>7696</td>\n",
       "      <td>panicking</td>\n",
       "      <td>Petaluma, CA</td>\n",
       "      <td>@QuotesTTG Save the panicking for when you get to Helios. ;)</td>\n",
       "      <td>0</td>\n",
       "      <td>panicking</td>\n",
       "      <td>petaluma ca</td>\n",
       "      <td>@quotesttg save the panicking for when you get to helios. ;)</td>\n",
       "      <td>@quotesttg save the panicking for when you get to helios. ;)</td>\n",
       "      <td>@quotesttg save the panicking for when you get to helios. ;)</td>\n",
       "      <td>@quotesttg save the panicking for when you get to helios. ;)</td>\n",
       "      <td>@quotesttg save the panicking for when you get to helios. ;)</td>\n",
       "      <td>save the panicking for when you get to helios. ;)</td>\n",
       "      <td>save the panicking for when you get to helios. happiness</td>\n",
       "    </tr>\n",
       "    <tr>\n",
       "      <th>3753</th>\n",
       "      <td>5332</td>\n",
       "      <td>fire</td>\n",
       "      <td>St.Cloud, MN</td>\n",
       "      <td>Dear @CanonUSAimaging I brought it ;) #CanonBringIt #Fire  #CanonTattoo #MN #TheresMoreWhereThatCameFrom http://t.co/tCXxHdJAs6</td>\n",
       "      <td>0</td>\n",
       "      <td>fire</td>\n",
       "      <td>st cloud mn</td>\n",
       "      <td>dear @canonusaimaging i brought it ;) #canonbringit #fire  #canontattoo #mn #theresmorewherethatcamefrom http://t.co/tcxxhdjas6</td>\n",
       "      <td>dear @canonusaimaging i brought it ;) #canonbringit #fire  #canontattoo #mn #theresmorewherethatcamefrom http://t.co/tcxxhdjas6</td>\n",
       "      <td>dear @canonusaimaging i brought it ;) #canonbringit #fire  #canontattoo #mn #theresmorewherethatcamefrom</td>\n",
       "      <td>dear @canonusaimaging i brought it ;) #canonbringit #fire  #canontattoo #mn #theresmorewherethatcamefrom</td>\n",
       "      <td>dear @canonusaimaging i brought it ;) #canonbringit #fire  #canontattoo #mn #theresmorewherethatcamefrom</td>\n",
       "      <td>dear  i brought it ;) #canonbringit #fire  #canontattoo #mn #theresmorewherethatcamefrom</td>\n",
       "      <td>dear  i brought it happiness #canonbringit #fire  #canontattoo #mn #theresmorewherethatcamefrom</td>\n",
       "    </tr>\n",
       "    <tr>\n",
       "      <th>21</th>\n",
       "      <td>32</td>\n",
       "      <td></td>\n",
       "      <td></td>\n",
       "      <td>London is cool ;)</td>\n",
       "      <td>0</td>\n",
       "      <td></td>\n",
       "      <td></td>\n",
       "      <td>london is cool ;)</td>\n",
       "      <td>london is cool ;)</td>\n",
       "      <td>london is cool ;)</td>\n",
       "      <td>london is cool ;)</td>\n",
       "      <td>london is cool ;)</td>\n",
       "      <td>london is cool ;)</td>\n",
       "      <td>london is cool happiness</td>\n",
       "    </tr>\n",
       "  </tbody>\n",
       "</table>\n",
       "</div>"
      ],
      "text/plain": [
       "        id    keyword      location  \\\n",
       "5395  7696  panicking  Petaluma, CA   \n",
       "3753  5332       fire  St.Cloud, MN   \n",
       "21      32                            \n",
       "\n",
       "                                                                                                                                 text  \\\n",
       "5395                                                                     @QuotesTTG Save the panicking for when you get to Helios. ;)   \n",
       "3753  Dear @CanonUSAimaging I brought it ;) #CanonBringIt #Fire  #CanonTattoo #MN #TheresMoreWhereThatCameFrom http://t.co/tCXxHdJAs6   \n",
       "21                                                                                                                  London is cool ;)   \n",
       "\n",
       "      target keyword_lem location_prep  \\\n",
       "5395       0   panicking   petaluma ca   \n",
       "3753       0        fire   st cloud mn   \n",
       "21         0                             \n",
       "\n",
       "                                                                                                                           text_lower  \\\n",
       "5395                                                                     @quotesttg save the panicking for when you get to helios. ;)   \n",
       "3753  dear @canonusaimaging i brought it ;) #canonbringit #fire  #canontattoo #mn #theresmorewherethatcamefrom http://t.co/tcxxhdjas6   \n",
       "21                                                                                                                  london is cool ;)   \n",
       "\n",
       "                                                                                                                  text_noContractions  \\\n",
       "5395                                                                     @quotesttg save the panicking for when you get to helios. ;)   \n",
       "3753  dear @canonusaimaging i brought it ;) #canonbringit #fire  #canontattoo #mn #theresmorewherethatcamefrom http://t.co/tcxxhdjas6   \n",
       "21                                                                                                                  london is cool ;)   \n",
       "\n",
       "                                                                                                    text_noURLs  \\\n",
       "5395                                               @quotesttg save the panicking for when you get to helios. ;)   \n",
       "3753  dear @canonusaimaging i brought it ;) #canonbringit #fire  #canontattoo #mn #theresmorewherethatcamefrom    \n",
       "21                                                                                            london is cool ;)   \n",
       "\n",
       "                                                                                                   text_noEmail  \\\n",
       "5395                                               @quotesttg save the panicking for when you get to helios. ;)   \n",
       "3753  dear @canonusaimaging i brought it ;) #canonbringit #fire  #canontattoo #mn #theresmorewherethatcamefrom    \n",
       "21                                                                                            london is cool ;)   \n",
       "\n",
       "                                                                                                    text_noHTML  \\\n",
       "5395                                               @quotesttg save the panicking for when you get to helios. ;)   \n",
       "3753  dear @canonusaimaging i brought it ;) #canonbringit #fire  #canontattoo #mn #theresmorewherethatcamefrom    \n",
       "21                                                                                            london is cool ;)   \n",
       "\n",
       "                                                                                 text_noMention  \\\n",
       "5395                                          save the panicking for when you get to helios. ;)   \n",
       "3753  dear  i brought it ;) #canonbringit #fire  #canontattoo #mn #theresmorewherethatcamefrom    \n",
       "21                                                                            london is cool ;)   \n",
       "\n",
       "                                                                                          text_noEmoji  \n",
       "5395                                         save the panicking for when you get to helios. happiness   \n",
       "3753  dear  i brought it happiness #canonbringit #fire  #canontattoo #mn #theresmorewherethatcamefrom   \n",
       "21                                                                           london is cool happiness   "
      ]
     },
     "execution_count": 146,
     "metadata": {},
     "output_type": "execute_result"
    }
   ],
   "source": [
    "train_data.loc[train_data['text_noMention'].str.contains(r'\\;\\)', regex=True)].sample(3)"
   ]
  },
  {
   "cell_type": "code",
   "execution_count": 137,
   "id": "08ae3760",
   "metadata": {},
   "outputs": [
    {
     "name": "stderr",
     "output_type": "stream",
     "text": [
      "C:\\Users\\jaydenpark\\AppData\\Local\\Temp\\2\\ipykernel_29188\\1582903384.py:1: FutureWarning: The default value of regex will change from True to False in a future version.\n",
      "  train_data['text_noEmoji'] = train_data['text_noMention'].str.replace(':\\(', 'sadness ')\n"
     ]
    }
   ],
   "source": [
    "train_data['text_noEmoji'] = train_data['text_noMention'].str.replace(':\\(', 'sadness ')"
   ]
  },
  {
   "cell_type": "code",
   "execution_count": 138,
   "id": "01ddd130",
   "metadata": {},
   "outputs": [
    {
     "name": "stderr",
     "output_type": "stream",
     "text": [
      "C:\\Users\\jaydenpark\\AppData\\Local\\Temp\\2\\ipykernel_29188\\681332701.py:1: FutureWarning: The default value of regex will change from True to False in a future version.\n",
      "  train_data['text_noEmoji'] = train_data['text_noEmoji'].str.replace(r':\\)[$|\\s]*', 'happiness ')\n"
     ]
    }
   ],
   "source": [
    "train_data['text_noEmoji'] = train_data['text_noEmoji'].str.replace(r':\\)[$|\\s]*', 'happiness ')"
   ]
  },
  {
   "cell_type": "code",
   "execution_count": 145,
   "id": "977ad6c7",
   "metadata": {},
   "outputs": [
    {
     "name": "stderr",
     "output_type": "stream",
     "text": [
      "C:\\Users\\jaydenpark\\AppData\\Local\\Temp\\2\\ipykernel_29188\\961101616.py:1: FutureWarning: The default value of regex will change from True to False in a future version.\n",
      "  train_data['text_noEmoji'] = train_data['text_noEmoji'].str.replace(r'\\;\\)[$|\\s]*', 'happiness ')\n"
     ]
    }
   ],
   "source": [
    "train_data['text_noEmoji'] = train_data['text_noEmoji'].str.replace(r'\\;\\)[$|\\s]*', 'happiness ')"
   ]
  },
  {
   "cell_type": "markdown",
   "id": "dd4c747a",
   "metadata": {},
   "source": [
    "### Accent"
   ]
  },
  {
   "cell_type": "code",
   "execution_count": 148,
   "id": "8c7f430c",
   "metadata": {},
   "outputs": [],
   "source": [
    "from unidecode import unidecode"
   ]
  },
  {
   "cell_type": "code",
   "execution_count": 149,
   "id": "cf0a8274",
   "metadata": {},
   "outputs": [],
   "source": [
    "def rem_accent(data):\n",
    "    data = unidecode(data)\n",
    "    return data"
   ]
  },
  {
   "cell_type": "code",
   "execution_count": 150,
   "id": "7dec7910",
   "metadata": {},
   "outputs": [],
   "source": [
    "train_data['text_noAccent'] = train_data['text_noEmoji'].apply(rem_accent)"
   ]
  },
  {
   "cell_type": "markdown",
   "id": "5bdb53b9",
   "metadata": {},
   "source": [
    "### Unicode Characters\n",
    "If tweet includes other languages, this approach might be wrong."
   ]
  },
  {
   "cell_type": "code",
   "execution_count": 151,
   "id": "920b9c31",
   "metadata": {},
   "outputs": [],
   "source": [
    "def rem_unicode(data):\n",
    "    data = data.encode(\"ascii\", \"ignore\").decode()\n",
    "    return data"
   ]
  },
  {
   "cell_type": "code",
   "execution_count": 152,
   "id": "cfce03e9",
   "metadata": {},
   "outputs": [],
   "source": [
    "train_data['text_noUnicode'] = train_data['text_noAccent'].apply(rem_unicode)"
   ]
  },
  {
   "cell_type": "markdown",
   "id": "203dd108",
   "metadata": {},
   "source": [
    "### Punctuations"
   ]
  },
  {
   "cell_type": "code",
   "execution_count": 153,
   "id": "07bd156a",
   "metadata": {},
   "outputs": [
    {
     "data": {
      "text/plain": [
       "'!\"#$%&\\'()*+,-./:;<=>?@[\\\\]^_`{|}~'"
      ]
     },
     "execution_count": 153,
     "metadata": {},
     "output_type": "execute_result"
    }
   ],
   "source": [
    "import string\n",
    "string.punctuation"
   ]
  },
  {
   "cell_type": "code",
   "execution_count": 154,
   "id": "76da534c",
   "metadata": {},
   "outputs": [],
   "source": [
    "def rem_punc(data):\n",
    "    data = re.sub(f\"[{string.punctuation}]\", \" \", data)\n",
    "    return data"
   ]
  },
  {
   "cell_type": "code",
   "execution_count": 155,
   "id": "a1ce43eb",
   "metadata": {},
   "outputs": [],
   "source": [
    "train_data['text_noPunct'] = train_data['text_noUnicode'].apply(rem_punc)"
   ]
  },
  {
   "cell_type": "code",
   "execution_count": 156,
   "id": "8ffa3dbb",
   "metadata": {},
   "outputs": [
    {
     "data": {
      "text/html": [
       "<div>\n",
       "<style scoped>\n",
       "    .dataframe tbody tr th:only-of-type {\n",
       "        vertical-align: middle;\n",
       "    }\n",
       "\n",
       "    .dataframe tbody tr th {\n",
       "        vertical-align: top;\n",
       "    }\n",
       "\n",
       "    .dataframe thead th {\n",
       "        text-align: right;\n",
       "    }\n",
       "</style>\n",
       "<table border=\"1\" class=\"dataframe\">\n",
       "  <thead>\n",
       "    <tr style=\"text-align: right;\">\n",
       "      <th></th>\n",
       "      <th>id</th>\n",
       "      <th>keyword</th>\n",
       "      <th>location</th>\n",
       "      <th>text</th>\n",
       "      <th>target</th>\n",
       "      <th>keyword_lem</th>\n",
       "      <th>location_prep</th>\n",
       "      <th>text_lower</th>\n",
       "      <th>text_noContractions</th>\n",
       "      <th>text_noURLs</th>\n",
       "      <th>text_noEmail</th>\n",
       "      <th>text_noHTML</th>\n",
       "      <th>text_noMention</th>\n",
       "      <th>text_noEmoji</th>\n",
       "      <th>text_noAccent</th>\n",
       "      <th>text_noUnicode</th>\n",
       "      <th>text_noPunct</th>\n",
       "    </tr>\n",
       "  </thead>\n",
       "  <tbody>\n",
       "    <tr>\n",
       "      <th>0</th>\n",
       "      <td>1</td>\n",
       "      <td></td>\n",
       "      <td></td>\n",
       "      <td>Our Deeds are the Reason of this #earthquake May ALLAH Forgive us all</td>\n",
       "      <td>1</td>\n",
       "      <td></td>\n",
       "      <td></td>\n",
       "      <td>our deeds are the reason of this #earthquake may allah forgive us all</td>\n",
       "      <td>our deeds are the reason of this #earthquake may allah forgive us all</td>\n",
       "      <td>our deeds are the reason of this #earthquake may allah forgive us all</td>\n",
       "      <td>our deeds are the reason of this #earthquake may allah forgive us all</td>\n",
       "      <td>our deeds are the reason of this #earthquake may allah forgive us all</td>\n",
       "      <td>our deeds are the reason of this #earthquake may allah forgive us all</td>\n",
       "      <td>our deeds are the reason of this #earthquake may allah forgive us all</td>\n",
       "      <td>our deeds are the reason of this #earthquake may allah forgive us all</td>\n",
       "      <td>our deeds are the reason of this #earthquake may allah forgive us all</td>\n",
       "      <td>our deeds are the reason of this  earthquake may allah forgive us all</td>\n",
       "    </tr>\n",
       "    <tr>\n",
       "      <th>1</th>\n",
       "      <td>4</td>\n",
       "      <td></td>\n",
       "      <td></td>\n",
       "      <td>Forest fire near La Ronge Sask. Canada</td>\n",
       "      <td>1</td>\n",
       "      <td></td>\n",
       "      <td></td>\n",
       "      <td>forest fire near la ronge sask. canada</td>\n",
       "      <td>forest fire near la ronge sask. canada</td>\n",
       "      <td>forest fire near la ronge sask. canada</td>\n",
       "      <td>forest fire near la ronge sask. canada</td>\n",
       "      <td>forest fire near la ronge sask. canada</td>\n",
       "      <td>forest fire near la ronge sask. canada</td>\n",
       "      <td>forest fire near la ronge sask. canada</td>\n",
       "      <td>forest fire near la ronge sask. canada</td>\n",
       "      <td>forest fire near la ronge sask. canada</td>\n",
       "      <td>forest fire near la ronge sask  canada</td>\n",
       "    </tr>\n",
       "    <tr>\n",
       "      <th>2</th>\n",
       "      <td>5</td>\n",
       "      <td></td>\n",
       "      <td></td>\n",
       "      <td>All residents asked to 'shelter in place' are being notified by officers. No other evacuation or shelter in place orders are expected</td>\n",
       "      <td>1</td>\n",
       "      <td></td>\n",
       "      <td></td>\n",
       "      <td>all residents asked to 'shelter in place' are being notified by officers. no other evacuation or shelter in place orders are expected</td>\n",
       "      <td>all residents asked to 'shelter in place' are being notified by officers. no other evacuation or shelter in place orders are expected</td>\n",
       "      <td>all residents asked to 'shelter in place' are being notified by officers. no other evacuation or shelter in place orders are expected</td>\n",
       "      <td>all residents asked to 'shelter in place' are being notified by officers. no other evacuation or shelter in place orders are expected</td>\n",
       "      <td>all residents asked to 'shelter in place' are being notified by officers. no other evacuation or shelter in place orders are expected</td>\n",
       "      <td>all residents asked to 'shelter in place' are being notified by officers. no other evacuation or shelter in place orders are expected</td>\n",
       "      <td>all residents asked to 'shelter in place' are being notified by officers. no other evacuation or shelter in place orders are expected</td>\n",
       "      <td>all residents asked to 'shelter in place' are being notified by officers. no other evacuation or shelter in place orders are expected</td>\n",
       "      <td>all residents asked to 'shelter in place' are being notified by officers. no other evacuation or shelter in place orders are expected</td>\n",
       "      <td>all residents asked to  shelter in place  are being notified by officers  no other evacuation or shelter in place orders are expected</td>\n",
       "    </tr>\n",
       "    <tr>\n",
       "      <th>3</th>\n",
       "      <td>6</td>\n",
       "      <td></td>\n",
       "      <td></td>\n",
       "      <td>13,000 people receive #wildfires evacuation orders in California</td>\n",
       "      <td>1</td>\n",
       "      <td></td>\n",
       "      <td></td>\n",
       "      <td>13,000 people receive #wildfires evacuation orders in california</td>\n",
       "      <td>13,000 people receive #wildfires evacuation orders in california</td>\n",
       "      <td>13,000 people receive #wildfires evacuation orders in california</td>\n",
       "      <td>13,000 people receive #wildfires evacuation orders in california</td>\n",
       "      <td>13,000 people receive #wildfires evacuation orders in california</td>\n",
       "      <td>13,000 people receive #wildfires evacuation orders in california</td>\n",
       "      <td>13,000 people receive #wildfires evacuation orders in california</td>\n",
       "      <td>13,000 people receive #wildfires evacuation orders in california</td>\n",
       "      <td>13,000 people receive #wildfires evacuation orders in california</td>\n",
       "      <td>13 000 people receive  wildfires evacuation orders in california</td>\n",
       "    </tr>\n",
       "    <tr>\n",
       "      <th>4</th>\n",
       "      <td>7</td>\n",
       "      <td></td>\n",
       "      <td></td>\n",
       "      <td>Just got sent this photo from Ruby #Alaska as smoke from #wildfires pours into a school</td>\n",
       "      <td>1</td>\n",
       "      <td></td>\n",
       "      <td></td>\n",
       "      <td>just got sent this photo from ruby #alaska as smoke from #wildfires pours into a school</td>\n",
       "      <td>just got sent this photo from ruby #alaska as smoke from #wildfires pours into a school</td>\n",
       "      <td>just got sent this photo from ruby #alaska as smoke from #wildfires pours into a school</td>\n",
       "      <td>just got sent this photo from ruby #alaska as smoke from #wildfires pours into a school</td>\n",
       "      <td>just got sent this photo from ruby #alaska as smoke from #wildfires pours into a school</td>\n",
       "      <td>just got sent this photo from ruby #alaska as smoke from #wildfires pours into a school</td>\n",
       "      <td>just got sent this photo from ruby #alaska as smoke from #wildfires pours into a school</td>\n",
       "      <td>just got sent this photo from ruby #alaska as smoke from #wildfires pours into a school</td>\n",
       "      <td>just got sent this photo from ruby #alaska as smoke from #wildfires pours into a school</td>\n",
       "      <td>just got sent this photo from ruby  alaska as smoke from  wildfires pours into a school</td>\n",
       "    </tr>\n",
       "  </tbody>\n",
       "</table>\n",
       "</div>"
      ],
      "text/plain": [
       "   id keyword location  \\\n",
       "0   1                    \n",
       "1   4                    \n",
       "2   5                    \n",
       "3   6                    \n",
       "4   7                    \n",
       "\n",
       "                                                                                                                                    text  \\\n",
       "0                                                                  Our Deeds are the Reason of this #earthquake May ALLAH Forgive us all   \n",
       "1                                                                                                 Forest fire near La Ronge Sask. Canada   \n",
       "2  All residents asked to 'shelter in place' are being notified by officers. No other evacuation or shelter in place orders are expected   \n",
       "3                                                                      13,000 people receive #wildfires evacuation orders in California    \n",
       "4                                               Just got sent this photo from Ruby #Alaska as smoke from #wildfires pours into a school    \n",
       "\n",
       "   target keyword_lem location_prep  \\\n",
       "0       1                             \n",
       "1       1                             \n",
       "2       1                             \n",
       "3       1                             \n",
       "4       1                             \n",
       "\n",
       "                                                                                                                              text_lower  \\\n",
       "0                                                                  our deeds are the reason of this #earthquake may allah forgive us all   \n",
       "1                                                                                                 forest fire near la ronge sask. canada   \n",
       "2  all residents asked to 'shelter in place' are being notified by officers. no other evacuation or shelter in place orders are expected   \n",
       "3                                                                      13,000 people receive #wildfires evacuation orders in california    \n",
       "4                                               just got sent this photo from ruby #alaska as smoke from #wildfires pours into a school    \n",
       "\n",
       "                                                                                                                     text_noContractions  \\\n",
       "0                                                                  our deeds are the reason of this #earthquake may allah forgive us all   \n",
       "1                                                                                                 forest fire near la ronge sask. canada   \n",
       "2  all residents asked to 'shelter in place' are being notified by officers. no other evacuation or shelter in place orders are expected   \n",
       "3                                                                      13,000 people receive #wildfires evacuation orders in california    \n",
       "4                                               just got sent this photo from ruby #alaska as smoke from #wildfires pours into a school    \n",
       "\n",
       "                                                                                                                             text_noURLs  \\\n",
       "0                                                                  our deeds are the reason of this #earthquake may allah forgive us all   \n",
       "1                                                                                                 forest fire near la ronge sask. canada   \n",
       "2  all residents asked to 'shelter in place' are being notified by officers. no other evacuation or shelter in place orders are expected   \n",
       "3                                                                      13,000 people receive #wildfires evacuation orders in california    \n",
       "4                                               just got sent this photo from ruby #alaska as smoke from #wildfires pours into a school    \n",
       "\n",
       "                                                                                                                            text_noEmail  \\\n",
       "0                                                                  our deeds are the reason of this #earthquake may allah forgive us all   \n",
       "1                                                                                                 forest fire near la ronge sask. canada   \n",
       "2  all residents asked to 'shelter in place' are being notified by officers. no other evacuation or shelter in place orders are expected   \n",
       "3                                                                      13,000 people receive #wildfires evacuation orders in california    \n",
       "4                                               just got sent this photo from ruby #alaska as smoke from #wildfires pours into a school    \n",
       "\n",
       "                                                                                                                             text_noHTML  \\\n",
       "0                                                                  our deeds are the reason of this #earthquake may allah forgive us all   \n",
       "1                                                                                                 forest fire near la ronge sask. canada   \n",
       "2  all residents asked to 'shelter in place' are being notified by officers. no other evacuation or shelter in place orders are expected   \n",
       "3                                                                      13,000 people receive #wildfires evacuation orders in california    \n",
       "4                                               just got sent this photo from ruby #alaska as smoke from #wildfires pours into a school    \n",
       "\n",
       "                                                                                                                          text_noMention  \\\n",
       "0                                                                  our deeds are the reason of this #earthquake may allah forgive us all   \n",
       "1                                                                                                 forest fire near la ronge sask. canada   \n",
       "2  all residents asked to 'shelter in place' are being notified by officers. no other evacuation or shelter in place orders are expected   \n",
       "3                                                                      13,000 people receive #wildfires evacuation orders in california    \n",
       "4                                               just got sent this photo from ruby #alaska as smoke from #wildfires pours into a school    \n",
       "\n",
       "                                                                                                                            text_noEmoji  \\\n",
       "0                                                                  our deeds are the reason of this #earthquake may allah forgive us all   \n",
       "1                                                                                                 forest fire near la ronge sask. canada   \n",
       "2  all residents asked to 'shelter in place' are being notified by officers. no other evacuation or shelter in place orders are expected   \n",
       "3                                                                      13,000 people receive #wildfires evacuation orders in california    \n",
       "4                                               just got sent this photo from ruby #alaska as smoke from #wildfires pours into a school    \n",
       "\n",
       "                                                                                                                           text_noAccent  \\\n",
       "0                                                                  our deeds are the reason of this #earthquake may allah forgive us all   \n",
       "1                                                                                                 forest fire near la ronge sask. canada   \n",
       "2  all residents asked to 'shelter in place' are being notified by officers. no other evacuation or shelter in place orders are expected   \n",
       "3                                                                      13,000 people receive #wildfires evacuation orders in california    \n",
       "4                                               just got sent this photo from ruby #alaska as smoke from #wildfires pours into a school    \n",
       "\n",
       "                                                                                                                          text_noUnicode  \\\n",
       "0                                                                  our deeds are the reason of this #earthquake may allah forgive us all   \n",
       "1                                                                                                 forest fire near la ronge sask. canada   \n",
       "2  all residents asked to 'shelter in place' are being notified by officers. no other evacuation or shelter in place orders are expected   \n",
       "3                                                                      13,000 people receive #wildfires evacuation orders in california    \n",
       "4                                               just got sent this photo from ruby #alaska as smoke from #wildfires pours into a school    \n",
       "\n",
       "                                                                                                                            text_noPunct  \n",
       "0                                                                  our deeds are the reason of this  earthquake may allah forgive us all  \n",
       "1                                                                                                 forest fire near la ronge sask  canada  \n",
       "2  all residents asked to  shelter in place  are being notified by officers  no other evacuation or shelter in place orders are expected  \n",
       "3                                                                      13 000 people receive  wildfires evacuation orders in california   \n",
       "4                                               just got sent this photo from ruby  alaska as smoke from  wildfires pours into a school   "
      ]
     },
     "execution_count": 156,
     "metadata": {},
     "output_type": "execute_result"
    }
   ],
   "source": [
    "train_data.head()"
   ]
  },
  {
   "cell_type": "markdown",
   "id": "4a5d7154",
   "metadata": {},
   "source": [
    "### Numbers\n",
    "numbers mights have some meaning, so replace them with '#'"
   ]
  },
  {
   "cell_type": "code",
   "execution_count": 163,
   "id": "09552eb8",
   "metadata": {},
   "outputs": [],
   "source": [
    "def clean_numbers(data):\n",
    "    data = re.sub('[0-9]{5,}', '#'*5, data)\n",
    "    data = re.sub('[0-9]{4}', '#'*4, data)\n",
    "    data = re.sub('[0-9]{3}', '#'*3, data)\n",
    "    data = re.sub('[0-9]{2}', '#'*2, data)\n",
    "    return data"
   ]
  },
  {
   "cell_type": "code",
   "execution_count": 164,
   "id": "ecf3737e",
   "metadata": {},
   "outputs": [],
   "source": [
    "train_data['text_noDigit'] = train_data['text_noPunct'].apply(clean_numbers)"
   ]
  },
  {
   "cell_type": "code",
   "execution_count": 167,
   "id": "cca44f1f",
   "metadata": {},
   "outputs": [
    {
     "data": {
      "text/html": [
       "<div>\n",
       "<style scoped>\n",
       "    .dataframe tbody tr th:only-of-type {\n",
       "        vertical-align: middle;\n",
       "    }\n",
       "\n",
       "    .dataframe tbody tr th {\n",
       "        vertical-align: top;\n",
       "    }\n",
       "\n",
       "    .dataframe thead th {\n",
       "        text-align: right;\n",
       "    }\n",
       "</style>\n",
       "<table border=\"1\" class=\"dataframe\">\n",
       "  <thead>\n",
       "    <tr style=\"text-align: right;\">\n",
       "      <th></th>\n",
       "      <th>text_noPunct</th>\n",
       "      <th>text_noDigit</th>\n",
       "    </tr>\n",
       "  </thead>\n",
       "  <tbody>\n",
       "    <tr>\n",
       "      <th>3383</th>\n",
       "      <td>my school just put the evacuation alarms on accidently with 2 different trial exams happening are you kidding me</td>\n",
       "      <td>my school just put the evacuation alarms on accidently with 2 different trial exams happening are you kidding me</td>\n",
       "    </tr>\n",
       "    <tr>\n",
       "      <th>3568</th>\n",
       "      <td>update 1 russian  food crematoria  provoke outrage amid crisis famine memories    russian society still recal</td>\n",
       "      <td>update 1 russian  food crematoria  provoke outrage amid crisis famine memories    russian society still recal</td>\n",
       "    </tr>\n",
       "    <tr>\n",
       "      <th>2164</th>\n",
       "      <td>malaysia airlines flight 370 that disappeared 17months ago debris found south of the indian ocean</td>\n",
       "      <td>malaysia airlines flight ### that disappeared ##months ago debris found south of the indian ocean</td>\n",
       "    </tr>\n",
       "  </tbody>\n",
       "</table>\n",
       "</div>"
      ],
      "text/plain": [
       "                                                                                                           text_noPunct  \\\n",
       "3383   my school just put the evacuation alarms on accidently with 2 different trial exams happening are you kidding me   \n",
       "3568  update 1 russian  food crematoria  provoke outrage amid crisis famine memories    russian society still recal       \n",
       "2164               malaysia airlines flight 370 that disappeared 17months ago debris found south of the indian ocean      \n",
       "\n",
       "                                                                                                           text_noDigit  \n",
       "3383   my school just put the evacuation alarms on accidently with 2 different trial exams happening are you kidding me  \n",
       "3568  update 1 russian  food crematoria  provoke outrage amid crisis famine memories    russian society still recal      \n",
       "2164               malaysia airlines flight ### that disappeared ##months ago debris found south of the indian ocean     "
      ]
     },
     "execution_count": 167,
     "metadata": {},
     "output_type": "execute_result"
    }
   ],
   "source": [
    "train_data.loc[train_data['text_noPunct'].str.contains('\\d'), ['text_noPunct', 'text_noDigit']].sample(3)"
   ]
  },
  {
   "cell_type": "markdown",
   "id": "0eb6928b",
   "metadata": {},
   "source": [
    "### Stopwords"
   ]
  },
  {
   "cell_type": "code",
   "execution_count": 168,
   "id": "44fa8e35",
   "metadata": {},
   "outputs": [],
   "source": [
    "from nltk.corpus import stopwords"
   ]
  },
  {
   "cell_type": "code",
   "execution_count": 169,
   "id": "1f88463c",
   "metadata": {},
   "outputs": [],
   "source": [
    "stop_words = set(stopwords.words('english'))"
   ]
  },
  {
   "cell_type": "code",
   "execution_count": 173,
   "id": "95d20252",
   "metadata": {},
   "outputs": [],
   "source": [
    "def rem_stopwords(data):\n",
    "    return \" \".join([word for word in str(data).split() if word not in stop_words])"
   ]
  },
  {
   "cell_type": "code",
   "execution_count": 178,
   "id": "0ad2ed3c",
   "metadata": {},
   "outputs": [],
   "source": [
    "train_data['text_noStop'] = train_data['text_noDigit'].apply(rem_stopwords)"
   ]
  },
  {
   "cell_type": "markdown",
   "id": "e966133a",
   "metadata": {},
   "source": [
    "### Extra space"
   ]
  },
  {
   "cell_type": "code",
   "execution_count": 175,
   "id": "37de40e4",
   "metadata": {},
   "outputs": [],
   "source": [
    "def rem_extra_space(data):\n",
    "    data = re.sub(' +', ' ', data).strip()\n",
    "    return data"
   ]
  },
  {
   "cell_type": "code",
   "execution_count": 179,
   "id": "c1631afb",
   "metadata": {},
   "outputs": [],
   "source": [
    "train_data['text_noExspace'] = train_data['text_noStop'].apply(rem_extra_space)"
   ]
  },
  {
   "cell_type": "code",
   "execution_count": 180,
   "id": "a12c400f",
   "metadata": {
    "scrolled": false
   },
   "outputs": [
    {
     "data": {
      "text/html": [
       "<div>\n",
       "<style scoped>\n",
       "    .dataframe tbody tr th:only-of-type {\n",
       "        vertical-align: middle;\n",
       "    }\n",
       "\n",
       "    .dataframe tbody tr th {\n",
       "        vertical-align: top;\n",
       "    }\n",
       "\n",
       "    .dataframe thead th {\n",
       "        text-align: right;\n",
       "    }\n",
       "</style>\n",
       "<table border=\"1\" class=\"dataframe\">\n",
       "  <thead>\n",
       "    <tr style=\"text-align: right;\">\n",
       "      <th></th>\n",
       "      <th>id</th>\n",
       "      <th>keyword</th>\n",
       "      <th>location</th>\n",
       "      <th>text</th>\n",
       "      <th>target</th>\n",
       "      <th>keyword_lem</th>\n",
       "      <th>location_prep</th>\n",
       "      <th>text_lower</th>\n",
       "      <th>text_noContractions</th>\n",
       "      <th>text_noURLs</th>\n",
       "      <th>text_noEmail</th>\n",
       "      <th>text_noHTML</th>\n",
       "      <th>text_noMention</th>\n",
       "      <th>text_noEmoji</th>\n",
       "      <th>text_noAccent</th>\n",
       "      <th>text_noUnicode</th>\n",
       "      <th>text_noPunct</th>\n",
       "      <th>text_noDigit</th>\n",
       "      <th>text_noStop</th>\n",
       "      <th>text_noExspace</th>\n",
       "    </tr>\n",
       "  </thead>\n",
       "  <tbody>\n",
       "    <tr>\n",
       "      <th>0</th>\n",
       "      <td>1</td>\n",
       "      <td></td>\n",
       "      <td></td>\n",
       "      <td>Our Deeds are the Reason of this #earthquake May ALLAH Forgive us all</td>\n",
       "      <td>1</td>\n",
       "      <td></td>\n",
       "      <td></td>\n",
       "      <td>our deeds are the reason of this #earthquake may allah forgive us all</td>\n",
       "      <td>our deeds are the reason of this #earthquake may allah forgive us all</td>\n",
       "      <td>our deeds are the reason of this #earthquake may allah forgive us all</td>\n",
       "      <td>our deeds are the reason of this #earthquake may allah forgive us all</td>\n",
       "      <td>our deeds are the reason of this #earthquake may allah forgive us all</td>\n",
       "      <td>our deeds are the reason of this #earthquake may allah forgive us all</td>\n",
       "      <td>our deeds are the reason of this #earthquake may allah forgive us all</td>\n",
       "      <td>our deeds are the reason of this #earthquake may allah forgive us all</td>\n",
       "      <td>our deeds are the reason of this #earthquake may allah forgive us all</td>\n",
       "      <td>our deeds are the reason of this  earthquake may allah forgive us all</td>\n",
       "      <td>our deeds are the reason of this  earthquake may allah forgive us all</td>\n",
       "      <td>deeds reason earthquake may allah forgive us</td>\n",
       "      <td>deeds reason earthquake may allah forgive us</td>\n",
       "    </tr>\n",
       "    <tr>\n",
       "      <th>1</th>\n",
       "      <td>4</td>\n",
       "      <td></td>\n",
       "      <td></td>\n",
       "      <td>Forest fire near La Ronge Sask. Canada</td>\n",
       "      <td>1</td>\n",
       "      <td></td>\n",
       "      <td></td>\n",
       "      <td>forest fire near la ronge sask. canada</td>\n",
       "      <td>forest fire near la ronge sask. canada</td>\n",
       "      <td>forest fire near la ronge sask. canada</td>\n",
       "      <td>forest fire near la ronge sask. canada</td>\n",
       "      <td>forest fire near la ronge sask. canada</td>\n",
       "      <td>forest fire near la ronge sask. canada</td>\n",
       "      <td>forest fire near la ronge sask. canada</td>\n",
       "      <td>forest fire near la ronge sask. canada</td>\n",
       "      <td>forest fire near la ronge sask. canada</td>\n",
       "      <td>forest fire near la ronge sask  canada</td>\n",
       "      <td>forest fire near la ronge sask  canada</td>\n",
       "      <td>forest fire near la ronge sask canada</td>\n",
       "      <td>forest fire near la ronge sask canada</td>\n",
       "    </tr>\n",
       "    <tr>\n",
       "      <th>2</th>\n",
       "      <td>5</td>\n",
       "      <td></td>\n",
       "      <td></td>\n",
       "      <td>All residents asked to 'shelter in place' are being notified by officers. No other evacuation or shelter in place orders are expected</td>\n",
       "      <td>1</td>\n",
       "      <td></td>\n",
       "      <td></td>\n",
       "      <td>all residents asked to 'shelter in place' are being notified by officers. no other evacuation or shelter in place orders are expected</td>\n",
       "      <td>all residents asked to 'shelter in place' are being notified by officers. no other evacuation or shelter in place orders are expected</td>\n",
       "      <td>all residents asked to 'shelter in place' are being notified by officers. no other evacuation or shelter in place orders are expected</td>\n",
       "      <td>all residents asked to 'shelter in place' are being notified by officers. no other evacuation or shelter in place orders are expected</td>\n",
       "      <td>all residents asked to 'shelter in place' are being notified by officers. no other evacuation or shelter in place orders are expected</td>\n",
       "      <td>all residents asked to 'shelter in place' are being notified by officers. no other evacuation or shelter in place orders are expected</td>\n",
       "      <td>all residents asked to 'shelter in place' are being notified by officers. no other evacuation or shelter in place orders are expected</td>\n",
       "      <td>all residents asked to 'shelter in place' are being notified by officers. no other evacuation or shelter in place orders are expected</td>\n",
       "      <td>all residents asked to 'shelter in place' are being notified by officers. no other evacuation or shelter in place orders are expected</td>\n",
       "      <td>all residents asked to  shelter in place  are being notified by officers  no other evacuation or shelter in place orders are expected</td>\n",
       "      <td>all residents asked to  shelter in place  are being notified by officers  no other evacuation or shelter in place orders are expected</td>\n",
       "      <td>residents asked shelter place notified officers evacuation shelter place orders expected</td>\n",
       "      <td>residents asked shelter place notified officers evacuation shelter place orders expected</td>\n",
       "    </tr>\n",
       "    <tr>\n",
       "      <th>3</th>\n",
       "      <td>6</td>\n",
       "      <td></td>\n",
       "      <td></td>\n",
       "      <td>13,000 people receive #wildfires evacuation orders in California</td>\n",
       "      <td>1</td>\n",
       "      <td></td>\n",
       "      <td></td>\n",
       "      <td>13,000 people receive #wildfires evacuation orders in california</td>\n",
       "      <td>13,000 people receive #wildfires evacuation orders in california</td>\n",
       "      <td>13,000 people receive #wildfires evacuation orders in california</td>\n",
       "      <td>13,000 people receive #wildfires evacuation orders in california</td>\n",
       "      <td>13,000 people receive #wildfires evacuation orders in california</td>\n",
       "      <td>13,000 people receive #wildfires evacuation orders in california</td>\n",
       "      <td>13,000 people receive #wildfires evacuation orders in california</td>\n",
       "      <td>13,000 people receive #wildfires evacuation orders in california</td>\n",
       "      <td>13,000 people receive #wildfires evacuation orders in california</td>\n",
       "      <td>13 000 people receive  wildfires evacuation orders in california</td>\n",
       "      <td>## ### people receive  wildfires evacuation orders in california</td>\n",
       "      <td>## ### people receive wildfires evacuation orders california</td>\n",
       "      <td>## ### people receive wildfires evacuation orders california</td>\n",
       "    </tr>\n",
       "    <tr>\n",
       "      <th>4</th>\n",
       "      <td>7</td>\n",
       "      <td></td>\n",
       "      <td></td>\n",
       "      <td>Just got sent this photo from Ruby #Alaska as smoke from #wildfires pours into a school</td>\n",
       "      <td>1</td>\n",
       "      <td></td>\n",
       "      <td></td>\n",
       "      <td>just got sent this photo from ruby #alaska as smoke from #wildfires pours into a school</td>\n",
       "      <td>just got sent this photo from ruby #alaska as smoke from #wildfires pours into a school</td>\n",
       "      <td>just got sent this photo from ruby #alaska as smoke from #wildfires pours into a school</td>\n",
       "      <td>just got sent this photo from ruby #alaska as smoke from #wildfires pours into a school</td>\n",
       "      <td>just got sent this photo from ruby #alaska as smoke from #wildfires pours into a school</td>\n",
       "      <td>just got sent this photo from ruby #alaska as smoke from #wildfires pours into a school</td>\n",
       "      <td>just got sent this photo from ruby #alaska as smoke from #wildfires pours into a school</td>\n",
       "      <td>just got sent this photo from ruby #alaska as smoke from #wildfires pours into a school</td>\n",
       "      <td>just got sent this photo from ruby #alaska as smoke from #wildfires pours into a school</td>\n",
       "      <td>just got sent this photo from ruby  alaska as smoke from  wildfires pours into a school</td>\n",
       "      <td>just got sent this photo from ruby  alaska as smoke from  wildfires pours into a school</td>\n",
       "      <td>got sent photo ruby alaska smoke wildfires pours school</td>\n",
       "      <td>got sent photo ruby alaska smoke wildfires pours school</td>\n",
       "    </tr>\n",
       "  </tbody>\n",
       "</table>\n",
       "</div>"
      ],
      "text/plain": [
       "   id keyword location  \\\n",
       "0   1                    \n",
       "1   4                    \n",
       "2   5                    \n",
       "3   6                    \n",
       "4   7                    \n",
       "\n",
       "                                                                                                                                    text  \\\n",
       "0                                                                  Our Deeds are the Reason of this #earthquake May ALLAH Forgive us all   \n",
       "1                                                                                                 Forest fire near La Ronge Sask. Canada   \n",
       "2  All residents asked to 'shelter in place' are being notified by officers. No other evacuation or shelter in place orders are expected   \n",
       "3                                                                      13,000 people receive #wildfires evacuation orders in California    \n",
       "4                                               Just got sent this photo from Ruby #Alaska as smoke from #wildfires pours into a school    \n",
       "\n",
       "   target keyword_lem location_prep  \\\n",
       "0       1                             \n",
       "1       1                             \n",
       "2       1                             \n",
       "3       1                             \n",
       "4       1                             \n",
       "\n",
       "                                                                                                                              text_lower  \\\n",
       "0                                                                  our deeds are the reason of this #earthquake may allah forgive us all   \n",
       "1                                                                                                 forest fire near la ronge sask. canada   \n",
       "2  all residents asked to 'shelter in place' are being notified by officers. no other evacuation or shelter in place orders are expected   \n",
       "3                                                                      13,000 people receive #wildfires evacuation orders in california    \n",
       "4                                               just got sent this photo from ruby #alaska as smoke from #wildfires pours into a school    \n",
       "\n",
       "                                                                                                                     text_noContractions  \\\n",
       "0                                                                  our deeds are the reason of this #earthquake may allah forgive us all   \n",
       "1                                                                                                 forest fire near la ronge sask. canada   \n",
       "2  all residents asked to 'shelter in place' are being notified by officers. no other evacuation or shelter in place orders are expected   \n",
       "3                                                                      13,000 people receive #wildfires evacuation orders in california    \n",
       "4                                               just got sent this photo from ruby #alaska as smoke from #wildfires pours into a school    \n",
       "\n",
       "                                                                                                                             text_noURLs  \\\n",
       "0                                                                  our deeds are the reason of this #earthquake may allah forgive us all   \n",
       "1                                                                                                 forest fire near la ronge sask. canada   \n",
       "2  all residents asked to 'shelter in place' are being notified by officers. no other evacuation or shelter in place orders are expected   \n",
       "3                                                                      13,000 people receive #wildfires evacuation orders in california    \n",
       "4                                               just got sent this photo from ruby #alaska as smoke from #wildfires pours into a school    \n",
       "\n",
       "                                                                                                                            text_noEmail  \\\n",
       "0                                                                  our deeds are the reason of this #earthquake may allah forgive us all   \n",
       "1                                                                                                 forest fire near la ronge sask. canada   \n",
       "2  all residents asked to 'shelter in place' are being notified by officers. no other evacuation or shelter in place orders are expected   \n",
       "3                                                                      13,000 people receive #wildfires evacuation orders in california    \n",
       "4                                               just got sent this photo from ruby #alaska as smoke from #wildfires pours into a school    \n",
       "\n",
       "                                                                                                                             text_noHTML  \\\n",
       "0                                                                  our deeds are the reason of this #earthquake may allah forgive us all   \n",
       "1                                                                                                 forest fire near la ronge sask. canada   \n",
       "2  all residents asked to 'shelter in place' are being notified by officers. no other evacuation or shelter in place orders are expected   \n",
       "3                                                                      13,000 people receive #wildfires evacuation orders in california    \n",
       "4                                               just got sent this photo from ruby #alaska as smoke from #wildfires pours into a school    \n",
       "\n",
       "                                                                                                                          text_noMention  \\\n",
       "0                                                                  our deeds are the reason of this #earthquake may allah forgive us all   \n",
       "1                                                                                                 forest fire near la ronge sask. canada   \n",
       "2  all residents asked to 'shelter in place' are being notified by officers. no other evacuation or shelter in place orders are expected   \n",
       "3                                                                      13,000 people receive #wildfires evacuation orders in california    \n",
       "4                                               just got sent this photo from ruby #alaska as smoke from #wildfires pours into a school    \n",
       "\n",
       "                                                                                                                            text_noEmoji  \\\n",
       "0                                                                  our deeds are the reason of this #earthquake may allah forgive us all   \n",
       "1                                                                                                 forest fire near la ronge sask. canada   \n",
       "2  all residents asked to 'shelter in place' are being notified by officers. no other evacuation or shelter in place orders are expected   \n",
       "3                                                                      13,000 people receive #wildfires evacuation orders in california    \n",
       "4                                               just got sent this photo from ruby #alaska as smoke from #wildfires pours into a school    \n",
       "\n",
       "                                                                                                                           text_noAccent  \\\n",
       "0                                                                  our deeds are the reason of this #earthquake may allah forgive us all   \n",
       "1                                                                                                 forest fire near la ronge sask. canada   \n",
       "2  all residents asked to 'shelter in place' are being notified by officers. no other evacuation or shelter in place orders are expected   \n",
       "3                                                                      13,000 people receive #wildfires evacuation orders in california    \n",
       "4                                               just got sent this photo from ruby #alaska as smoke from #wildfires pours into a school    \n",
       "\n",
       "                                                                                                                          text_noUnicode  \\\n",
       "0                                                                  our deeds are the reason of this #earthquake may allah forgive us all   \n",
       "1                                                                                                 forest fire near la ronge sask. canada   \n",
       "2  all residents asked to 'shelter in place' are being notified by officers. no other evacuation or shelter in place orders are expected   \n",
       "3                                                                      13,000 people receive #wildfires evacuation orders in california    \n",
       "4                                               just got sent this photo from ruby #alaska as smoke from #wildfires pours into a school    \n",
       "\n",
       "                                                                                                                            text_noPunct  \\\n",
       "0                                                                  our deeds are the reason of this  earthquake may allah forgive us all   \n",
       "1                                                                                                 forest fire near la ronge sask  canada   \n",
       "2  all residents asked to  shelter in place  are being notified by officers  no other evacuation or shelter in place orders are expected   \n",
       "3                                                                      13 000 people receive  wildfires evacuation orders in california    \n",
       "4                                               just got sent this photo from ruby  alaska as smoke from  wildfires pours into a school    \n",
       "\n",
       "                                                                                                                            text_noDigit  \\\n",
       "0                                                                  our deeds are the reason of this  earthquake may allah forgive us all   \n",
       "1                                                                                                 forest fire near la ronge sask  canada   \n",
       "2  all residents asked to  shelter in place  are being notified by officers  no other evacuation or shelter in place orders are expected   \n",
       "3                                                                      ## ### people receive  wildfires evacuation orders in california    \n",
       "4                                               just got sent this photo from ruby  alaska as smoke from  wildfires pours into a school    \n",
       "\n",
       "                                                                                text_noStop  \\\n",
       "0                                              deeds reason earthquake may allah forgive us   \n",
       "1                                                     forest fire near la ronge sask canada   \n",
       "2  residents asked shelter place notified officers evacuation shelter place orders expected   \n",
       "3                              ## ### people receive wildfires evacuation orders california   \n",
       "4                                   got sent photo ruby alaska smoke wildfires pours school   \n",
       "\n",
       "                                                                             text_noExspace  \n",
       "0                                              deeds reason earthquake may allah forgive us  \n",
       "1                                                     forest fire near la ronge sask canada  \n",
       "2  residents asked shelter place notified officers evacuation shelter place orders expected  \n",
       "3                              ## ### people receive wildfires evacuation orders california  \n",
       "4                                   got sent photo ruby alaska smoke wildfires pours school  "
      ]
     },
     "execution_count": 180,
     "metadata": {},
     "output_type": "execute_result"
    }
   ],
   "source": [
    "train_data.head()"
   ]
  },
  {
   "cell_type": "markdown",
   "id": "7b508dca",
   "metadata": {},
   "source": [
    "### Lemmatization"
   ]
  },
  {
   "cell_type": "code",
   "execution_count": 181,
   "id": "27e7467b",
   "metadata": {},
   "outputs": [],
   "source": [
    "from nltk.stem import WordNetLemmatizer"
   ]
  },
  {
   "cell_type": "code",
   "execution_count": 182,
   "id": "427219bd",
   "metadata": {},
   "outputs": [],
   "source": [
    "lemmatizer = WordNetLemmatizer()"
   ]
  },
  {
   "cell_type": "code",
   "execution_count": 183,
   "id": "5edeb48e",
   "metadata": {},
   "outputs": [],
   "source": [
    "def lemmatize_data(data):\n",
    "    words = [lemmatizer.lemmatize(word) for word in data.split()]\n",
    "    data = ' '.join(words)\n",
    "    return data"
   ]
  },
  {
   "cell_type": "code",
   "execution_count": 184,
   "id": "38f869d9",
   "metadata": {},
   "outputs": [],
   "source": [
    "train_data['text_Lemmatised'] = train_data['text_noExspace'].apply(lemmatize_data)"
   ]
  },
  {
   "cell_type": "code",
   "execution_count": 186,
   "id": "cabad14b",
   "metadata": {},
   "outputs": [
    {
     "data": {
      "text/html": [
       "<div>\n",
       "<style scoped>\n",
       "    .dataframe tbody tr th:only-of-type {\n",
       "        vertical-align: middle;\n",
       "    }\n",
       "\n",
       "    .dataframe tbody tr th {\n",
       "        vertical-align: top;\n",
       "    }\n",
       "\n",
       "    .dataframe thead th {\n",
       "        text-align: right;\n",
       "    }\n",
       "</style>\n",
       "<table border=\"1\" class=\"dataframe\">\n",
       "  <thead>\n",
       "    <tr style=\"text-align: right;\">\n",
       "      <th></th>\n",
       "      <th>id</th>\n",
       "      <th>keyword</th>\n",
       "      <th>location</th>\n",
       "      <th>text</th>\n",
       "      <th>target</th>\n",
       "      <th>keyword_lem</th>\n",
       "      <th>location_prep</th>\n",
       "      <th>text_lower</th>\n",
       "      <th>text_noContractions</th>\n",
       "      <th>text_noURLs</th>\n",
       "      <th>...</th>\n",
       "      <th>text_noHTML</th>\n",
       "      <th>text_noMention</th>\n",
       "      <th>text_noEmoji</th>\n",
       "      <th>text_noAccent</th>\n",
       "      <th>text_noUnicode</th>\n",
       "      <th>text_noPunct</th>\n",
       "      <th>text_noDigit</th>\n",
       "      <th>text_noStop</th>\n",
       "      <th>text_noExspace</th>\n",
       "      <th>text_Lemmatised</th>\n",
       "    </tr>\n",
       "  </thead>\n",
       "  <tbody>\n",
       "    <tr>\n",
       "      <th>7322</th>\n",
       "      <td>10482</td>\n",
       "      <td>wild fires</td>\n",
       "      <td>Canada</td>\n",
       "      <td>@WBCShirl2 Yes God doessnt change  he says not to rejoice over the fall of people or calamities like wild fires  ect  you wanna be punished?</td>\n",
       "      <td>0</td>\n",
       "      <td>wild fires</td>\n",
       "      <td>canada</td>\n",
       "      <td>@wbcshirl2 yes god doessnt change  he says not to rejoice over the fall of people or calamities like wild fires  ect  you wanna be punished?</td>\n",
       "      <td>@wbcshirl2 yes god doessnt change  he says not to rejoice over the fall of people or calamities like wild fires  ect  you want to be punished?</td>\n",
       "      <td>@wbcshirl2 yes god doessnt change  he says not to rejoice over the fall of people or calamities like wild fires  ect  you want to be punished?</td>\n",
       "      <td>...</td>\n",
       "      <td>@wbcshirl2 yes god doessnt change  he says not to rejoice over the fall of people or calamities like wild fires  ect  you want to be punished?</td>\n",
       "      <td>yes god doessnt change  he says not to rejoice over the fall of people or calamities like wild fires  ect  you want to be punished?</td>\n",
       "      <td>yes god doessnt change  he says not to rejoice over the fall of people or calamities like wild fires  ect  you want to be punished?</td>\n",
       "      <td>yes god doessnt change  he says not to rejoice over the fall of people or calamities like wild fires  ect  you want to be punished?</td>\n",
       "      <td>yes god doessnt change  he says not to rejoice over the fall of people or calamities like wild fires  ect  you want to be punished?</td>\n",
       "      <td>yes god doessnt change  he says not to rejoice over the fall of people or calamities like wild fires  ect  you want to be punished</td>\n",
       "      <td>yes god doessnt change  he says not to rejoice over the fall of people or calamities like wild fires  ect  you want to be punished</td>\n",
       "      <td>yes god doessnt change says rejoice fall people calamities like wild fires ect want punished</td>\n",
       "      <td>yes god doessnt change says rejoice fall people calamities like wild fires ect want punished</td>\n",
       "      <td>yes god doessnt change say rejoice fall people calamity like wild fire ect want punished</td>\n",
       "    </tr>\n",
       "    <tr>\n",
       "      <th>6038</th>\n",
       "      <td>8631</td>\n",
       "      <td>seismic</td>\n",
       "      <td>Madison, Wisconsin, USA</td>\n",
       "      <td>#OilandGas Exploration Takes Seismic Shift in #Gabon to #Somalia http://t.co/oHHolJ9vEV via @business</td>\n",
       "      <td>1</td>\n",
       "      <td>seismic</td>\n",
       "      <td>madison wisconsin usa</td>\n",
       "      <td>#oilandgas exploration takes seismic shift in #gabon to #somalia http://t.co/ohholj9vev via @business</td>\n",
       "      <td>#oilandgas exploration takes seismic shift in #gabon to #somalia http://t.co/ohholj9vev via @business</td>\n",
       "      <td>#oilandgas exploration takes seismic shift in #gabon to #somalia  via @business</td>\n",
       "      <td>...</td>\n",
       "      <td>#oilandgas exploration takes seismic shift in #gabon to #somalia  via @business</td>\n",
       "      <td>#oilandgas exploration takes seismic shift in #gabon to #somalia  via</td>\n",
       "      <td>#oilandgas exploration takes seismic shift in #gabon to #somalia  via</td>\n",
       "      <td>#oilandgas exploration takes seismic shift in #gabon to #somalia  via</td>\n",
       "      <td>#oilandgas exploration takes seismic shift in #gabon to #somalia  via</td>\n",
       "      <td>oilandgas exploration takes seismic shift in  gabon to  somalia  via</td>\n",
       "      <td>oilandgas exploration takes seismic shift in  gabon to  somalia  via</td>\n",
       "      <td>oilandgas exploration takes seismic shift gabon somalia via</td>\n",
       "      <td>oilandgas exploration takes seismic shift gabon somalia via</td>\n",
       "      <td>oilandgas exploration take seismic shift gabon somalia via</td>\n",
       "    </tr>\n",
       "    <tr>\n",
       "      <th>372</th>\n",
       "      <td>533</td>\n",
       "      <td>army</td>\n",
       "      <td></td>\n",
       "      <td>Beyonce Is my pick for http://t.co/nnMQlz91o9 Fan Army #Beyhive http://t.co/o91f3cYy0R 66</td>\n",
       "      <td>0</td>\n",
       "      <td>army</td>\n",
       "      <td></td>\n",
       "      <td>beyonce is my pick for http://t.co/nnmqlz91o9 fan army #beyhive http://t.co/o91f3cyy0r 66</td>\n",
       "      <td>beyonce is my pick for http://t.co/nnmqlz91o9 fan army #beyhive http://t.co/o91f3cyy0r 66</td>\n",
       "      <td>beyonce is my pick for  fan army #beyhive  66</td>\n",
       "      <td>...</td>\n",
       "      <td>beyonce is my pick for  fan army #beyhive  66</td>\n",
       "      <td>beyonce is my pick for  fan army #beyhive  66</td>\n",
       "      <td>beyonce is my pick for  fan army #beyhive  66</td>\n",
       "      <td>beyonce is my pick for  fan army #beyhive  66</td>\n",
       "      <td>beyonce is my pick for  fan army #beyhive  66</td>\n",
       "      <td>beyonce is my pick for  fan army  beyhive  66</td>\n",
       "      <td>beyonce is my pick for  fan army  beyhive  ##</td>\n",
       "      <td>beyonce pick fan army beyhive ##</td>\n",
       "      <td>beyonce pick fan army beyhive ##</td>\n",
       "      <td>beyonce pick fan army beyhive ##</td>\n",
       "    </tr>\n",
       "  </tbody>\n",
       "</table>\n",
       "<p>3 rows × 21 columns</p>\n",
       "</div>"
      ],
      "text/plain": [
       "         id     keyword                 location  \\\n",
       "7322  10482  wild fires                   Canada   \n",
       "6038   8631     seismic  Madison, Wisconsin, USA   \n",
       "372     533        army                            \n",
       "\n",
       "                                                                                                                                              text  \\\n",
       "7322  @WBCShirl2 Yes God doessnt change  he says not to rejoice over the fall of people or calamities like wild fires  ect  you wanna be punished?   \n",
       "6038                                         #OilandGas Exploration Takes Seismic Shift in #Gabon to #Somalia http://t.co/oHHolJ9vEV via @business   \n",
       "372                                                      Beyonce Is my pick for http://t.co/nnMQlz91o9 Fan Army #Beyhive http://t.co/o91f3cYy0R 66   \n",
       "\n",
       "      target keyword_lem          location_prep  \\\n",
       "7322       0  wild fires                 canada   \n",
       "6038       1     seismic  madison wisconsin usa   \n",
       "372        0        army                          \n",
       "\n",
       "                                                                                                                                        text_lower  \\\n",
       "7322  @wbcshirl2 yes god doessnt change  he says not to rejoice over the fall of people or calamities like wild fires  ect  you wanna be punished?   \n",
       "6038                                         #oilandgas exploration takes seismic shift in #gabon to #somalia http://t.co/ohholj9vev via @business   \n",
       "372                                                      beyonce is my pick for http://t.co/nnmqlz91o9 fan army #beyhive http://t.co/o91f3cyy0r 66   \n",
       "\n",
       "                                                                                                                                 text_noContractions  \\\n",
       "7322  @wbcshirl2 yes god doessnt change  he says not to rejoice over the fall of people or calamities like wild fires  ect  you want to be punished?   \n",
       "6038                                           #oilandgas exploration takes seismic shift in #gabon to #somalia http://t.co/ohholj9vev via @business   \n",
       "372                                                        beyonce is my pick for http://t.co/nnmqlz91o9 fan army #beyhive http://t.co/o91f3cyy0r 66   \n",
       "\n",
       "                                                                                                                                         text_noURLs  \\\n",
       "7322  @wbcshirl2 yes god doessnt change  he says not to rejoice over the fall of people or calamities like wild fires  ect  you want to be punished?   \n",
       "6038                                                                 #oilandgas exploration takes seismic shift in #gabon to #somalia  via @business   \n",
       "372                                                                                                    beyonce is my pick for  fan army #beyhive  66   \n",
       "\n",
       "      ...  \\\n",
       "7322  ...   \n",
       "6038  ...   \n",
       "372   ...   \n",
       "\n",
       "                                                                                                                                         text_noHTML  \\\n",
       "7322  @wbcshirl2 yes god doessnt change  he says not to rejoice over the fall of people or calamities like wild fires  ect  you want to be punished?   \n",
       "6038                                                                 #oilandgas exploration takes seismic shift in #gabon to #somalia  via @business   \n",
       "372                                                                                                    beyonce is my pick for  fan army #beyhive  66   \n",
       "\n",
       "                                                                                                                            text_noMention  \\\n",
       "7322   yes god doessnt change  he says not to rejoice over the fall of people or calamities like wild fires  ect  you want to be punished?   \n",
       "6038                                                                #oilandgas exploration takes seismic shift in #gabon to #somalia  via    \n",
       "372                                                                                          beyonce is my pick for  fan army #beyhive  66   \n",
       "\n",
       "                                                                                                                              text_noEmoji  \\\n",
       "7322   yes god doessnt change  he says not to rejoice over the fall of people or calamities like wild fires  ect  you want to be punished?   \n",
       "6038                                                                #oilandgas exploration takes seismic shift in #gabon to #somalia  via    \n",
       "372                                                                                          beyonce is my pick for  fan army #beyhive  66   \n",
       "\n",
       "                                                                                                                             text_noAccent  \\\n",
       "7322   yes god doessnt change  he says not to rejoice over the fall of people or calamities like wild fires  ect  you want to be punished?   \n",
       "6038                                                                #oilandgas exploration takes seismic shift in #gabon to #somalia  via    \n",
       "372                                                                                          beyonce is my pick for  fan army #beyhive  66   \n",
       "\n",
       "                                                                                                                            text_noUnicode  \\\n",
       "7322   yes god doessnt change  he says not to rejoice over the fall of people or calamities like wild fires  ect  you want to be punished?   \n",
       "6038                                                                #oilandgas exploration takes seismic shift in #gabon to #somalia  via    \n",
       "372                                                                                          beyonce is my pick for  fan army #beyhive  66   \n",
       "\n",
       "                                                                                                                              text_noPunct  \\\n",
       "7322   yes god doessnt change  he says not to rejoice over the fall of people or calamities like wild fires  ect  you want to be punished    \n",
       "6038                                                                 oilandgas exploration takes seismic shift in  gabon to  somalia  via    \n",
       "372                                                                                          beyonce is my pick for  fan army  beyhive  66   \n",
       "\n",
       "                                                                                                                              text_noDigit  \\\n",
       "7322   yes god doessnt change  he says not to rejoice over the fall of people or calamities like wild fires  ect  you want to be punished    \n",
       "6038                                                                 oilandgas exploration takes seismic shift in  gabon to  somalia  via    \n",
       "372                                                                                          beyonce is my pick for  fan army  beyhive  ##   \n",
       "\n",
       "                                                                                       text_noStop  \\\n",
       "7322  yes god doessnt change says rejoice fall people calamities like wild fires ect want punished   \n",
       "6038                                   oilandgas exploration takes seismic shift gabon somalia via   \n",
       "372                                                               beyonce pick fan army beyhive ##   \n",
       "\n",
       "                                                                                    text_noExspace  \\\n",
       "7322  yes god doessnt change says rejoice fall people calamities like wild fires ect want punished   \n",
       "6038                                   oilandgas exploration takes seismic shift gabon somalia via   \n",
       "372                                                               beyonce pick fan army beyhive ##   \n",
       "\n",
       "                                                                               text_Lemmatised  \n",
       "7322  yes god doessnt change say rejoice fall people calamity like wild fire ect want punished  \n",
       "6038                                oilandgas exploration take seismic shift gabon somalia via  \n",
       "372                                                           beyonce pick fan army beyhive ##  \n",
       "\n",
       "[3 rows x 21 columns]"
      ]
     },
     "execution_count": 186,
     "metadata": {},
     "output_type": "execute_result"
    }
   ],
   "source": [
    "train_data.sample(3)"
   ]
  },
  {
   "cell_type": "markdown",
   "id": "58304674",
   "metadata": {},
   "source": [
    "### Spell checker"
   ]
  },
  {
   "cell_type": "code",
   "execution_count": null,
   "id": "957327cb",
   "metadata": {},
   "outputs": [],
   "source": []
  },
  {
   "cell_type": "markdown",
   "id": "bdc3b4e8",
   "metadata": {},
   "source": [
    "# Combine keywords and text\n",
    "\n",
    "In the dataset module, I will follow above preprocessing process"
   ]
  },
  {
   "cell_type": "code",
   "execution_count": 191,
   "id": "2399c5b0",
   "metadata": {},
   "outputs": [],
   "source": [
    "train_data['tweet'] = train_data['keyword_lem'] + ' ' + train_data['text_Lemmatised']"
   ]
  },
  {
   "cell_type": "code",
   "execution_count": 202,
   "id": "b881fb33",
   "metadata": {},
   "outputs": [
    {
     "data": {
      "text/html": [
       "<div>\n",
       "<style scoped>\n",
       "    .dataframe tbody tr th:only-of-type {\n",
       "        vertical-align: middle;\n",
       "    }\n",
       "\n",
       "    .dataframe tbody tr th {\n",
       "        vertical-align: top;\n",
       "    }\n",
       "\n",
       "    .dataframe thead th {\n",
       "        text-align: right;\n",
       "    }\n",
       "</style>\n",
       "<table border=\"1\" class=\"dataframe\">\n",
       "  <thead>\n",
       "    <tr style=\"text-align: right;\">\n",
       "      <th></th>\n",
       "      <th>tweet</th>\n",
       "    </tr>\n",
       "  </thead>\n",
       "  <tbody>\n",
       "    <tr>\n",
       "      <th>4593</th>\n",
       "      <td>injury 4 common running injury avoid</td>\n",
       "    </tr>\n",
       "    <tr>\n",
       "      <th>677</th>\n",
       "      <td>blaze artisteoftheweekfact say conversation coast2coastdjs agree jiwonle hiphop clubbanger</td>\n",
       "    </tr>\n",
       "    <tr>\n",
       "      <th>5728</th>\n",
       "      <td>rescuer rescuer searching hundred migrant mediterranean boat carrying many ### people capsized coast ofu</td>\n",
       "    </tr>\n",
       "    <tr>\n",
       "      <th>1377</th>\n",
       "      <td>bush fires attack woman health attack america health hillary clinton show standwithpp</td>\n",
       "    </tr>\n",
       "    <tr>\n",
       "      <th>1397</th>\n",
       "      <td>casualty warfighting robot could reduce civilian casualty calling</td>\n",
       "    </tr>\n",
       "    <tr>\n",
       "      <th>6873</th>\n",
       "      <td>trauma ## faculty member pushing university overturn ban trauma center protester</td>\n",
       "    </tr>\n",
       "    <tr>\n",
       "      <th>1067</th>\n",
       "      <td>bomb guy scared show real name anyway know bomb</td>\n",
       "    </tr>\n",
       "    <tr>\n",
       "      <th>866</th>\n",
       "      <td>blood another day another excellent porridge seriously people blood orange porridge phenomenal</td>\n",
       "    </tr>\n",
       "    <tr>\n",
       "      <th>3271</th>\n",
       "      <td>engulfed tube strike live latest travel update london engulfed chaos genuine baffling telegraph headline</td>\n",
       "    </tr>\n",
       "    <tr>\n",
       "      <th>4066</th>\n",
       "      <td>forest fires forest fire could delay official say could good thing</td>\n",
       "    </tr>\n",
       "  </tbody>\n",
       "</table>\n",
       "</div>"
      ],
      "text/plain": [
       "                                                                                                         tweet\n",
       "4593                                                                      injury 4 common running injury avoid\n",
       "677                 blaze artisteoftheweekfact say conversation coast2coastdjs agree jiwonle hiphop clubbanger\n",
       "5728  rescuer rescuer searching hundred migrant mediterranean boat carrying many ### people capsized coast ofu\n",
       "1377                     bush fires attack woman health attack america health hillary clinton show standwithpp\n",
       "1397                                         casualty warfighting robot could reduce civilian casualty calling\n",
       "6873                          trauma ## faculty member pushing university overturn ban trauma center protester\n",
       "1067                                                           bomb guy scared show real name anyway know bomb\n",
       "866             blood another day another excellent porridge seriously people blood orange porridge phenomenal\n",
       "3271  engulfed tube strike live latest travel update london engulfed chaos genuine baffling telegraph headline\n",
       "4066                                        forest fires forest fire could delay official say could good thing"
      ]
     },
     "execution_count": 202,
     "metadata": {},
     "output_type": "execute_result"
    }
   ],
   "source": [
    "train_data[['tweet']].sample(10)"
   ]
  },
  {
   "cell_type": "code",
   "execution_count": null,
   "id": "be74a6ad",
   "metadata": {},
   "outputs": [],
   "source": []
  },
  {
   "cell_type": "code",
   "execution_count": null,
   "id": "7210e3b6",
   "metadata": {},
   "outputs": [],
   "source": []
  },
  {
   "cell_type": "code",
   "execution_count": null,
   "id": "b7ba6f66",
   "metadata": {},
   "outputs": [],
   "source": []
  },
  {
   "cell_type": "markdown",
   "id": "dadaec6f",
   "metadata": {},
   "source": [
    "## Word tokens of text"
   ]
  },
  {
   "cell_type": "code",
   "execution_count": 17,
   "id": "8590a21c",
   "metadata": {
    "scrolled": true
   },
   "outputs": [],
   "source": [
    "train_data['n_tokens'] = train_data['text'].apply(lambda x: len(word_tokenize(x)))"
   ]
  },
  {
   "cell_type": "code",
   "execution_count": 19,
   "id": "d762487e",
   "metadata": {},
   "outputs": [
    {
     "data": {
      "text/plain": [
       "count    7613.000000\n",
       "mean       18.914226\n",
       "std         6.871321\n",
       "min         1.000000\n",
       "25%        14.000000\n",
       "50%        19.000000\n",
       "75%        24.000000\n",
       "max        72.000000\n",
       "Name: n_tokens, dtype: float64"
      ]
     },
     "execution_count": 19,
     "metadata": {},
     "output_type": "execute_result"
    }
   ],
   "source": [
    "train_data['n_tokens'].describe()"
   ]
  },
  {
   "cell_type": "code",
   "execution_count": null,
   "id": "2e2158c0",
   "metadata": {},
   "outputs": [],
   "source": [
    "train_data['']"
   ]
  },
  {
   "cell_type": "code",
   "execution_count": null,
   "id": "b31d84c6",
   "metadata": {},
   "outputs": [],
   "source": []
  }
 ],
 "metadata": {
  "kernelspec": {
   "display_name": "Python 3 (ipykernel)",
   "language": "python",
   "name": "python3"
  },
  "language_info": {
   "codemirror_mode": {
    "name": "ipython",
    "version": 3
   },
   "file_extension": ".py",
   "mimetype": "text/x-python",
   "name": "python",
   "nbconvert_exporter": "python",
   "pygments_lexer": "ipython3",
   "version": "3.9.12"
  }
 },
 "nbformat": 4,
 "nbformat_minor": 5
}
