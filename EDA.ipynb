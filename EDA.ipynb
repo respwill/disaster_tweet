{
 "cells": [
  {
   "cell_type": "code",
   "execution_count": 1,
   "id": "ff2c9c2c",
   "metadata": {},
   "outputs": [],
   "source": [
    "import pandas as pd"
   ]
  },
  {
   "cell_type": "code",
   "execution_count": 9,
   "id": "29d9ab90",
   "metadata": {},
   "outputs": [],
   "source": [
    "import nltk"
   ]
  },
  {
   "cell_type": "code",
   "execution_count": 14,
   "id": "1d148ff6",
   "metadata": {},
   "outputs": [],
   "source": [
    "from nltk.tokenize import word_tokenize"
   ]
  },
  {
   "cell_type": "code",
   "execution_count": 64,
   "id": "1d7bba5f",
   "metadata": {},
   "outputs": [],
   "source": [
    "import re"
   ]
  },
  {
   "cell_type": "code",
   "execution_count": 2,
   "id": "8d821105",
   "metadata": {},
   "outputs": [],
   "source": [
    "train_data = pd.read_csv(\"./nlp-getting-started/train.csv\")"
   ]
  },
  {
   "cell_type": "code",
   "execution_count": 3,
   "id": "c2c51630",
   "metadata": {},
   "outputs": [
    {
     "data": {
      "text/html": [
       "<div>\n",
       "<style scoped>\n",
       "    .dataframe tbody tr th:only-of-type {\n",
       "        vertical-align: middle;\n",
       "    }\n",
       "\n",
       "    .dataframe tbody tr th {\n",
       "        vertical-align: top;\n",
       "    }\n",
       "\n",
       "    .dataframe thead th {\n",
       "        text-align: right;\n",
       "    }\n",
       "</style>\n",
       "<table border=\"1\" class=\"dataframe\">\n",
       "  <thead>\n",
       "    <tr style=\"text-align: right;\">\n",
       "      <th></th>\n",
       "      <th>id</th>\n",
       "      <th>keyword</th>\n",
       "      <th>location</th>\n",
       "      <th>text</th>\n",
       "      <th>target</th>\n",
       "    </tr>\n",
       "  </thead>\n",
       "  <tbody>\n",
       "    <tr>\n",
       "      <th>0</th>\n",
       "      <td>1</td>\n",
       "      <td>NaN</td>\n",
       "      <td>NaN</td>\n",
       "      <td>Our Deeds are the Reason of this #earthquake M...</td>\n",
       "      <td>1</td>\n",
       "    </tr>\n",
       "    <tr>\n",
       "      <th>1</th>\n",
       "      <td>4</td>\n",
       "      <td>NaN</td>\n",
       "      <td>NaN</td>\n",
       "      <td>Forest fire near La Ronge Sask. Canada</td>\n",
       "      <td>1</td>\n",
       "    </tr>\n",
       "    <tr>\n",
       "      <th>2</th>\n",
       "      <td>5</td>\n",
       "      <td>NaN</td>\n",
       "      <td>NaN</td>\n",
       "      <td>All residents asked to 'shelter in place' are ...</td>\n",
       "      <td>1</td>\n",
       "    </tr>\n",
       "    <tr>\n",
       "      <th>3</th>\n",
       "      <td>6</td>\n",
       "      <td>NaN</td>\n",
       "      <td>NaN</td>\n",
       "      <td>13,000 people receive #wildfires evacuation or...</td>\n",
       "      <td>1</td>\n",
       "    </tr>\n",
       "    <tr>\n",
       "      <th>4</th>\n",
       "      <td>7</td>\n",
       "      <td>NaN</td>\n",
       "      <td>NaN</td>\n",
       "      <td>Just got sent this photo from Ruby #Alaska as ...</td>\n",
       "      <td>1</td>\n",
       "    </tr>\n",
       "  </tbody>\n",
       "</table>\n",
       "</div>"
      ],
      "text/plain": [
       "   id keyword location                                               text  \\\n",
       "0   1     NaN      NaN  Our Deeds are the Reason of this #earthquake M...   \n",
       "1   4     NaN      NaN             Forest fire near La Ronge Sask. Canada   \n",
       "2   5     NaN      NaN  All residents asked to 'shelter in place' are ...   \n",
       "3   6     NaN      NaN  13,000 people receive #wildfires evacuation or...   \n",
       "4   7     NaN      NaN  Just got sent this photo from Ruby #Alaska as ...   \n",
       "\n",
       "   target  \n",
       "0       1  \n",
       "1       1  \n",
       "2       1  \n",
       "3       1  \n",
       "4       1  "
      ]
     },
     "execution_count": 3,
     "metadata": {},
     "output_type": "execute_result"
    }
   ],
   "source": [
    "train_data.head()"
   ]
  },
  {
   "cell_type": "markdown",
   "id": "b448050f",
   "metadata": {},
   "source": [
    "# Number of records\n",
    "Total records: 7613  \n",
    "Null keyword: 61  \n",
    "Null location: 2533"
   ]
  },
  {
   "cell_type": "code",
   "execution_count": 4,
   "id": "e6de61d5",
   "metadata": {},
   "outputs": [
    {
     "data": {
      "text/plain": [
       "(7613, 5)"
      ]
     },
     "execution_count": 4,
     "metadata": {},
     "output_type": "execute_result"
    }
   ],
   "source": [
    "train_data.shape"
   ]
  },
  {
   "cell_type": "code",
   "execution_count": 5,
   "id": "2f6e7fa1",
   "metadata": {},
   "outputs": [
    {
     "data": {
      "text/plain": [
       "(61, 5)"
      ]
     },
     "execution_count": 5,
     "metadata": {},
     "output_type": "execute_result"
    }
   ],
   "source": [
    "train_data[train_data['keyword'].isnull()].shape"
   ]
  },
  {
   "cell_type": "code",
   "execution_count": 8,
   "id": "6592025a",
   "metadata": {},
   "outputs": [
    {
     "data": {
      "text/plain": [
       "(2533, 5)"
      ]
     },
     "execution_count": 8,
     "metadata": {},
     "output_type": "execute_result"
    }
   ],
   "source": [
    "train_data[train_data['location'].isnull()].shape"
   ]
  },
  {
   "cell_type": "markdown",
   "id": "71c3626a",
   "metadata": {},
   "source": [
    "## Duplicated data\n",
    "61 tweets are duplicated  "
   ]
  },
  {
   "cell_type": "code",
   "execution_count": 24,
   "id": "0211a545",
   "metadata": {},
   "outputs": [
    {
     "data": {
      "text/html": [
       "<div>\n",
       "<style scoped>\n",
       "    .dataframe tbody tr th:only-of-type {\n",
       "        vertical-align: middle;\n",
       "    }\n",
       "\n",
       "    .dataframe tbody tr th {\n",
       "        vertical-align: top;\n",
       "    }\n",
       "\n",
       "    .dataframe thead th {\n",
       "        text-align: right;\n",
       "    }\n",
       "</style>\n",
       "<table border=\"1\" class=\"dataframe\">\n",
       "  <thead>\n",
       "    <tr style=\"text-align: right;\">\n",
       "      <th></th>\n",
       "      <th>id</th>\n",
       "      <th>keyword</th>\n",
       "      <th>location</th>\n",
       "      <th>text</th>\n",
       "      <th>target</th>\n",
       "      <th>n_tokens</th>\n",
       "    </tr>\n",
       "  </thead>\n",
       "  <tbody>\n",
       "    <tr>\n",
       "      <th>48</th>\n",
       "      <td>68</td>\n",
       "      <td>ablaze</td>\n",
       "      <td>Live On Webcam</td>\n",
       "      <td>Check these out: http://t.co/rOI2NSmEJJ http:/...</td>\n",
       "      <td>0</td>\n",
       "      <td>18</td>\n",
       "    </tr>\n",
       "    <tr>\n",
       "      <th>115</th>\n",
       "      <td>165</td>\n",
       "      <td>aftershock</td>\n",
       "      <td>US</td>\n",
       "      <td>320 [IR] ICEMOON [AFTERSHOCK] | http://t.co/vA...</td>\n",
       "      <td>0</td>\n",
       "      <td>31</td>\n",
       "    </tr>\n",
       "    <tr>\n",
       "      <th>119</th>\n",
       "      <td>172</td>\n",
       "      <td>aftershock</td>\n",
       "      <td>Switzerland</td>\n",
       "      <td>320 [IR] ICEMOON [AFTERSHOCK] | http://t.co/TH...</td>\n",
       "      <td>0</td>\n",
       "      <td>31</td>\n",
       "    </tr>\n",
       "    <tr>\n",
       "      <th>164</th>\n",
       "      <td>238</td>\n",
       "      <td>airplane%20accident</td>\n",
       "      <td>NaN</td>\n",
       "      <td>Experts in France begin examining airplane deb...</td>\n",
       "      <td>1</td>\n",
       "      <td>22</td>\n",
       "    </tr>\n",
       "    <tr>\n",
       "      <th>624</th>\n",
       "      <td>898</td>\n",
       "      <td>bioterrorism</td>\n",
       "      <td>NaN</td>\n",
       "      <td>To fight bioterrorism sir.</td>\n",
       "      <td>0</td>\n",
       "      <td>5</td>\n",
       "    </tr>\n",
       "    <tr>\n",
       "      <th>...</th>\n",
       "      <td>...</td>\n",
       "      <td>...</td>\n",
       "      <td>...</td>\n",
       "      <td>...</td>\n",
       "      <td>...</td>\n",
       "      <td>...</td>\n",
       "    </tr>\n",
       "    <tr>\n",
       "      <th>6377</th>\n",
       "      <td>9113</td>\n",
       "      <td>suicide%20bomb</td>\n",
       "      <td>Nigeria</td>\n",
       "      <td>#Bestnaijamade: 16yr old PKK suicide bomber wh...</td>\n",
       "      <td>1</td>\n",
       "      <td>20</td>\n",
       "    </tr>\n",
       "    <tr>\n",
       "      <th>6378</th>\n",
       "      <td>9114</td>\n",
       "      <td>suicide%20bomb</td>\n",
       "      <td>Nigeria</td>\n",
       "      <td>#Bestnaijamade: 16yr old PKK suicide bomber wh...</td>\n",
       "      <td>1</td>\n",
       "      <td>20</td>\n",
       "    </tr>\n",
       "    <tr>\n",
       "      <th>6392</th>\n",
       "      <td>9135</td>\n",
       "      <td>suicide%20bomb</td>\n",
       "      <td>Nigeria</td>\n",
       "      <td>#Bestnaijamade: 16yr old PKK suicide bomber wh...</td>\n",
       "      <td>1</td>\n",
       "      <td>20</td>\n",
       "    </tr>\n",
       "    <tr>\n",
       "      <th>6449</th>\n",
       "      <td>9225</td>\n",
       "      <td>suicide%20bombing</td>\n",
       "      <td>NaN</td>\n",
       "      <td>'Suicide bombing at [location named]...' #prem...</td>\n",
       "      <td>1</td>\n",
       "      <td>14</td>\n",
       "    </tr>\n",
       "    <tr>\n",
       "      <th>6656</th>\n",
       "      <td>9539</td>\n",
       "      <td>terrorist</td>\n",
       "      <td>MAD as Hell</td>\n",
       "      <td>RT AbbsWinston: #Zionist #Terrorist kidnapped ...</td>\n",
       "      <td>1</td>\n",
       "      <td>21</td>\n",
       "    </tr>\n",
       "  </tbody>\n",
       "</table>\n",
       "<p>61 rows × 6 columns</p>\n",
       "</div>"
      ],
      "text/plain": [
       "        id              keyword        location  \\\n",
       "48      68               ablaze  Live On Webcam   \n",
       "115    165           aftershock              US   \n",
       "119    172           aftershock     Switzerland   \n",
       "164    238  airplane%20accident             NaN   \n",
       "624    898         bioterrorism             NaN   \n",
       "...    ...                  ...             ...   \n",
       "6377  9113       suicide%20bomb         Nigeria   \n",
       "6378  9114       suicide%20bomb         Nigeria   \n",
       "6392  9135       suicide%20bomb         Nigeria   \n",
       "6449  9225    suicide%20bombing             NaN   \n",
       "6656  9539            terrorist     MAD as Hell   \n",
       "\n",
       "                                                   text  target  n_tokens  \n",
       "48    Check these out: http://t.co/rOI2NSmEJJ http:/...       0        18  \n",
       "115   320 [IR] ICEMOON [AFTERSHOCK] | http://t.co/vA...       0        31  \n",
       "119   320 [IR] ICEMOON [AFTERSHOCK] | http://t.co/TH...       0        31  \n",
       "164   Experts in France begin examining airplane deb...       1        22  \n",
       "624                          To fight bioterrorism sir.       0         5  \n",
       "...                                                 ...     ...       ...  \n",
       "6377  #Bestnaijamade: 16yr old PKK suicide bomber wh...       1        20  \n",
       "6378  #Bestnaijamade: 16yr old PKK suicide bomber wh...       1        20  \n",
       "6392  #Bestnaijamade: 16yr old PKK suicide bomber wh...       1        20  \n",
       "6449  'Suicide bombing at [location named]...' #prem...       1        14  \n",
       "6656  RT AbbsWinston: #Zionist #Terrorist kidnapped ...       1        21  \n",
       "\n",
       "[61 rows x 6 columns]"
      ]
     },
     "execution_count": 24,
     "metadata": {},
     "output_type": "execute_result"
    }
   ],
   "source": [
    "train_data[train_data[['keyword','location','text']].duplicated()]"
   ]
  },
  {
   "cell_type": "markdown",
   "id": "64549b98",
   "metadata": {},
   "source": [
    "remove duplicated data"
   ]
  },
  {
   "cell_type": "code",
   "execution_count": 25,
   "id": "16f9fd20",
   "metadata": {},
   "outputs": [],
   "source": [
    "train_data = train_data[~train_data[['keyword','location','text']].duplicated()]"
   ]
  },
  {
   "cell_type": "code",
   "execution_count": 26,
   "id": "599c0609",
   "metadata": {},
   "outputs": [
    {
     "data": {
      "text/plain": [
       "(7552, 6)"
      ]
     },
     "execution_count": 26,
     "metadata": {},
     "output_type": "execute_result"
    }
   ],
   "source": [
    "train_data.shape"
   ]
  },
  {
   "cell_type": "markdown",
   "id": "2a2d542f",
   "metadata": {},
   "source": [
    "# Keyword\n",
    "\n",
    "222 types of keywords exists  \n",
    "some keywords has % but otherwise, they seems to be proper data."
   ]
  },
  {
   "cell_type": "code",
   "execution_count": 29,
   "id": "3d239c4c",
   "metadata": {},
   "outputs": [
    {
     "data": {
      "text/plain": [
       "(array([nan, 'ablaze', 'accident', 'aftershock', 'airplane%20accident',\n",
       "        'ambulance', 'annihilated', 'annihilation', 'apocalypse',\n",
       "        'armageddon', 'army', 'arson', 'arsonist', 'attack', 'attacked',\n",
       "        'avalanche', 'battle', 'bioterror', 'bioterrorism', 'blaze',\n",
       "        'blazing', 'bleeding', 'blew%20up', 'blight', 'blizzard', 'blood',\n",
       "        'bloody', 'blown%20up', 'body%20bag', 'body%20bagging',\n",
       "        'body%20bags', 'bomb', 'bombed', 'bombing', 'bridge%20collapse',\n",
       "        'buildings%20burning', 'buildings%20on%20fire', 'burned',\n",
       "        'burning', 'burning%20buildings', 'bush%20fires', 'casualties',\n",
       "        'casualty', 'catastrophe', 'catastrophic', 'chemical%20emergency',\n",
       "        'cliff%20fall', 'collapse', 'collapsed', 'collide', 'collided',\n",
       "        'collision', 'crash', 'crashed', 'crush', 'crushed', 'curfew',\n",
       "        'cyclone', 'damage', 'danger', 'dead', 'death', 'deaths', 'debris',\n",
       "        'deluge', 'deluged', 'demolish', 'demolished', 'demolition',\n",
       "        'derail', 'derailed', 'derailment', 'desolate', 'desolation',\n",
       "        'destroy', 'destroyed', 'destruction', 'detonate', 'detonation',\n",
       "        'devastated', 'devastation', 'disaster', 'displaced', 'drought',\n",
       "        'drown', 'drowned', 'drowning', 'dust%20storm', 'earthquake',\n",
       "        'electrocute', 'electrocuted', 'emergency', 'emergency%20plan',\n",
       "        'emergency%20services', 'engulfed', 'epicentre', 'evacuate',\n",
       "        'evacuated', 'evacuation', 'explode', 'exploded', 'explosion',\n",
       "        'eyewitness', 'famine', 'fatal', 'fatalities', 'fatality', 'fear',\n",
       "        'fire', 'fire%20truck', 'first%20responders', 'flames',\n",
       "        'flattened', 'flood', 'flooding', 'floods', 'forest%20fire',\n",
       "        'forest%20fires', 'hail', 'hailstorm', 'harm', 'hazard',\n",
       "        'hazardous', 'heat%20wave', 'hellfire', 'hijack', 'hijacker',\n",
       "        'hijacking', 'hostage', 'hostages', 'hurricane', 'injured',\n",
       "        'injuries', 'injury', 'inundated', 'inundation', 'landslide',\n",
       "        'lava', 'lightning', 'loud%20bang', 'mass%20murder',\n",
       "        'mass%20murderer', 'massacre', 'mayhem', 'meltdown', 'military',\n",
       "        'mudslide', 'natural%20disaster', 'nuclear%20disaster',\n",
       "        'nuclear%20reactor', 'obliterate', 'obliterated', 'obliteration',\n",
       "        'oil%20spill', 'outbreak', 'pandemonium', 'panic', 'panicking',\n",
       "        'police', 'quarantine', 'quarantined', 'radiation%20emergency',\n",
       "        'rainstorm', 'razed', 'refugees', 'rescue', 'rescued', 'rescuers',\n",
       "        'riot', 'rioting', 'rubble', 'ruin', 'sandstorm', 'screamed',\n",
       "        'screaming', 'screams', 'seismic', 'sinkhole', 'sinking', 'siren',\n",
       "        'sirens', 'smoke', 'snowstorm', 'storm', 'stretcher',\n",
       "        'structural%20failure', 'suicide%20bomb', 'suicide%20bomber',\n",
       "        'suicide%20bombing', 'sunk', 'survive', 'survived', 'survivors',\n",
       "        'terrorism', 'terrorist', 'threat', 'thunder', 'thunderstorm',\n",
       "        'tornado', 'tragedy', 'trapped', 'trauma', 'traumatised',\n",
       "        'trouble', 'tsunami', 'twister', 'typhoon', 'upheaval',\n",
       "        'violent%20storm', 'volcano', 'war%20zone', 'weapon', 'weapons',\n",
       "        'whirlwind', 'wild%20fires', 'wildfire', 'windstorm', 'wounded',\n",
       "        'wounds', 'wreck', 'wreckage', 'wrecked'], dtype=object),\n",
       " 222)"
      ]
     },
     "execution_count": 29,
     "metadata": {},
     "output_type": "execute_result"
    }
   ],
   "source": [
    "train_data['keyword'].unique(), len(train_data['keyword'].unique())"
   ]
  },
  {
   "cell_type": "markdown",
   "id": "1c66c791",
   "metadata": {},
   "source": [
    "To reduce duplicated data, let's remitize the keywords"
   ]
  },
  {
   "cell_type": "code",
   "execution_count": 134,
   "id": "bd681892",
   "metadata": {},
   "outputs": [],
   "source": [
    "from nltk.stem import WordNetLemmatizer"
   ]
  },
  {
   "cell_type": "code",
   "execution_count": 135,
   "id": "b7b46fe4",
   "metadata": {},
   "outputs": [],
   "source": [
    "lemmatizer = WordNetLemmatizer()"
   ]
  },
  {
   "cell_type": "code",
   "execution_count": 139,
   "id": "c0da5402",
   "metadata": {},
   "outputs": [
    {
     "name": "stderr",
     "output_type": "stream",
     "text": [
      "C:\\Users\\jaydenpark\\AppData\\Local\\Temp\\2\\ipykernel_7076\\1428591074.py:1: SettingWithCopyWarning: \n",
      "A value is trying to be set on a copy of a slice from a DataFrame.\n",
      "Try using .loc[row_indexer,col_indexer] = value instead\n",
      "\n",
      "See the caveats in the documentation: https://pandas.pydata.org/pandas-docs/stable/user_guide/indexing.html#returning-a-view-versus-a-copy\n",
      "  train_data['keyword'] = train_data['keyword'].fillna('')\n"
     ]
    }
   ],
   "source": [
    "train_data['keyword'] = train_data['keyword'].fillna('')"
   ]
  },
  {
   "cell_type": "code",
   "execution_count": 142,
   "id": "47abb10d",
   "metadata": {},
   "outputs": [
    {
     "name": "stderr",
     "output_type": "stream",
     "text": [
      "C:\\Users\\jaydenpark\\AppData\\Local\\Temp\\2\\ipykernel_7076\\1594350304.py:1: SettingWithCopyWarning: \n",
      "A value is trying to be set on a copy of a slice from a DataFrame.\n",
      "Try using .loc[row_indexer,col_indexer] = value instead\n",
      "\n",
      "See the caveats in the documentation: https://pandas.pydata.org/pandas-docs/stable/user_guide/indexing.html#returning-a-view-versus-a-copy\n",
      "  train_data['keyword'] = train_data['keyword'].str.replace('%', ' ')\n"
     ]
    }
   ],
   "source": [
    "train_data['keyword'] = train_data['keyword'].str.replace('%', ' ')"
   ]
  },
  {
   "cell_type": "markdown",
   "id": "6024ba15",
   "metadata": {},
   "source": [
    "remove digit from keywords"
   ]
  },
  {
   "cell_type": "code",
   "execution_count": 145,
   "id": "50d931a0",
   "metadata": {},
   "outputs": [
    {
     "name": "stderr",
     "output_type": "stream",
     "text": [
      "C:\\Users\\jaydenpark\\AppData\\Local\\Temp\\2\\ipykernel_7076\\3737823605.py:1: SettingWithCopyWarning: \n",
      "A value is trying to be set on a copy of a slice from a DataFrame.\n",
      "Try using .loc[row_indexer,col_indexer] = value instead\n",
      "\n",
      "See the caveats in the documentation: https://pandas.pydata.org/pandas-docs/stable/user_guide/indexing.html#returning-a-view-versus-a-copy\n",
      "  train_data['keyword'] = train_data['keyword'].str.replace('\\d', '', regex=True)\n"
     ]
    }
   ],
   "source": [
    "train_data['keyword'] = train_data['keyword'].str.replace('\\d', '', regex=True)"
   ]
  },
  {
   "cell_type": "markdown",
   "id": "3305dc84",
   "metadata": {},
   "source": [
    "Lemmatize the keywords"
   ]
  },
  {
   "cell_type": "code",
   "execution_count": 146,
   "id": "f76085a8",
   "metadata": {},
   "outputs": [
    {
     "name": "stderr",
     "output_type": "stream",
     "text": [
      "C:\\Users\\jaydenpark\\AppData\\Local\\Temp\\2\\ipykernel_7076\\3258151759.py:1: SettingWithCopyWarning: \n",
      "A value is trying to be set on a copy of a slice from a DataFrame.\n",
      "Try using .loc[row_indexer,col_indexer] = value instead\n",
      "\n",
      "See the caveats in the documentation: https://pandas.pydata.org/pandas-docs/stable/user_guide/indexing.html#returning-a-view-versus-a-copy\n",
      "  train_data['keyword_lem'] = train_data['keyword'].apply(lambda x: lemmatizer.lemmatize(x))\n"
     ]
    }
   ],
   "source": [
    "train_data['keyword_lem'] = train_data['keyword'].apply(lambda x: lemmatizer.lemmatize(x))"
   ]
  },
  {
   "cell_type": "code",
   "execution_count": 148,
   "id": "d56d31ee",
   "metadata": {},
   "outputs": [
    {
     "data": {
      "text/plain": [
       "(array(['', 'ablaze', 'accident', 'aftershock', 'airplane accident',\n",
       "        'ambulance', 'annihilated', 'annihilation', 'apocalypse',\n",
       "        'armageddon', 'army', 'arson', 'arsonist', 'attack', 'attacked',\n",
       "        'avalanche', 'battle', 'bioterror', 'bioterrorism', 'blaze',\n",
       "        'blazing', 'bleeding', 'blew up', 'blight', 'blizzard', 'blood',\n",
       "        'bloody', 'blown up', 'body bag', 'body bagging', 'body bags',\n",
       "        'bomb', 'bombed', 'bombing', 'bridge collapse',\n",
       "        'buildings burning', 'buildings on fire', 'burned', 'burning',\n",
       "        'burning buildings', 'bush fires', 'casualty', 'catastrophe',\n",
       "        'catastrophic', 'chemical emergency', 'cliff fall', 'collapse',\n",
       "        'collapsed', 'collide', 'collided', 'collision', 'crash',\n",
       "        'crashed', 'crush', 'crushed', 'curfew', 'cyclone', 'damage',\n",
       "        'danger', 'dead', 'death', 'debris', 'deluge', 'deluged',\n",
       "        'demolish', 'demolished', 'demolition', 'derail', 'derailed',\n",
       "        'derailment', 'desolate', 'desolation', 'destroy', 'destroyed',\n",
       "        'destruction', 'detonate', 'detonation', 'devastated',\n",
       "        'devastation', 'disaster', 'displaced', 'drought', 'drown',\n",
       "        'drowned', 'drowning', 'dust storm', 'earthquake', 'electrocute',\n",
       "        'electrocuted', 'emergency', 'emergency plan',\n",
       "        'emergency services', 'engulfed', 'epicentre', 'evacuate',\n",
       "        'evacuated', 'evacuation', 'explode', 'exploded', 'explosion',\n",
       "        'eyewitness', 'famine', 'fatal', 'fatality', 'fear', 'fire',\n",
       "        'fire truck', 'first responders', 'flame', 'flattened', 'flood',\n",
       "        'flooding', 'forest fire', 'forest fires', 'hail', 'hailstorm',\n",
       "        'harm', 'hazard', 'hazardous', 'heat wave', 'hellfire', 'hijack',\n",
       "        'hijacker', 'hijacking', 'hostage', 'hurricane', 'injured',\n",
       "        'injury', 'inundated', 'inundation', 'landslide', 'lava',\n",
       "        'lightning', 'loud bang', 'mass murder', 'mass murderer',\n",
       "        'massacre', 'mayhem', 'meltdown', 'military', 'mudslide',\n",
       "        'natural disaster', 'nuclear disaster', 'nuclear reactor',\n",
       "        'obliterate', 'obliterated', 'obliteration', 'oil spill',\n",
       "        'outbreak', 'pandemonium', 'panic', 'panicking', 'police',\n",
       "        'quarantine', 'quarantined', 'radiation emergency', 'rainstorm',\n",
       "        'razed', 'refugee', 'rescue', 'rescued', 'rescuer', 'riot',\n",
       "        'rioting', 'rubble', 'ruin', 'sandstorm', 'screamed', 'screaming',\n",
       "        'scream', 'seismic', 'sinkhole', 'sinking', 'siren', 'smoke',\n",
       "        'snowstorm', 'storm', 'stretcher', 'structural failure',\n",
       "        'suicide bomb', 'suicide bomber', 'suicide bombing', 'sunk',\n",
       "        'survive', 'survived', 'survivor', 'terrorism', 'terrorist',\n",
       "        'threat', 'thunder', 'thunderstorm', 'tornado', 'tragedy',\n",
       "        'trapped', 'trauma', 'traumatised', 'trouble', 'tsunami',\n",
       "        'twister', 'typhoon', 'upheaval', 'violent storm', 'volcano',\n",
       "        'war zone', 'weapon', 'whirlwind', 'wild fires', 'wildfire',\n",
       "        'windstorm', 'wounded', 'wound', 'wreck', 'wreckage', 'wrecked'],\n",
       "       dtype=object),\n",
       " 214)"
      ]
     },
     "execution_count": 148,
     "metadata": {},
     "output_type": "execute_result"
    }
   ],
   "source": [
    "train_data['keyword_lem'].unique(), len(train_data['keyword_lem'].unique())"
   ]
  },
  {
   "cell_type": "markdown",
   "id": "e3191f1e",
   "metadata": {},
   "source": [
    "# Location\n",
    "\n",
    "3342 locations exists"
   ]
  },
  {
   "cell_type": "code",
   "execution_count": 30,
   "id": "72ce1efd",
   "metadata": {},
   "outputs": [
    {
     "data": {
      "text/plain": [
       "(array([nan, 'Birmingham', 'Est. September 2012 - Bristol', ...,\n",
       "        'Vancouver, Canada', 'London ', 'Lincoln'], dtype=object),\n",
       " 3342)"
      ]
     },
     "execution_count": 30,
     "metadata": {},
     "output_type": "execute_result"
    }
   ],
   "source": [
    "train_data['location'].unique(), len(train_data['location'].unique())"
   ]
  },
  {
   "cell_type": "code",
   "execution_count": 63,
   "id": "2fb15e3f",
   "metadata": {},
   "outputs": [
    {
     "data": {
      "text/html": [
       "<div>\n",
       "<style scoped>\n",
       "    .dataframe tbody tr th:only-of-type {\n",
       "        vertical-align: middle;\n",
       "    }\n",
       "\n",
       "    .dataframe tbody tr th {\n",
       "        vertical-align: top;\n",
       "    }\n",
       "\n",
       "    .dataframe thead th {\n",
       "        text-align: right;\n",
       "    }\n",
       "</style>\n",
       "<table border=\"1\" class=\"dataframe\">\n",
       "  <thead>\n",
       "    <tr style=\"text-align: right;\">\n",
       "      <th></th>\n",
       "      <th>location</th>\n",
       "    </tr>\n",
       "  </thead>\n",
       "  <tbody>\n",
       "    <tr>\n",
       "      <th>5066</th>\n",
       "      <td>America of Founding Fathers</td>\n",
       "    </tr>\n",
       "    <tr>\n",
       "      <th>742</th>\n",
       "      <td>#expelcl*y</td>\n",
       "    </tr>\n",
       "    <tr>\n",
       "      <th>4176</th>\n",
       "      <td>NaN</td>\n",
       "    </tr>\n",
       "    <tr>\n",
       "      <th>2070</th>\n",
       "      <td>NaN</td>\n",
       "    </tr>\n",
       "    <tr>\n",
       "      <th>5866</th>\n",
       "      <td>Florida Forever</td>\n",
       "    </tr>\n",
       "    <tr>\n",
       "      <th>4184</th>\n",
       "      <td>Arizona</td>\n",
       "    </tr>\n",
       "    <tr>\n",
       "      <th>2292</th>\n",
       "      <td>London</td>\n",
       "    </tr>\n",
       "    <tr>\n",
       "      <th>1253</th>\n",
       "      <td>CORNFIELDS</td>\n",
       "    </tr>\n",
       "    <tr>\n",
       "      <th>6757</th>\n",
       "      <td>Toronto</td>\n",
       "    </tr>\n",
       "    <tr>\n",
       "      <th>1784</th>\n",
       "      <td>NaN</td>\n",
       "    </tr>\n",
       "  </tbody>\n",
       "</table>\n",
       "</div>"
      ],
      "text/plain": [
       "                         location\n",
       "5066  America of Founding Fathers\n",
       "742                    #expelcl*y\n",
       "4176                          NaN\n",
       "2070                          NaN\n",
       "5866              Florida Forever\n",
       "4184                      Arizona\n",
       "2292                       London\n",
       "1253                   CORNFIELDS\n",
       "6757                      Toronto\n",
       "1784                          NaN"
      ]
     },
     "execution_count": 63,
     "metadata": {},
     "output_type": "execute_result"
    }
   ],
   "source": [
    "train_data[['location']].sample(10)"
   ]
  },
  {
   "cell_type": "code",
   "execution_count": 65,
   "id": "ea1607b4",
   "metadata": {},
   "outputs": [],
   "source": [
    "remove_special = re.compile(\"[.;:!\\'?,\\\"()\\d\\[\\]<>%#\\^&=@\\+\\-\\$\\#\\\\/*]\")"
   ]
  },
  {
   "cell_type": "code",
   "execution_count": 74,
   "id": "172a3afb",
   "metadata": {},
   "outputs": [],
   "source": [
    "import numpy as np"
   ]
  },
  {
   "cell_type": "code",
   "execution_count": 83,
   "id": "976be994",
   "metadata": {},
   "outputs": [],
   "source": [
    "import math"
   ]
  },
  {
   "cell_type": "code",
   "execution_count": 97,
   "id": "dac7254f",
   "metadata": {},
   "outputs": [],
   "source": [
    "def loc_prep(data):\n",
    "    data = data.lower()\n",
    "    data = remove_special.sub(' ', data)\n",
    "    data = re.sub(' +', ' ', data)\n",
    "    return data"
   ]
  },
  {
   "cell_type": "code",
   "execution_count": 94,
   "id": "b5ce1355",
   "metadata": {},
   "outputs": [],
   "source": [
    "train_data.loc[train_data['location'].isnull() ,'location_prep'] = ''"
   ]
  },
  {
   "cell_type": "code",
   "execution_count": 98,
   "id": "a3bb4384",
   "metadata": {},
   "outputs": [
    {
     "name": "stderr",
     "output_type": "stream",
     "text": [
      "C:\\Users\\jaydenpark\\AppData\\Local\\Temp\\2\\ipykernel_7076\\1773747410.py:1: SettingWithCopyWarning: \n",
      "A value is trying to be set on a copy of a slice from a DataFrame.\n",
      "Try using .loc[row_indexer,col_indexer] = value instead\n",
      "\n",
      "See the caveats in the documentation: https://pandas.pydata.org/pandas-docs/stable/user_guide/indexing.html#returning-a-view-versus-a-copy\n",
      "  train_data['location_prep'] = train_data['location_prep'].apply(loc_prep)\n"
     ]
    }
   ],
   "source": [
    "train_data['location_prep'] = train_data['location_prep'].apply(loc_prep)"
   ]
  },
  {
   "cell_type": "code",
   "execution_count": 99,
   "id": "73c27155",
   "metadata": {},
   "outputs": [
    {
     "data": {
      "text/plain": [
       "(array(['', 'birmingham', 'est september bristol', ..., 'denton texas',\n",
       "        ' newcastleupontyne uk', 'lincoln'], dtype=object),\n",
       " 3076)"
      ]
     },
     "execution_count": 99,
     "metadata": {},
     "output_type": "execute_result"
    }
   ],
   "source": [
    "train_data['location_prep'].unique(), len(train_data['location_prep'].unique())"
   ]
  },
  {
   "cell_type": "markdown",
   "id": "d5cfb26d",
   "metadata": {},
   "source": [
    "location data is not accurate.  \n",
    "some location data such as jupiter, everywhere seems no meaning.  \n",
    "Also there are many records that has no location.  \n",
    "It would be better to focus on keywords and text  "
   ]
  },
  {
   "cell_type": "code",
   "execution_count": 132,
   "id": "b8155ebc",
   "metadata": {},
   "outputs": [
    {
     "data": {
      "text/html": [
       "<div>\n",
       "<style scoped>\n",
       "    .dataframe tbody tr th:only-of-type {\n",
       "        vertical-align: middle;\n",
       "    }\n",
       "\n",
       "    .dataframe tbody tr th {\n",
       "        vertical-align: top;\n",
       "    }\n",
       "\n",
       "    .dataframe thead th {\n",
       "        text-align: right;\n",
       "    }\n",
       "</style>\n",
       "<table border=\"1\" class=\"dataframe\">\n",
       "  <thead>\n",
       "    <tr style=\"text-align: right;\">\n",
       "      <th></th>\n",
       "      <th>location_prep</th>\n",
       "    </tr>\n",
       "  </thead>\n",
       "  <tbody>\n",
       "    <tr>\n",
       "      <th>6711</th>\n",
       "      <td>jupiter</td>\n",
       "    </tr>\n",
       "    <tr>\n",
       "      <th>529</th>\n",
       "      <td>new york ny</td>\n",
       "    </tr>\n",
       "    <tr>\n",
       "      <th>6922</th>\n",
       "      <td>nyc</td>\n",
       "    </tr>\n",
       "    <tr>\n",
       "      <th>2092</th>\n",
       "      <td></td>\n",
       "    </tr>\n",
       "    <tr>\n",
       "      <th>914</th>\n",
       "      <td>under the blanket</td>\n",
       "    </tr>\n",
       "    <tr>\n",
       "      <th>5813</th>\n",
       "      <td></td>\n",
       "    </tr>\n",
       "    <tr>\n",
       "      <th>470</th>\n",
       "      <td>halton ontario</td>\n",
       "    </tr>\n",
       "    <tr>\n",
       "      <th>3392</th>\n",
       "      <td></td>\n",
       "    </tr>\n",
       "    <tr>\n",
       "      <th>6149</th>\n",
       "      <td>diamondville</td>\n",
       "    </tr>\n",
       "    <tr>\n",
       "      <th>1859</th>\n",
       "      <td>everywhere</td>\n",
       "    </tr>\n",
       "  </tbody>\n",
       "</table>\n",
       "</div>"
      ],
      "text/plain": [
       "          location_prep\n",
       "6711            jupiter\n",
       "529         new york ny\n",
       "6922                nyc\n",
       "2092                   \n",
       "914   under the blanket\n",
       "5813                   \n",
       "470      halton ontario\n",
       "3392                   \n",
       "6149       diamondville\n",
       "1859         everywhere"
      ]
     },
     "execution_count": 132,
     "metadata": {},
     "output_type": "execute_result"
    }
   ],
   "source": [
    "train_data[['location_prep']].sample(10)"
   ]
  },
  {
   "cell_type": "markdown",
   "id": "cdc8ed9c",
   "metadata": {},
   "source": [
    "# Text\n",
    "I referenced 'https://www.kaggle.com/code/rohitgarud/all-almost-data-preprocessing-techniques-for-nlp' to preprocessed text data."
   ]
  },
  {
   "cell_type": "code",
   "execution_count": 160,
   "id": "0a3ec07b",
   "metadata": {},
   "outputs": [],
   "source": [
    "pd.set_option('display.max_colwidth', None)"
   ]
  },
  {
   "cell_type": "markdown",
   "id": "c5657251",
   "metadata": {},
   "source": [
    "Needs to be cleaned up   \n",
    "* 'urls'\n",
    "* 'mention'\n",
    "* 'tags', \n",
    "* abbreviation\n",
    "* HTML"
   ]
  },
  {
   "cell_type": "code",
   "execution_count": 162,
   "id": "06920ee4",
   "metadata": {},
   "outputs": [
    {
     "data": {
      "text/html": [
       "<div>\n",
       "<style scoped>\n",
       "    .dataframe tbody tr th:only-of-type {\n",
       "        vertical-align: middle;\n",
       "    }\n",
       "\n",
       "    .dataframe tbody tr th {\n",
       "        vertical-align: top;\n",
       "    }\n",
       "\n",
       "    .dataframe thead th {\n",
       "        text-align: right;\n",
       "    }\n",
       "</style>\n",
       "<table border=\"1\" class=\"dataframe\">\n",
       "  <thead>\n",
       "    <tr style=\"text-align: right;\">\n",
       "      <th></th>\n",
       "      <th>text</th>\n",
       "    </tr>\n",
       "  </thead>\n",
       "  <tbody>\n",
       "    <tr>\n",
       "      <th>828</th>\n",
       "      <td>New Expansion Ideas - Bard Class Holy Trinity + 1 http://t.co/EGioxBabOe</td>\n",
       "    </tr>\n",
       "    <tr>\n",
       "      <th>4238</th>\n",
       "      <td>@Josh_LaDo Not tweeting and driving Joshua. Typos are hazardous.</td>\n",
       "    </tr>\n",
       "    <tr>\n",
       "      <th>2053</th>\n",
       "      <td>In my experience if you're always angry and critical as a pundit you are in grave danger of going off the rails. 1/</td>\n",
       "    </tr>\n",
       "    <tr>\n",
       "      <th>1041</th>\n",
       "      <td>Womens Tote Faux Leather Handbags Shoulder Cross Body Top Handle Bags Rose http://t.co/GYzPisBI1u http://t.co/mSDnTkWYaf</td>\n",
       "    </tr>\n",
       "    <tr>\n",
       "      <th>3656</th>\n",
       "      <td>PolicyLab is at @CECANF's last public hearing in NYC today and tomorrow to address child abuse and neglect fatalities http://t.co/n2cY3Z4TPB</td>\n",
       "    </tr>\n",
       "    <tr>\n",
       "      <th>3136</th>\n",
       "      <td>Survival Kit Whistle Fire Starter Wire Saw Cree Torch Emergency Blanket S knife  - Full reÛ_ http://t.co/2OroYUNYM2 http://t.co/C9JnXz3DXC</td>\n",
       "    </tr>\n",
       "    <tr>\n",
       "      <th>948</th>\n",
       "      <td>Turn on ESPN2 and get blown up</td>\n",
       "    </tr>\n",
       "    <tr>\n",
       "      <th>7101</th>\n",
       "      <td>'@NASASolarSystem: Jupiter's Great Red Spot is a violent storm larger than the entire Earth. http://t.co/2lBTshXI3c http://t.co/0jmKdTcYmJ'</td>\n",
       "    </tr>\n",
       "    <tr>\n",
       "      <th>2208</th>\n",
       "      <td>A deluge of eulogies  for #CecilTheLion on my WhatsApp  &amp;gt;&amp;gt;this too *tormented soul by matias xavier *</td>\n",
       "    </tr>\n",
       "    <tr>\n",
       "      <th>4621</th>\n",
       "      <td>New level of tita-dom: bowling injury. http://t.co/tdeQwm8ZXn</td>\n",
       "    </tr>\n",
       "  </tbody>\n",
       "</table>\n",
       "</div>"
      ],
      "text/plain": [
       "                                                                                                                                              text\n",
       "828                                                                       New Expansion Ideas - Bard Class Holy Trinity + 1 http://t.co/EGioxBabOe\n",
       "4238                                                                              @Josh_LaDo Not tweeting and driving Joshua. Typos are hazardous.\n",
       "2053                           In my experience if you're always angry and critical as a pundit you are in grave danger of going off the rails. 1/\n",
       "1041                      Womens Tote Faux Leather Handbags Shoulder Cross Body Top Handle Bags Rose http://t.co/GYzPisBI1u http://t.co/mSDnTkWYaf\n",
       "3656  PolicyLab is at @CECANF's last public hearing in NYC today and tomorrow to address child abuse and neglect fatalities http://t.co/n2cY3Z4TPB\n",
       "3136   Survival Kit Whistle Fire Starter Wire Saw Cree Torch Emergency Blanket S knife  - Full reÛ_ http://t.co/2OroYUNYM2 http://t.co/C9JnXz3DXC\n",
       "948                                                                                                                 Turn on ESPN2 and get blown up\n",
       "7101   '@NASASolarSystem: Jupiter's Great Red Spot is a violent storm larger than the entire Earth. http://t.co/2lBTshXI3c http://t.co/0jmKdTcYmJ'\n",
       "2208                                   A deluge of eulogies  for #CecilTheLion on my WhatsApp  &gt;&gt;this too *tormented soul by matias xavier *\n",
       "4621                                                                                 New level of tita-dom: bowling injury. http://t.co/tdeQwm8ZXn"
      ]
     },
     "execution_count": 162,
     "metadata": {},
     "output_type": "execute_result"
    }
   ],
   "source": [
    "train_data[['text']].sample(10)"
   ]
  },
  {
   "cell_type": "markdown",
   "id": "8bfe2a99",
   "metadata": {},
   "source": [
    "lower case"
   ]
  },
  {
   "cell_type": "code",
   "execution_count": 149,
   "id": "54718596",
   "metadata": {},
   "outputs": [
    {
     "name": "stderr",
     "output_type": "stream",
     "text": [
      "C:\\Users\\jaydenpark\\AppData\\Local\\Temp\\2\\ipykernel_7076\\2344115421.py:1: SettingWithCopyWarning: \n",
      "A value is trying to be set on a copy of a slice from a DataFrame.\n",
      "Try using .loc[row_indexer,col_indexer] = value instead\n",
      "\n",
      "See the caveats in the documentation: https://pandas.pydata.org/pandas-docs/stable/user_guide/indexing.html#returning-a-view-versus-a-copy\n",
      "  train_data['text_lower'] = train_data['text'].str.lower()\n"
     ]
    }
   ],
   "source": [
    "train_data['text_lower'] = train_data['text'].str.lower()"
   ]
  },
  {
   "cell_type": "markdown",
   "id": "c1f53d7b",
   "metadata": {},
   "source": [
    "remove HTML"
   ]
  },
  {
   "cell_type": "code",
   "execution_count": 150,
   "id": "ad7ac106",
   "metadata": {},
   "outputs": [],
   "source": [
    "from bs4 import BeautifulSoup"
   ]
  },
  {
   "cell_type": "code",
   "execution_count": 151,
   "id": "153c1f63",
   "metadata": {},
   "outputs": [
    {
     "name": "stderr",
     "output_type": "stream",
     "text": [
      "C:\\Users\\jaydenpark\\Anaconda3\\envs\\nlp3\\lib\\site-packages\\bs4\\__init__.py:435: MarkupResemblesLocatorWarning: The input looks more like a filename than markup. You may want to open this file and pass the filehandle into Beautiful Soup.\n",
      "  warnings.warn(\n",
      "C:\\Users\\jaydenpark\\AppData\\Local\\Temp\\2\\ipykernel_7076\\2492927788.py:1: SettingWithCopyWarning: \n",
      "A value is trying to be set on a copy of a slice from a DataFrame.\n",
      "Try using .loc[row_indexer,col_indexer] = value instead\n",
      "\n",
      "See the caveats in the documentation: https://pandas.pydata.org/pandas-docs/stable/user_guide/indexing.html#returning-a-view-versus-a-copy\n",
      "  train_data['text_noHTML'] = train_data['text_lower'].apply(lambda x: BeautifulSoup(x).get_text())\n"
     ]
    }
   ],
   "source": [
    "train_data['text_noHTML'] = train_data['text_lower'].apply(lambda x: BeautifulSoup(x).get_text())"
   ]
  },
  {
   "cell_type": "code",
   "execution_count": 183,
   "id": "ebf586fb",
   "metadata": {},
   "outputs": [
    {
     "data": {
      "text/html": [
       "<div>\n",
       "<style scoped>\n",
       "    .dataframe tbody tr th:only-of-type {\n",
       "        vertical-align: middle;\n",
       "    }\n",
       "\n",
       "    .dataframe tbody tr th {\n",
       "        vertical-align: top;\n",
       "    }\n",
       "\n",
       "    .dataframe thead th {\n",
       "        text-align: right;\n",
       "    }\n",
       "</style>\n",
       "<table border=\"1\" class=\"dataframe\">\n",
       "  <thead>\n",
       "    <tr style=\"text-align: right;\">\n",
       "      <th></th>\n",
       "      <th>text_noHTML</th>\n",
       "    </tr>\n",
       "  </thead>\n",
       "  <tbody>\n",
       "    <tr>\n",
       "      <th>14</th>\n",
       "      <td>damage to school bus on 80 in multi car crash #breaking</td>\n",
       "    </tr>\n",
       "    <tr>\n",
       "      <th>4503</th>\n",
       "      <td>hurricane 30stm quem lembra</td>\n",
       "    </tr>\n",
       "    <tr>\n",
       "      <th>572</th>\n",
       "      <td>how did i miss that gary busey's son plays dixie on his electronic green fiddle during the post-battle celebration sequence</td>\n",
       "    </tr>\n",
       "  </tbody>\n",
       "</table>\n",
       "</div>"
      ],
      "text/plain": [
       "                                                                                                                      text_noHTML\n",
       "14                                                                       damage to school bus on 80 in multi car crash #breaking \n",
       "4503                                                                                                  hurricane 30stm quem lembra\n",
       "572   how did i miss that gary busey's son plays dixie on his electronic green fiddle during the post-battle celebration sequence"
      ]
     },
     "execution_count": 183,
     "metadata": {},
     "output_type": "execute_result"
    }
   ],
   "source": [
    "train_data.loc[train_data['text_lower'].str.contains('br'), ['text_noHTML']].sample(3)"
   ]
  },
  {
   "cell_type": "markdown",
   "id": "ced783a4",
   "metadata": {},
   "source": [
    "contractions  \n",
    "expand contractions such as can't -> can not"
   ]
  },
  {
   "cell_type": "code",
   "execution_count": 164,
   "id": "02562bc9",
   "metadata": {},
   "outputs": [],
   "source": [
    "import contractions"
   ]
  },
  {
   "cell_type": "code",
   "execution_count": 165,
   "id": "ea5c7adf",
   "metadata": {},
   "outputs": [],
   "source": [
    "train_data['text_noContractions'] = train_data['text_noHTML'].apply(contractions.fix)"
   ]
  },
  {
   "cell_type": "code",
   "execution_count": 181,
   "id": "2435796b",
   "metadata": {},
   "outputs": [
    {
     "data": {
      "text/html": [
       "<div>\n",
       "<style scoped>\n",
       "    .dataframe tbody tr th:only-of-type {\n",
       "        vertical-align: middle;\n",
       "    }\n",
       "\n",
       "    .dataframe tbody tr th {\n",
       "        vertical-align: top;\n",
       "    }\n",
       "\n",
       "    .dataframe thead th {\n",
       "        text-align: right;\n",
       "    }\n",
       "</style>\n",
       "<table border=\"1\" class=\"dataframe\">\n",
       "  <thead>\n",
       "    <tr style=\"text-align: right;\">\n",
       "      <th></th>\n",
       "      <th>text_noContractions</th>\n",
       "    </tr>\n",
       "  </thead>\n",
       "  <tbody>\n",
       "    <tr>\n",
       "      <th>1696</th>\n",
       "      <td>secrets of the world collide but i leave the past behind \\nit is been so long now and i cannot go without</td>\n",
       "    </tr>\n",
       "    <tr>\n",
       "      <th>3196</th>\n",
       "      <td>cannot fix stupid. mt @cbccalgary do not drive through flooded underpasses warns city as it enacts municipal emergency plan. #yyc #abstorm</td>\n",
       "    </tr>\n",
       "    <tr>\n",
       "      <th>99</th>\n",
       "      <td>only had a car for not even a week and got in a fucking car accident .. mfs cannot fucking drive .</td>\n",
       "    </tr>\n",
       "  </tbody>\n",
       "</table>\n",
       "</div>"
      ],
      "text/plain": [
       "                                                                                                                             text_noContractions\n",
       "1696                                   secrets of the world collide but i leave the past behind \\nit is been so long now and i cannot go without\n",
       "3196  cannot fix stupid. mt @cbccalgary do not drive through flooded underpasses warns city as it enacts municipal emergency plan. #yyc #abstorm\n",
       "99                                            only had a car for not even a week and got in a fucking car accident .. mfs cannot fucking drive ."
      ]
     },
     "execution_count": 181,
     "metadata": {},
     "output_type": "execute_result"
    }
   ],
   "source": [
    "train_data.loc[train_data['text_noHTML'].str.contains(\"can't\"), ['text_noContractions']].sample(3)"
   ]
  },
  {
   "cell_type": "markdown",
   "id": "a5cb75ff",
   "metadata": {},
   "source": [
    "urls  "
   ]
  },
  {
   "cell_type": "code",
   "execution_count": 184,
   "id": "21976473",
   "metadata": {},
   "outputs": [],
   "source": [
    "def rem_urls(data):\n",
    "    regex = re.compile(f\"https?://(www\\.)?(\\w+)(\\.\\w+)(/\\w*)?\")\n",
    "    data = re.sub(regex, \"\", data)\n",
    "    return data"
   ]
  },
  {
   "cell_type": "code",
   "execution_count": 185,
   "id": "c56601f1",
   "metadata": {},
   "outputs": [],
   "source": [
    "train_data['text_noURLs'] = train_data['text_noContractions'].apply(rem_urls)"
   ]
  },
  {
   "cell_type": "code",
   "execution_count": 187,
   "id": "47b47ce2",
   "metadata": {},
   "outputs": [
    {
     "data": {
      "text/html": [
       "<div>\n",
       "<style scoped>\n",
       "    .dataframe tbody tr th:only-of-type {\n",
       "        vertical-align: middle;\n",
       "    }\n",
       "\n",
       "    .dataframe tbody tr th {\n",
       "        vertical-align: top;\n",
       "    }\n",
       "\n",
       "    .dataframe thead th {\n",
       "        text-align: right;\n",
       "    }\n",
       "</style>\n",
       "<table border=\"1\" class=\"dataframe\">\n",
       "  <thead>\n",
       "    <tr style=\"text-align: right;\">\n",
       "      <th></th>\n",
       "      <th>text_noURLs</th>\n",
       "    </tr>\n",
       "  </thead>\n",
       "  <tbody>\n",
       "    <tr>\n",
       "      <th>6383</th>\n",
       "      <td>16yr old pkk suicide bomber who detonated bomb in turkey army trench released</td>\n",
       "    </tr>\n",
       "    <tr>\n",
       "      <th>4132</th>\n",
       "      <td>calgary news weather and traffic for august 5 * ~ 45</td>\n",
       "    </tr>\n",
       "    <tr>\n",
       "      <th>4191</th>\n",
       "      <td>the eden hazard of hockey</td>\n",
       "    </tr>\n",
       "  </tbody>\n",
       "</table>\n",
       "</div>"
      ],
      "text/plain": [
       "                                                                         text_noURLs\n",
       "6383  16yr old pkk suicide bomber who detonated bomb in turkey army trench released \n",
       "4132                          calgary news weather and traffic for august 5 * ~ 45  \n",
       "4191                                                      the eden hazard of hockey "
      ]
     },
     "execution_count": 187,
     "metadata": {},
     "output_type": "execute_result"
    }
   ],
   "source": [
    "train_data.loc[train_data['text_noContractions'].str.contains('http'), ['text_noURLs']].sample(3)"
   ]
  },
  {
   "cell_type": "markdown",
   "id": "2ca767de",
   "metadata": {},
   "source": [
    "emails"
   ]
  },
  {
   "cell_type": "code",
   "execution_count": null,
   "id": "5068ff49",
   "metadata": {},
   "outputs": [],
   "source": [
    "def rem_emails(data):\n",
    "    regex = "
   ]
  },
  {
   "cell_type": "code",
   "execution_count": null,
   "id": "fdbdafab",
   "metadata": {},
   "outputs": [],
   "source": [
    "train_data['text_noEmail'] = train_data['text_noContractions'].apply()"
   ]
  },
  {
   "cell_type": "code",
   "execution_count": null,
   "id": "41b9cf04",
   "metadata": {},
   "outputs": [],
   "source": []
  },
  {
   "cell_type": "markdown",
   "id": "5ca387cf",
   "metadata": {},
   "source": [
    "# Combine keywords and text"
   ]
  },
  {
   "cell_type": "code",
   "execution_count": null,
   "id": "1fffdbd6",
   "metadata": {},
   "outputs": [],
   "source": []
  },
  {
   "cell_type": "code",
   "execution_count": null,
   "id": "d6a454a4",
   "metadata": {},
   "outputs": [],
   "source": []
  },
  {
   "cell_type": "code",
   "execution_count": null,
   "id": "79e12874",
   "metadata": {},
   "outputs": [],
   "source": []
  },
  {
   "cell_type": "code",
   "execution_count": null,
   "id": "2791a2fa",
   "metadata": {},
   "outputs": [],
   "source": []
  },
  {
   "cell_type": "markdown",
   "id": "86eb835c",
   "metadata": {},
   "source": [
    "## Word tokens of text"
   ]
  },
  {
   "cell_type": "code",
   "execution_count": 17,
   "id": "51363eee",
   "metadata": {
    "scrolled": true
   },
   "outputs": [],
   "source": [
    "train_data['n_tokens'] = train_data['text'].apply(lambda x: len(word_tokenize(x)))"
   ]
  },
  {
   "cell_type": "code",
   "execution_count": 19,
   "id": "23f2ab36",
   "metadata": {},
   "outputs": [
    {
     "data": {
      "text/plain": [
       "count    7613.000000\n",
       "mean       18.914226\n",
       "std         6.871321\n",
       "min         1.000000\n",
       "25%        14.000000\n",
       "50%        19.000000\n",
       "75%        24.000000\n",
       "max        72.000000\n",
       "Name: n_tokens, dtype: float64"
      ]
     },
     "execution_count": 19,
     "metadata": {},
     "output_type": "execute_result"
    }
   ],
   "source": [
    "train_data['n_tokens'].describe()"
   ]
  },
  {
   "cell_type": "code",
   "execution_count": null,
   "id": "e4789745",
   "metadata": {},
   "outputs": [],
   "source": [
    "train_data['']"
   ]
  },
  {
   "cell_type": "code",
   "execution_count": null,
   "id": "e38cd456",
   "metadata": {},
   "outputs": [],
   "source": []
  }
 ],
 "metadata": {
  "kernelspec": {
   "display_name": "Python 3 (ipykernel)",
   "language": "python",
   "name": "python3"
  },
  "language_info": {
   "codemirror_mode": {
    "name": "ipython",
    "version": 3
   },
   "file_extension": ".py",
   "mimetype": "text/x-python",
   "name": "python",
   "nbconvert_exporter": "python",
   "pygments_lexer": "ipython3",
   "version": "3.9.12"
  }
 },
 "nbformat": 4,
 "nbformat_minor": 5
}
