{
 "cells": [
  {
   "cell_type": "code",
   "execution_count": 1,
   "id": "20cfd3fe",
   "metadata": {},
   "outputs": [],
   "source": [
    "import pandas as pd"
   ]
  },
  {
   "cell_type": "code",
   "execution_count": 9,
   "id": "1c95db65",
   "metadata": {},
   "outputs": [],
   "source": [
    "import nltk"
   ]
  },
  {
   "cell_type": "code",
   "execution_count": 14,
   "id": "ac395168",
   "metadata": {},
   "outputs": [],
   "source": [
    "from nltk.tokenize import word_tokenize"
   ]
  },
  {
   "cell_type": "code",
   "execution_count": 64,
   "id": "0d9a6ec9",
   "metadata": {},
   "outputs": [],
   "source": [
    "import re"
   ]
  },
  {
   "cell_type": "code",
   "execution_count": 2,
   "id": "e6921230",
   "metadata": {},
   "outputs": [],
   "source": [
    "train_data = pd.read_csv(\"./nlp-getting-started/train.csv\")"
   ]
  },
  {
   "cell_type": "code",
   "execution_count": 3,
   "id": "99f8a82f",
   "metadata": {},
   "outputs": [
    {
     "data": {
      "text/html": [
       "<div>\n",
       "<style scoped>\n",
       "    .dataframe tbody tr th:only-of-type {\n",
       "        vertical-align: middle;\n",
       "    }\n",
       "\n",
       "    .dataframe tbody tr th {\n",
       "        vertical-align: top;\n",
       "    }\n",
       "\n",
       "    .dataframe thead th {\n",
       "        text-align: right;\n",
       "    }\n",
       "</style>\n",
       "<table border=\"1\" class=\"dataframe\">\n",
       "  <thead>\n",
       "    <tr style=\"text-align: right;\">\n",
       "      <th></th>\n",
       "      <th>id</th>\n",
       "      <th>keyword</th>\n",
       "      <th>location</th>\n",
       "      <th>text</th>\n",
       "      <th>target</th>\n",
       "    </tr>\n",
       "  </thead>\n",
       "  <tbody>\n",
       "    <tr>\n",
       "      <th>0</th>\n",
       "      <td>1</td>\n",
       "      <td>NaN</td>\n",
       "      <td>NaN</td>\n",
       "      <td>Our Deeds are the Reason of this #earthquake M...</td>\n",
       "      <td>1</td>\n",
       "    </tr>\n",
       "    <tr>\n",
       "      <th>1</th>\n",
       "      <td>4</td>\n",
       "      <td>NaN</td>\n",
       "      <td>NaN</td>\n",
       "      <td>Forest fire near La Ronge Sask. Canada</td>\n",
       "      <td>1</td>\n",
       "    </tr>\n",
       "    <tr>\n",
       "      <th>2</th>\n",
       "      <td>5</td>\n",
       "      <td>NaN</td>\n",
       "      <td>NaN</td>\n",
       "      <td>All residents asked to 'shelter in place' are ...</td>\n",
       "      <td>1</td>\n",
       "    </tr>\n",
       "    <tr>\n",
       "      <th>3</th>\n",
       "      <td>6</td>\n",
       "      <td>NaN</td>\n",
       "      <td>NaN</td>\n",
       "      <td>13,000 people receive #wildfires evacuation or...</td>\n",
       "      <td>1</td>\n",
       "    </tr>\n",
       "    <tr>\n",
       "      <th>4</th>\n",
       "      <td>7</td>\n",
       "      <td>NaN</td>\n",
       "      <td>NaN</td>\n",
       "      <td>Just got sent this photo from Ruby #Alaska as ...</td>\n",
       "      <td>1</td>\n",
       "    </tr>\n",
       "  </tbody>\n",
       "</table>\n",
       "</div>"
      ],
      "text/plain": [
       "   id keyword location                                               text  \\\n",
       "0   1     NaN      NaN  Our Deeds are the Reason of this #earthquake M...   \n",
       "1   4     NaN      NaN             Forest fire near La Ronge Sask. Canada   \n",
       "2   5     NaN      NaN  All residents asked to 'shelter in place' are ...   \n",
       "3   6     NaN      NaN  13,000 people receive #wildfires evacuation or...   \n",
       "4   7     NaN      NaN  Just got sent this photo from Ruby #Alaska as ...   \n",
       "\n",
       "   target  \n",
       "0       1  \n",
       "1       1  \n",
       "2       1  \n",
       "3       1  \n",
       "4       1  "
      ]
     },
     "execution_count": 3,
     "metadata": {},
     "output_type": "execute_result"
    }
   ],
   "source": [
    "train_data.head()"
   ]
  },
  {
   "cell_type": "markdown",
   "id": "01c7e05c",
   "metadata": {},
   "source": [
    "# Number of records\n",
    "Total records: 7613  \n",
    "Null keyword: 61  \n",
    "Null location: 2533"
   ]
  },
  {
   "cell_type": "code",
   "execution_count": 4,
   "id": "c757b4a6",
   "metadata": {},
   "outputs": [
    {
     "data": {
      "text/plain": [
       "(7613, 5)"
      ]
     },
     "execution_count": 4,
     "metadata": {},
     "output_type": "execute_result"
    }
   ],
   "source": [
    "train_data.shape"
   ]
  },
  {
   "cell_type": "code",
   "execution_count": 5,
   "id": "6e156a5b",
   "metadata": {},
   "outputs": [
    {
     "data": {
      "text/plain": [
       "(61, 5)"
      ]
     },
     "execution_count": 5,
     "metadata": {},
     "output_type": "execute_result"
    }
   ],
   "source": [
    "train_data[train_data['keyword'].isnull()].shape"
   ]
  },
  {
   "cell_type": "code",
   "execution_count": 8,
   "id": "84736815",
   "metadata": {},
   "outputs": [
    {
     "data": {
      "text/plain": [
       "(2533, 5)"
      ]
     },
     "execution_count": 8,
     "metadata": {},
     "output_type": "execute_result"
    }
   ],
   "source": [
    "train_data[train_data['location'].isnull()].shape"
   ]
  },
  {
   "cell_type": "markdown",
   "id": "b6689f46",
   "metadata": {},
   "source": [
    "## Duplicated data\n",
    "61 tweets are duplicated  "
   ]
  },
  {
   "cell_type": "code",
   "execution_count": 24,
   "id": "3b9553b0",
   "metadata": {},
   "outputs": [
    {
     "data": {
      "text/html": [
       "<div>\n",
       "<style scoped>\n",
       "    .dataframe tbody tr th:only-of-type {\n",
       "        vertical-align: middle;\n",
       "    }\n",
       "\n",
       "    .dataframe tbody tr th {\n",
       "        vertical-align: top;\n",
       "    }\n",
       "\n",
       "    .dataframe thead th {\n",
       "        text-align: right;\n",
       "    }\n",
       "</style>\n",
       "<table border=\"1\" class=\"dataframe\">\n",
       "  <thead>\n",
       "    <tr style=\"text-align: right;\">\n",
       "      <th></th>\n",
       "      <th>id</th>\n",
       "      <th>keyword</th>\n",
       "      <th>location</th>\n",
       "      <th>text</th>\n",
       "      <th>target</th>\n",
       "      <th>n_tokens</th>\n",
       "    </tr>\n",
       "  </thead>\n",
       "  <tbody>\n",
       "    <tr>\n",
       "      <th>48</th>\n",
       "      <td>68</td>\n",
       "      <td>ablaze</td>\n",
       "      <td>Live On Webcam</td>\n",
       "      <td>Check these out: http://t.co/rOI2NSmEJJ http:/...</td>\n",
       "      <td>0</td>\n",
       "      <td>18</td>\n",
       "    </tr>\n",
       "    <tr>\n",
       "      <th>115</th>\n",
       "      <td>165</td>\n",
       "      <td>aftershock</td>\n",
       "      <td>US</td>\n",
       "      <td>320 [IR] ICEMOON [AFTERSHOCK] | http://t.co/vA...</td>\n",
       "      <td>0</td>\n",
       "      <td>31</td>\n",
       "    </tr>\n",
       "    <tr>\n",
       "      <th>119</th>\n",
       "      <td>172</td>\n",
       "      <td>aftershock</td>\n",
       "      <td>Switzerland</td>\n",
       "      <td>320 [IR] ICEMOON [AFTERSHOCK] | http://t.co/TH...</td>\n",
       "      <td>0</td>\n",
       "      <td>31</td>\n",
       "    </tr>\n",
       "    <tr>\n",
       "      <th>164</th>\n",
       "      <td>238</td>\n",
       "      <td>airplane%20accident</td>\n",
       "      <td>NaN</td>\n",
       "      <td>Experts in France begin examining airplane deb...</td>\n",
       "      <td>1</td>\n",
       "      <td>22</td>\n",
       "    </tr>\n",
       "    <tr>\n",
       "      <th>624</th>\n",
       "      <td>898</td>\n",
       "      <td>bioterrorism</td>\n",
       "      <td>NaN</td>\n",
       "      <td>To fight bioterrorism sir.</td>\n",
       "      <td>0</td>\n",
       "      <td>5</td>\n",
       "    </tr>\n",
       "    <tr>\n",
       "      <th>...</th>\n",
       "      <td>...</td>\n",
       "      <td>...</td>\n",
       "      <td>...</td>\n",
       "      <td>...</td>\n",
       "      <td>...</td>\n",
       "      <td>...</td>\n",
       "    </tr>\n",
       "    <tr>\n",
       "      <th>6377</th>\n",
       "      <td>9113</td>\n",
       "      <td>suicide%20bomb</td>\n",
       "      <td>Nigeria</td>\n",
       "      <td>#Bestnaijamade: 16yr old PKK suicide bomber wh...</td>\n",
       "      <td>1</td>\n",
       "      <td>20</td>\n",
       "    </tr>\n",
       "    <tr>\n",
       "      <th>6378</th>\n",
       "      <td>9114</td>\n",
       "      <td>suicide%20bomb</td>\n",
       "      <td>Nigeria</td>\n",
       "      <td>#Bestnaijamade: 16yr old PKK suicide bomber wh...</td>\n",
       "      <td>1</td>\n",
       "      <td>20</td>\n",
       "    </tr>\n",
       "    <tr>\n",
       "      <th>6392</th>\n",
       "      <td>9135</td>\n",
       "      <td>suicide%20bomb</td>\n",
       "      <td>Nigeria</td>\n",
       "      <td>#Bestnaijamade: 16yr old PKK suicide bomber wh...</td>\n",
       "      <td>1</td>\n",
       "      <td>20</td>\n",
       "    </tr>\n",
       "    <tr>\n",
       "      <th>6449</th>\n",
       "      <td>9225</td>\n",
       "      <td>suicide%20bombing</td>\n",
       "      <td>NaN</td>\n",
       "      <td>'Suicide bombing at [location named]...' #prem...</td>\n",
       "      <td>1</td>\n",
       "      <td>14</td>\n",
       "    </tr>\n",
       "    <tr>\n",
       "      <th>6656</th>\n",
       "      <td>9539</td>\n",
       "      <td>terrorist</td>\n",
       "      <td>MAD as Hell</td>\n",
       "      <td>RT AbbsWinston: #Zionist #Terrorist kidnapped ...</td>\n",
       "      <td>1</td>\n",
       "      <td>21</td>\n",
       "    </tr>\n",
       "  </tbody>\n",
       "</table>\n",
       "<p>61 rows × 6 columns</p>\n",
       "</div>"
      ],
      "text/plain": [
       "        id              keyword        location  \\\n",
       "48      68               ablaze  Live On Webcam   \n",
       "115    165           aftershock              US   \n",
       "119    172           aftershock     Switzerland   \n",
       "164    238  airplane%20accident             NaN   \n",
       "624    898         bioterrorism             NaN   \n",
       "...    ...                  ...             ...   \n",
       "6377  9113       suicide%20bomb         Nigeria   \n",
       "6378  9114       suicide%20bomb         Nigeria   \n",
       "6392  9135       suicide%20bomb         Nigeria   \n",
       "6449  9225    suicide%20bombing             NaN   \n",
       "6656  9539            terrorist     MAD as Hell   \n",
       "\n",
       "                                                   text  target  n_tokens  \n",
       "48    Check these out: http://t.co/rOI2NSmEJJ http:/...       0        18  \n",
       "115   320 [IR] ICEMOON [AFTERSHOCK] | http://t.co/vA...       0        31  \n",
       "119   320 [IR] ICEMOON [AFTERSHOCK] | http://t.co/TH...       0        31  \n",
       "164   Experts in France begin examining airplane deb...       1        22  \n",
       "624                          To fight bioterrorism sir.       0         5  \n",
       "...                                                 ...     ...       ...  \n",
       "6377  #Bestnaijamade: 16yr old PKK suicide bomber wh...       1        20  \n",
       "6378  #Bestnaijamade: 16yr old PKK suicide bomber wh...       1        20  \n",
       "6392  #Bestnaijamade: 16yr old PKK suicide bomber wh...       1        20  \n",
       "6449  'Suicide bombing at [location named]...' #prem...       1        14  \n",
       "6656  RT AbbsWinston: #Zionist #Terrorist kidnapped ...       1        21  \n",
       "\n",
       "[61 rows x 6 columns]"
      ]
     },
     "execution_count": 24,
     "metadata": {},
     "output_type": "execute_result"
    }
   ],
   "source": [
    "train_data[train_data[['keyword','location','text']].duplicated()]"
   ]
  },
  {
   "cell_type": "markdown",
   "id": "ae43398e",
   "metadata": {},
   "source": [
    "remove duplicated data"
   ]
  },
  {
   "cell_type": "code",
   "execution_count": 25,
   "id": "f873a7af",
   "metadata": {},
   "outputs": [],
   "source": [
    "train_data = train_data[~train_data[['keyword','location','text']].duplicated()]"
   ]
  },
  {
   "cell_type": "code",
   "execution_count": 26,
   "id": "9ebadd30",
   "metadata": {},
   "outputs": [
    {
     "data": {
      "text/plain": [
       "(7552, 6)"
      ]
     },
     "execution_count": 26,
     "metadata": {},
     "output_type": "execute_result"
    }
   ],
   "source": [
    "train_data.shape"
   ]
  },
  {
   "cell_type": "markdown",
   "id": "55d7c83e",
   "metadata": {},
   "source": [
    "# Keyword\n",
    "\n",
    "222 types of keywords exists  \n",
    "some keywords has % but otherwise, they seems to be proper data."
   ]
  },
  {
   "cell_type": "code",
   "execution_count": 29,
   "id": "f9d763f8",
   "metadata": {},
   "outputs": [
    {
     "data": {
      "text/plain": [
       "(array([nan, 'ablaze', 'accident', 'aftershock', 'airplane%20accident',\n",
       "        'ambulance', 'annihilated', 'annihilation', 'apocalypse',\n",
       "        'armageddon', 'army', 'arson', 'arsonist', 'attack', 'attacked',\n",
       "        'avalanche', 'battle', 'bioterror', 'bioterrorism', 'blaze',\n",
       "        'blazing', 'bleeding', 'blew%20up', 'blight', 'blizzard', 'blood',\n",
       "        'bloody', 'blown%20up', 'body%20bag', 'body%20bagging',\n",
       "        'body%20bags', 'bomb', 'bombed', 'bombing', 'bridge%20collapse',\n",
       "        'buildings%20burning', 'buildings%20on%20fire', 'burned',\n",
       "        'burning', 'burning%20buildings', 'bush%20fires', 'casualties',\n",
       "        'casualty', 'catastrophe', 'catastrophic', 'chemical%20emergency',\n",
       "        'cliff%20fall', 'collapse', 'collapsed', 'collide', 'collided',\n",
       "        'collision', 'crash', 'crashed', 'crush', 'crushed', 'curfew',\n",
       "        'cyclone', 'damage', 'danger', 'dead', 'death', 'deaths', 'debris',\n",
       "        'deluge', 'deluged', 'demolish', 'demolished', 'demolition',\n",
       "        'derail', 'derailed', 'derailment', 'desolate', 'desolation',\n",
       "        'destroy', 'destroyed', 'destruction', 'detonate', 'detonation',\n",
       "        'devastated', 'devastation', 'disaster', 'displaced', 'drought',\n",
       "        'drown', 'drowned', 'drowning', 'dust%20storm', 'earthquake',\n",
       "        'electrocute', 'electrocuted', 'emergency', 'emergency%20plan',\n",
       "        'emergency%20services', 'engulfed', 'epicentre', 'evacuate',\n",
       "        'evacuated', 'evacuation', 'explode', 'exploded', 'explosion',\n",
       "        'eyewitness', 'famine', 'fatal', 'fatalities', 'fatality', 'fear',\n",
       "        'fire', 'fire%20truck', 'first%20responders', 'flames',\n",
       "        'flattened', 'flood', 'flooding', 'floods', 'forest%20fire',\n",
       "        'forest%20fires', 'hail', 'hailstorm', 'harm', 'hazard',\n",
       "        'hazardous', 'heat%20wave', 'hellfire', 'hijack', 'hijacker',\n",
       "        'hijacking', 'hostage', 'hostages', 'hurricane', 'injured',\n",
       "        'injuries', 'injury', 'inundated', 'inundation', 'landslide',\n",
       "        'lava', 'lightning', 'loud%20bang', 'mass%20murder',\n",
       "        'mass%20murderer', 'massacre', 'mayhem', 'meltdown', 'military',\n",
       "        'mudslide', 'natural%20disaster', 'nuclear%20disaster',\n",
       "        'nuclear%20reactor', 'obliterate', 'obliterated', 'obliteration',\n",
       "        'oil%20spill', 'outbreak', 'pandemonium', 'panic', 'panicking',\n",
       "        'police', 'quarantine', 'quarantined', 'radiation%20emergency',\n",
       "        'rainstorm', 'razed', 'refugees', 'rescue', 'rescued', 'rescuers',\n",
       "        'riot', 'rioting', 'rubble', 'ruin', 'sandstorm', 'screamed',\n",
       "        'screaming', 'screams', 'seismic', 'sinkhole', 'sinking', 'siren',\n",
       "        'sirens', 'smoke', 'snowstorm', 'storm', 'stretcher',\n",
       "        'structural%20failure', 'suicide%20bomb', 'suicide%20bomber',\n",
       "        'suicide%20bombing', 'sunk', 'survive', 'survived', 'survivors',\n",
       "        'terrorism', 'terrorist', 'threat', 'thunder', 'thunderstorm',\n",
       "        'tornado', 'tragedy', 'trapped', 'trauma', 'traumatised',\n",
       "        'trouble', 'tsunami', 'twister', 'typhoon', 'upheaval',\n",
       "        'violent%20storm', 'volcano', 'war%20zone', 'weapon', 'weapons',\n",
       "        'whirlwind', 'wild%20fires', 'wildfire', 'windstorm', 'wounded',\n",
       "        'wounds', 'wreck', 'wreckage', 'wrecked'], dtype=object),\n",
       " 222)"
      ]
     },
     "execution_count": 29,
     "metadata": {},
     "output_type": "execute_result"
    }
   ],
   "source": [
    "train_data['keyword'].unique(), len(train_data['keyword'].unique())"
   ]
  },
  {
   "cell_type": "markdown",
   "id": "3fcee6f0",
   "metadata": {},
   "source": [
    "To reduce duplicated data, let's remitize the keywords"
   ]
  },
  {
   "cell_type": "code",
   "execution_count": 134,
   "id": "1075e01c",
   "metadata": {},
   "outputs": [],
   "source": [
    "from nltk.stem import WordNetLemmatizer"
   ]
  },
  {
   "cell_type": "code",
   "execution_count": 135,
   "id": "3928a426",
   "metadata": {},
   "outputs": [],
   "source": [
    "lemmatizer = WordNetLemmatizer()"
   ]
  },
  {
   "cell_type": "code",
   "execution_count": 139,
   "id": "8ebac594",
   "metadata": {},
   "outputs": [
    {
     "name": "stderr",
     "output_type": "stream",
     "text": [
      "C:\\Users\\jaydenpark\\AppData\\Local\\Temp\\2\\ipykernel_7076\\1428591074.py:1: SettingWithCopyWarning: \n",
      "A value is trying to be set on a copy of a slice from a DataFrame.\n",
      "Try using .loc[row_indexer,col_indexer] = value instead\n",
      "\n",
      "See the caveats in the documentation: https://pandas.pydata.org/pandas-docs/stable/user_guide/indexing.html#returning-a-view-versus-a-copy\n",
      "  train_data['keyword'] = train_data['keyword'].fillna('')\n"
     ]
    }
   ],
   "source": [
    "train_data['keyword'] = train_data['keyword'].fillna('')"
   ]
  },
  {
   "cell_type": "code",
   "execution_count": 142,
   "id": "dce8ff01",
   "metadata": {},
   "outputs": [
    {
     "name": "stderr",
     "output_type": "stream",
     "text": [
      "C:\\Users\\jaydenpark\\AppData\\Local\\Temp\\2\\ipykernel_7076\\1594350304.py:1: SettingWithCopyWarning: \n",
      "A value is trying to be set on a copy of a slice from a DataFrame.\n",
      "Try using .loc[row_indexer,col_indexer] = value instead\n",
      "\n",
      "See the caveats in the documentation: https://pandas.pydata.org/pandas-docs/stable/user_guide/indexing.html#returning-a-view-versus-a-copy\n",
      "  train_data['keyword'] = train_data['keyword'].str.replace('%', ' ')\n"
     ]
    }
   ],
   "source": [
    "train_data['keyword'] = train_data['keyword'].str.replace('%', ' ')"
   ]
  },
  {
   "cell_type": "code",
   "execution_count": 145,
   "id": "c87df353",
   "metadata": {},
   "outputs": [
    {
     "name": "stderr",
     "output_type": "stream",
     "text": [
      "C:\\Users\\jaydenpark\\AppData\\Local\\Temp\\2\\ipykernel_7076\\3737823605.py:1: SettingWithCopyWarning: \n",
      "A value is trying to be set on a copy of a slice from a DataFrame.\n",
      "Try using .loc[row_indexer,col_indexer] = value instead\n",
      "\n",
      "See the caveats in the documentation: https://pandas.pydata.org/pandas-docs/stable/user_guide/indexing.html#returning-a-view-versus-a-copy\n",
      "  train_data['keyword'] = train_data['keyword'].str.replace('\\d', '', regex=True)\n"
     ]
    }
   ],
   "source": [
    "train_data['keyword'] = train_data['keyword'].str.replace('\\d', '', regex=True)"
   ]
  },
  {
   "cell_type": "code",
   "execution_count": 146,
   "id": "afa4a0c4",
   "metadata": {},
   "outputs": [
    {
     "name": "stderr",
     "output_type": "stream",
     "text": [
      "C:\\Users\\jaydenpark\\AppData\\Local\\Temp\\2\\ipykernel_7076\\3258151759.py:1: SettingWithCopyWarning: \n",
      "A value is trying to be set on a copy of a slice from a DataFrame.\n",
      "Try using .loc[row_indexer,col_indexer] = value instead\n",
      "\n",
      "See the caveats in the documentation: https://pandas.pydata.org/pandas-docs/stable/user_guide/indexing.html#returning-a-view-versus-a-copy\n",
      "  train_data['keyword_lem'] = train_data['keyword'].apply(lambda x: lemmatizer.lemmatize(x))\n"
     ]
    }
   ],
   "source": [
    "train_data['keyword_lem'] = train_data['keyword'].apply(lambda x: lemmatizer.lemmatize(x))"
   ]
  },
  {
   "cell_type": "code",
   "execution_count": 148,
   "id": "4d21ec1b",
   "metadata": {},
   "outputs": [
    {
     "data": {
      "text/plain": [
       "(array(['', 'ablaze', 'accident', 'aftershock', 'airplane accident',\n",
       "        'ambulance', 'annihilated', 'annihilation', 'apocalypse',\n",
       "        'armageddon', 'army', 'arson', 'arsonist', 'attack', 'attacked',\n",
       "        'avalanche', 'battle', 'bioterror', 'bioterrorism', 'blaze',\n",
       "        'blazing', 'bleeding', 'blew up', 'blight', 'blizzard', 'blood',\n",
       "        'bloody', 'blown up', 'body bag', 'body bagging', 'body bags',\n",
       "        'bomb', 'bombed', 'bombing', 'bridge collapse',\n",
       "        'buildings burning', 'buildings on fire', 'burned', 'burning',\n",
       "        'burning buildings', 'bush fires', 'casualty', 'catastrophe',\n",
       "        'catastrophic', 'chemical emergency', 'cliff fall', 'collapse',\n",
       "        'collapsed', 'collide', 'collided', 'collision', 'crash',\n",
       "        'crashed', 'crush', 'crushed', 'curfew', 'cyclone', 'damage',\n",
       "        'danger', 'dead', 'death', 'debris', 'deluge', 'deluged',\n",
       "        'demolish', 'demolished', 'demolition', 'derail', 'derailed',\n",
       "        'derailment', 'desolate', 'desolation', 'destroy', 'destroyed',\n",
       "        'destruction', 'detonate', 'detonation', 'devastated',\n",
       "        'devastation', 'disaster', 'displaced', 'drought', 'drown',\n",
       "        'drowned', 'drowning', 'dust storm', 'earthquake', 'electrocute',\n",
       "        'electrocuted', 'emergency', 'emergency plan',\n",
       "        'emergency services', 'engulfed', 'epicentre', 'evacuate',\n",
       "        'evacuated', 'evacuation', 'explode', 'exploded', 'explosion',\n",
       "        'eyewitness', 'famine', 'fatal', 'fatality', 'fear', 'fire',\n",
       "        'fire truck', 'first responders', 'flame', 'flattened', 'flood',\n",
       "        'flooding', 'forest fire', 'forest fires', 'hail', 'hailstorm',\n",
       "        'harm', 'hazard', 'hazardous', 'heat wave', 'hellfire', 'hijack',\n",
       "        'hijacker', 'hijacking', 'hostage', 'hurricane', 'injured',\n",
       "        'injury', 'inundated', 'inundation', 'landslide', 'lava',\n",
       "        'lightning', 'loud bang', 'mass murder', 'mass murderer',\n",
       "        'massacre', 'mayhem', 'meltdown', 'military', 'mudslide',\n",
       "        'natural disaster', 'nuclear disaster', 'nuclear reactor',\n",
       "        'obliterate', 'obliterated', 'obliteration', 'oil spill',\n",
       "        'outbreak', 'pandemonium', 'panic', 'panicking', 'police',\n",
       "        'quarantine', 'quarantined', 'radiation emergency', 'rainstorm',\n",
       "        'razed', 'refugee', 'rescue', 'rescued', 'rescuer', 'riot',\n",
       "        'rioting', 'rubble', 'ruin', 'sandstorm', 'screamed', 'screaming',\n",
       "        'scream', 'seismic', 'sinkhole', 'sinking', 'siren', 'smoke',\n",
       "        'snowstorm', 'storm', 'stretcher', 'structural failure',\n",
       "        'suicide bomb', 'suicide bomber', 'suicide bombing', 'sunk',\n",
       "        'survive', 'survived', 'survivor', 'terrorism', 'terrorist',\n",
       "        'threat', 'thunder', 'thunderstorm', 'tornado', 'tragedy',\n",
       "        'trapped', 'trauma', 'traumatised', 'trouble', 'tsunami',\n",
       "        'twister', 'typhoon', 'upheaval', 'violent storm', 'volcano',\n",
       "        'war zone', 'weapon', 'whirlwind', 'wild fires', 'wildfire',\n",
       "        'windstorm', 'wounded', 'wound', 'wreck', 'wreckage', 'wrecked'],\n",
       "       dtype=object),\n",
       " 214)"
      ]
     },
     "execution_count": 148,
     "metadata": {},
     "output_type": "execute_result"
    }
   ],
   "source": [
    "train_data['keyword_lem'].unique(), len(train_data['keyword_lem'].unique())"
   ]
  },
  {
   "cell_type": "code",
   "execution_count": null,
   "id": "ea395085",
   "metadata": {},
   "outputs": [],
   "source": []
  },
  {
   "cell_type": "markdown",
   "id": "00a080f1",
   "metadata": {},
   "source": [
    "# Location\n",
    "\n",
    "3342 locations exists"
   ]
  },
  {
   "cell_type": "code",
   "execution_count": 30,
   "id": "569a3a22",
   "metadata": {},
   "outputs": [
    {
     "data": {
      "text/plain": [
       "(array([nan, 'Birmingham', 'Est. September 2012 - Bristol', ...,\n",
       "        'Vancouver, Canada', 'London ', 'Lincoln'], dtype=object),\n",
       " 3342)"
      ]
     },
     "execution_count": 30,
     "metadata": {},
     "output_type": "execute_result"
    }
   ],
   "source": [
    "train_data['location'].unique(), len(train_data['location'].unique())"
   ]
  },
  {
   "cell_type": "code",
   "execution_count": 63,
   "id": "7446dbc4",
   "metadata": {},
   "outputs": [
    {
     "data": {
      "text/html": [
       "<div>\n",
       "<style scoped>\n",
       "    .dataframe tbody tr th:only-of-type {\n",
       "        vertical-align: middle;\n",
       "    }\n",
       "\n",
       "    .dataframe tbody tr th {\n",
       "        vertical-align: top;\n",
       "    }\n",
       "\n",
       "    .dataframe thead th {\n",
       "        text-align: right;\n",
       "    }\n",
       "</style>\n",
       "<table border=\"1\" class=\"dataframe\">\n",
       "  <thead>\n",
       "    <tr style=\"text-align: right;\">\n",
       "      <th></th>\n",
       "      <th>location</th>\n",
       "    </tr>\n",
       "  </thead>\n",
       "  <tbody>\n",
       "    <tr>\n",
       "      <th>5066</th>\n",
       "      <td>America of Founding Fathers</td>\n",
       "    </tr>\n",
       "    <tr>\n",
       "      <th>742</th>\n",
       "      <td>#expelcl*y</td>\n",
       "    </tr>\n",
       "    <tr>\n",
       "      <th>4176</th>\n",
       "      <td>NaN</td>\n",
       "    </tr>\n",
       "    <tr>\n",
       "      <th>2070</th>\n",
       "      <td>NaN</td>\n",
       "    </tr>\n",
       "    <tr>\n",
       "      <th>5866</th>\n",
       "      <td>Florida Forever</td>\n",
       "    </tr>\n",
       "    <tr>\n",
       "      <th>4184</th>\n",
       "      <td>Arizona</td>\n",
       "    </tr>\n",
       "    <tr>\n",
       "      <th>2292</th>\n",
       "      <td>London</td>\n",
       "    </tr>\n",
       "    <tr>\n",
       "      <th>1253</th>\n",
       "      <td>CORNFIELDS</td>\n",
       "    </tr>\n",
       "    <tr>\n",
       "      <th>6757</th>\n",
       "      <td>Toronto</td>\n",
       "    </tr>\n",
       "    <tr>\n",
       "      <th>1784</th>\n",
       "      <td>NaN</td>\n",
       "    </tr>\n",
       "  </tbody>\n",
       "</table>\n",
       "</div>"
      ],
      "text/plain": [
       "                         location\n",
       "5066  America of Founding Fathers\n",
       "742                    #expelcl*y\n",
       "4176                          NaN\n",
       "2070                          NaN\n",
       "5866              Florida Forever\n",
       "4184                      Arizona\n",
       "2292                       London\n",
       "1253                   CORNFIELDS\n",
       "6757                      Toronto\n",
       "1784                          NaN"
      ]
     },
     "execution_count": 63,
     "metadata": {},
     "output_type": "execute_result"
    }
   ],
   "source": [
    "train_data[['location']].sample(10)"
   ]
  },
  {
   "cell_type": "code",
   "execution_count": 65,
   "id": "d15d3ece",
   "metadata": {},
   "outputs": [],
   "source": [
    "remove_special = re.compile(\"[.;:!\\'?,\\\"()\\d\\[\\]<>%#\\^&=@\\+\\-\\$\\#\\\\/*]\")"
   ]
  },
  {
   "cell_type": "code",
   "execution_count": 74,
   "id": "dda6e01f",
   "metadata": {},
   "outputs": [],
   "source": [
    "import numpy as np"
   ]
  },
  {
   "cell_type": "code",
   "execution_count": 83,
   "id": "097a2db2",
   "metadata": {},
   "outputs": [],
   "source": [
    "import math"
   ]
  },
  {
   "cell_type": "code",
   "execution_count": 97,
   "id": "3b58607d",
   "metadata": {},
   "outputs": [],
   "source": [
    "def loc_prep(data):\n",
    "    data = data.lower()\n",
    "    data = remove_special.sub(' ', data)\n",
    "    data = re.sub(' +', ' ', data)\n",
    "    return data"
   ]
  },
  {
   "cell_type": "code",
   "execution_count": 94,
   "id": "b66decc2",
   "metadata": {},
   "outputs": [],
   "source": [
    "train_data.loc[train_data['location'].isnull() ,'location_prep'] = ''"
   ]
  },
  {
   "cell_type": "code",
   "execution_count": 98,
   "id": "0677814c",
   "metadata": {},
   "outputs": [
    {
     "name": "stderr",
     "output_type": "stream",
     "text": [
      "C:\\Users\\jaydenpark\\AppData\\Local\\Temp\\2\\ipykernel_7076\\1773747410.py:1: SettingWithCopyWarning: \n",
      "A value is trying to be set on a copy of a slice from a DataFrame.\n",
      "Try using .loc[row_indexer,col_indexer] = value instead\n",
      "\n",
      "See the caveats in the documentation: https://pandas.pydata.org/pandas-docs/stable/user_guide/indexing.html#returning-a-view-versus-a-copy\n",
      "  train_data['location_prep'] = train_data['location_prep'].apply(loc_prep)\n"
     ]
    }
   ],
   "source": [
    "train_data['location_prep'] = train_data['location_prep'].apply(loc_prep)"
   ]
  },
  {
   "cell_type": "code",
   "execution_count": 99,
   "id": "58d84028",
   "metadata": {},
   "outputs": [
    {
     "data": {
      "text/plain": [
       "(array(['', 'birmingham', 'est september bristol', ..., 'denton texas',\n",
       "        ' newcastleupontyne uk', 'lincoln'], dtype=object),\n",
       " 3076)"
      ]
     },
     "execution_count": 99,
     "metadata": {},
     "output_type": "execute_result"
    }
   ],
   "source": [
    "train_data['location_prep'].unique(), len(train_data['location_prep'].unique())"
   ]
  },
  {
   "cell_type": "markdown",
   "id": "3f099845",
   "metadata": {},
   "source": [
    "location data is not accurate.  \n",
    "some location data such as jupiter, everywhere seems no meaning.  \n",
    "Also there are many records that has no location.  \n",
    "It would be better to focus on keywords and text  "
   ]
  },
  {
   "cell_type": "code",
   "execution_count": 132,
   "id": "f8f3499f",
   "metadata": {},
   "outputs": [
    {
     "data": {
      "text/html": [
       "<div>\n",
       "<style scoped>\n",
       "    .dataframe tbody tr th:only-of-type {\n",
       "        vertical-align: middle;\n",
       "    }\n",
       "\n",
       "    .dataframe tbody tr th {\n",
       "        vertical-align: top;\n",
       "    }\n",
       "\n",
       "    .dataframe thead th {\n",
       "        text-align: right;\n",
       "    }\n",
       "</style>\n",
       "<table border=\"1\" class=\"dataframe\">\n",
       "  <thead>\n",
       "    <tr style=\"text-align: right;\">\n",
       "      <th></th>\n",
       "      <th>location_prep</th>\n",
       "    </tr>\n",
       "  </thead>\n",
       "  <tbody>\n",
       "    <tr>\n",
       "      <th>6711</th>\n",
       "      <td>jupiter</td>\n",
       "    </tr>\n",
       "    <tr>\n",
       "      <th>529</th>\n",
       "      <td>new york ny</td>\n",
       "    </tr>\n",
       "    <tr>\n",
       "      <th>6922</th>\n",
       "      <td>nyc</td>\n",
       "    </tr>\n",
       "    <tr>\n",
       "      <th>2092</th>\n",
       "      <td></td>\n",
       "    </tr>\n",
       "    <tr>\n",
       "      <th>914</th>\n",
       "      <td>under the blanket</td>\n",
       "    </tr>\n",
       "    <tr>\n",
       "      <th>5813</th>\n",
       "      <td></td>\n",
       "    </tr>\n",
       "    <tr>\n",
       "      <th>470</th>\n",
       "      <td>halton ontario</td>\n",
       "    </tr>\n",
       "    <tr>\n",
       "      <th>3392</th>\n",
       "      <td></td>\n",
       "    </tr>\n",
       "    <tr>\n",
       "      <th>6149</th>\n",
       "      <td>diamondville</td>\n",
       "    </tr>\n",
       "    <tr>\n",
       "      <th>1859</th>\n",
       "      <td>everywhere</td>\n",
       "    </tr>\n",
       "  </tbody>\n",
       "</table>\n",
       "</div>"
      ],
      "text/plain": [
       "          location_prep\n",
       "6711            jupiter\n",
       "529         new york ny\n",
       "6922                nyc\n",
       "2092                   \n",
       "914   under the blanket\n",
       "5813                   \n",
       "470      halton ontario\n",
       "3392                   \n",
       "6149       diamondville\n",
       "1859         everywhere"
      ]
     },
     "execution_count": 132,
     "metadata": {},
     "output_type": "execute_result"
    }
   ],
   "source": [
    "train_data[['location_prep']].sample(10)"
   ]
  },
  {
   "cell_type": "code",
   "execution_count": null,
   "id": "421a8c6d",
   "metadata": {},
   "outputs": [],
   "source": []
  },
  {
   "cell_type": "code",
   "execution_count": null,
   "id": "81218dd5",
   "metadata": {},
   "outputs": [],
   "source": []
  },
  {
   "cell_type": "code",
   "execution_count": null,
   "id": "aa18bc6a",
   "metadata": {},
   "outputs": [],
   "source": []
  },
  {
   "cell_type": "code",
   "execution_count": null,
   "id": "6dae0b2d",
   "metadata": {},
   "outputs": [],
   "source": []
  },
  {
   "cell_type": "markdown",
   "id": "a4c89a96",
   "metadata": {},
   "source": [
    "## Word tokens of text"
   ]
  },
  {
   "cell_type": "code",
   "execution_count": 17,
   "id": "5e161f2d",
   "metadata": {
    "scrolled": true
   },
   "outputs": [],
   "source": [
    "train_data['n_tokens'] = train_data['text'].apply(lambda x: len(word_tokenize(x)))"
   ]
  },
  {
   "cell_type": "code",
   "execution_count": 19,
   "id": "fe3afb29",
   "metadata": {},
   "outputs": [
    {
     "data": {
      "text/plain": [
       "count    7613.000000\n",
       "mean       18.914226\n",
       "std         6.871321\n",
       "min         1.000000\n",
       "25%        14.000000\n",
       "50%        19.000000\n",
       "75%        24.000000\n",
       "max        72.000000\n",
       "Name: n_tokens, dtype: float64"
      ]
     },
     "execution_count": 19,
     "metadata": {},
     "output_type": "execute_result"
    }
   ],
   "source": [
    "train_data['n_tokens'].describe()"
   ]
  },
  {
   "cell_type": "code",
   "execution_count": null,
   "id": "4604f47b",
   "metadata": {},
   "outputs": [],
   "source": [
    "train_data['']"
   ]
  },
  {
   "cell_type": "code",
   "execution_count": null,
   "id": "cc5e342c",
   "metadata": {},
   "outputs": [],
   "source": []
  }
 ],
 "metadata": {
  "kernelspec": {
   "display_name": "Python 3 (ipykernel)",
   "language": "python",
   "name": "python3"
  },
  "language_info": {
   "codemirror_mode": {
    "name": "ipython",
    "version": 3
   },
   "file_extension": ".py",
   "mimetype": "text/x-python",
   "name": "python",
   "nbconvert_exporter": "python",
   "pygments_lexer": "ipython3",
   "version": "3.9.12"
  }
 },
 "nbformat": 4,
 "nbformat_minor": 5
}
